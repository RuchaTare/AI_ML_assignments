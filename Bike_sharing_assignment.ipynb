{
  "nbformat": 4,
  "nbformat_minor": 0,
  "metadata": {
    "colab": {
      "name": "Bike_sharing_assignment.ipynb",
      "provenance": [],
      "collapsed_sections": []
    },
    "kernelspec": {
      "name": "python3",
      "display_name": "Python 3"
    }
  },
  "cells": [
    {
      "cell_type": "markdown",
      "metadata": {
        "id": "qG4DFODTUXTH"
      },
      "source": [
        "#Bike Sharing Assignment - Linear Regression - By Rucha Tare"
      ]
    },
    {
      "cell_type": "markdown",
      "metadata": {
        "id": "XA6yJUQwUgLB"
      },
      "source": [
        "##Step1: Data Sourcing"
      ]
    },
    {
      "cell_type": "markdown",
      "metadata": {
        "id": "J8XIq8WTUlrR"
      },
      "source": [
        "###Importing Libraries to python , mapping Gdrive , Importing datasets"
      ]
    },
    {
      "cell_type": "code",
      "metadata": {
        "id": "6jHThJ43OiZU"
      },
      "source": [
        "#Ignore warnings\n",
        "import warnings\n",
        "warnings.filterwarnings('ignore')\n",
        "#Importing needed libraries to python\n",
        "import pandas as pd\n",
        "import numpy as np\n",
        "import seaborn as sns\n",
        "import matplotlib.pyplot as plt\n",
        "from datetime import datetime\n",
        "%matplotlib inline\n",
        "from sklearn import preprocessing\n",
        "from sklearn.linear_model import LinearRegression\n",
        "from sklearn.feature_selection import RFE\n",
        "from sklearn.preprocessing import LabelEncoder\n",
        "from sklearn.model_selection import train_test_split\n",
        "from sklearn.preprocessing import MinMaxScaler\n",
        "from statsmodels.stats.outliers_influence import variance_inflation_factor\n",
        "from sklearn.metrics import r2_score\n",
        "import statsmodels.api as sm\n",
        " "
      ],
      "execution_count": null,
      "outputs": []
    },
    {
      "cell_type": "markdown",
      "metadata": {
        "id": "ZruX1GnJasJh"
      },
      "source": [
        "###1.1: Set PD options\n",
        "as a practice, although the data is smaller in size"
      ]
    },
    {
      "cell_type": "code",
      "metadata": {
        "id": "aIWmbqmUavfT"
      },
      "source": [
        "pd.options.mode.chained_assignment = None\n",
        "pd.set_option('display.float_format', lambda x: '%.3f' % x)\n",
        "pd.set_option('display.max_columns', None)\n",
        "pd.set_option('display.max_rows', None)"
      ],
      "execution_count": null,
      "outputs": []
    },
    {
      "cell_type": "markdown",
      "metadata": {
        "id": "1W2xiAg_axPs"
      },
      "source": [
        "###1.2:Import CSV day file "
      ]
    },
    {
      "cell_type": "markdown",
      "metadata": {
        "id": "qXnze9hCa7KJ"
      },
      "source": [
        "Mounting Gdrive "
      ]
    },
    {
      "cell_type": "code",
      "metadata": {
        "id": "Cg5toGy5bA1k",
        "colab": {
          "base_uri": "https://localhost:8080/"
        },
        "outputId": "837b9e9b-8e10-47ae-f52d-d5b5d15ca471"
      },
      "source": [
        "from google.colab import drive \n",
        "drive.mount('/content/drive')"
      ],
      "execution_count": null,
      "outputs": [
        {
          "output_type": "stream",
          "text": [
            "Drive already mounted at /content/drive; to attempt to forcibly remount, call drive.mount(\"/content/drive\", force_remount=True).\n"
          ],
          "name": "stdout"
        }
      ]
    },
    {
      "cell_type": "markdown",
      "metadata": {
        "id": "8WNUYDDPbLOA"
      },
      "source": [
        "Importing CSV file "
      ]
    },
    {
      "cell_type": "code",
      "metadata": {
        "id": "fdAA8d9PbN_2"
      },
      "source": [
        "bike = pd.read_csv(\"/content/drive/My Drive/day.csv\", engine='python', encoding='utf-8')"
      ],
      "execution_count": null,
      "outputs": []
    },
    {
      "cell_type": "markdown",
      "metadata": {
        "id": "vy1SIC1ybXFO"
      },
      "source": [
        "Checking the data imported"
      ]
    },
    {
      "cell_type": "code",
      "metadata": {
        "id": "BOC0YUihbZyA",
        "colab": {
          "base_uri": "https://localhost:8080/"
        },
        "outputId": "e1761316-be7b-4c9f-8274-41869030c700"
      },
      "source": [
        "bike.shape"
      ],
      "execution_count": null,
      "outputs": [
        {
          "output_type": "execute_result",
          "data": {
            "text/plain": [
              "(730, 16)"
            ]
          },
          "metadata": {
            "tags": []
          },
          "execution_count": 127
        }
      ]
    },
    {
      "cell_type": "code",
      "metadata": {
        "id": "HZ0gaMlMbl6G",
        "colab": {
          "base_uri": "https://localhost:8080/"
        },
        "outputId": "e90326de-085e-49d1-a34f-bfb621027e82"
      },
      "source": [
        "bike.info()"
      ],
      "execution_count": null,
      "outputs": [
        {
          "output_type": "stream",
          "text": [
            "<class 'pandas.core.frame.DataFrame'>\n",
            "RangeIndex: 730 entries, 0 to 729\n",
            "Data columns (total 16 columns):\n",
            " #   Column      Non-Null Count  Dtype  \n",
            "---  ------      --------------  -----  \n",
            " 0   instant     730 non-null    int64  \n",
            " 1   dteday      730 non-null    object \n",
            " 2   season      730 non-null    int64  \n",
            " 3   yr          730 non-null    int64  \n",
            " 4   mnth        730 non-null    int64  \n",
            " 5   holiday     730 non-null    int64  \n",
            " 6   weekday     730 non-null    int64  \n",
            " 7   workingday  730 non-null    int64  \n",
            " 8   weathersit  730 non-null    int64  \n",
            " 9   temp        730 non-null    float64\n",
            " 10  atemp       730 non-null    float64\n",
            " 11  hum         730 non-null    float64\n",
            " 12  windspeed   730 non-null    float64\n",
            " 13  casual      730 non-null    int64  \n",
            " 14  registered  730 non-null    int64  \n",
            " 15  cnt         730 non-null    int64  \n",
            "dtypes: float64(4), int64(11), object(1)\n",
            "memory usage: 91.4+ KB\n"
          ],
          "name": "stdout"
        }
      ]
    },
    {
      "cell_type": "code",
      "metadata": {
        "id": "AIFulzwibteo",
        "colab": {
          "base_uri": "https://localhost:8080/",
          "height": 195
        },
        "outputId": "e841c519-189d-4cf1-a656-bb5da8996454"
      },
      "source": [
        "bike.head(5)"
      ],
      "execution_count": null,
      "outputs": [
        {
          "output_type": "execute_result",
          "data": {
            "text/html": [
              "<div>\n",
              "<style scoped>\n",
              "    .dataframe tbody tr th:only-of-type {\n",
              "        vertical-align: middle;\n",
              "    }\n",
              "\n",
              "    .dataframe tbody tr th {\n",
              "        vertical-align: top;\n",
              "    }\n",
              "\n",
              "    .dataframe thead th {\n",
              "        text-align: right;\n",
              "    }\n",
              "</style>\n",
              "<table border=\"1\" class=\"dataframe\">\n",
              "  <thead>\n",
              "    <tr style=\"text-align: right;\">\n",
              "      <th></th>\n",
              "      <th>instant</th>\n",
              "      <th>dteday</th>\n",
              "      <th>season</th>\n",
              "      <th>yr</th>\n",
              "      <th>mnth</th>\n",
              "      <th>holiday</th>\n",
              "      <th>weekday</th>\n",
              "      <th>workingday</th>\n",
              "      <th>weathersit</th>\n",
              "      <th>temp</th>\n",
              "      <th>atemp</th>\n",
              "      <th>hum</th>\n",
              "      <th>windspeed</th>\n",
              "      <th>casual</th>\n",
              "      <th>registered</th>\n",
              "      <th>cnt</th>\n",
              "    </tr>\n",
              "  </thead>\n",
              "  <tbody>\n",
              "    <tr>\n",
              "      <th>0</th>\n",
              "      <td>1</td>\n",
              "      <td>01-01-2018</td>\n",
              "      <td>1</td>\n",
              "      <td>0</td>\n",
              "      <td>1</td>\n",
              "      <td>0</td>\n",
              "      <td>6</td>\n",
              "      <td>0</td>\n",
              "      <td>2</td>\n",
              "      <td>14.111</td>\n",
              "      <td>18.181</td>\n",
              "      <td>80.583</td>\n",
              "      <td>10.750</td>\n",
              "      <td>331</td>\n",
              "      <td>654</td>\n",
              "      <td>985</td>\n",
              "    </tr>\n",
              "    <tr>\n",
              "      <th>1</th>\n",
              "      <td>2</td>\n",
              "      <td>02-01-2018</td>\n",
              "      <td>1</td>\n",
              "      <td>0</td>\n",
              "      <td>1</td>\n",
              "      <td>0</td>\n",
              "      <td>0</td>\n",
              "      <td>0</td>\n",
              "      <td>2</td>\n",
              "      <td>14.903</td>\n",
              "      <td>17.687</td>\n",
              "      <td>69.609</td>\n",
              "      <td>16.652</td>\n",
              "      <td>131</td>\n",
              "      <td>670</td>\n",
              "      <td>801</td>\n",
              "    </tr>\n",
              "    <tr>\n",
              "      <th>2</th>\n",
              "      <td>3</td>\n",
              "      <td>03-01-2018</td>\n",
              "      <td>1</td>\n",
              "      <td>0</td>\n",
              "      <td>1</td>\n",
              "      <td>0</td>\n",
              "      <td>1</td>\n",
              "      <td>1</td>\n",
              "      <td>1</td>\n",
              "      <td>8.051</td>\n",
              "      <td>9.470</td>\n",
              "      <td>43.727</td>\n",
              "      <td>16.637</td>\n",
              "      <td>120</td>\n",
              "      <td>1229</td>\n",
              "      <td>1349</td>\n",
              "    </tr>\n",
              "    <tr>\n",
              "      <th>3</th>\n",
              "      <td>4</td>\n",
              "      <td>04-01-2018</td>\n",
              "      <td>1</td>\n",
              "      <td>0</td>\n",
              "      <td>1</td>\n",
              "      <td>0</td>\n",
              "      <td>2</td>\n",
              "      <td>1</td>\n",
              "      <td>1</td>\n",
              "      <td>8.200</td>\n",
              "      <td>10.606</td>\n",
              "      <td>59.044</td>\n",
              "      <td>10.740</td>\n",
              "      <td>108</td>\n",
              "      <td>1454</td>\n",
              "      <td>1562</td>\n",
              "    </tr>\n",
              "    <tr>\n",
              "      <th>4</th>\n",
              "      <td>5</td>\n",
              "      <td>05-01-2018</td>\n",
              "      <td>1</td>\n",
              "      <td>0</td>\n",
              "      <td>1</td>\n",
              "      <td>0</td>\n",
              "      <td>3</td>\n",
              "      <td>1</td>\n",
              "      <td>1</td>\n",
              "      <td>9.305</td>\n",
              "      <td>11.463</td>\n",
              "      <td>43.696</td>\n",
              "      <td>12.522</td>\n",
              "      <td>82</td>\n",
              "      <td>1518</td>\n",
              "      <td>1600</td>\n",
              "    </tr>\n",
              "  </tbody>\n",
              "</table>\n",
              "</div>"
            ],
            "text/plain": [
              "   instant      dteday  season  yr  mnth  holiday  weekday  workingday  \\\n",
              "0        1  01-01-2018       1   0     1        0        6           0   \n",
              "1        2  02-01-2018       1   0     1        0        0           0   \n",
              "2        3  03-01-2018       1   0     1        0        1           1   \n",
              "3        4  04-01-2018       1   0     1        0        2           1   \n",
              "4        5  05-01-2018       1   0     1        0        3           1   \n",
              "\n",
              "   weathersit   temp  atemp    hum  windspeed  casual  registered   cnt  \n",
              "0           2 14.111 18.181 80.583     10.750     331         654   985  \n",
              "1           2 14.903 17.687 69.609     16.652     131         670   801  \n",
              "2           1  8.051  9.470 43.727     16.637     120        1229  1349  \n",
              "3           1  8.200 10.606 59.044     10.740     108        1454  1562  \n",
              "4           1  9.305 11.463 43.696     12.522      82        1518  1600  "
            ]
          },
          "metadata": {
            "tags": []
          },
          "execution_count": 129
        }
      ]
    },
    {
      "cell_type": "markdown",
      "metadata": {
        "id": "iLA46QZPbsvS"
      },
      "source": [
        "Checking the datatypes of the dataset "
      ]
    },
    {
      "cell_type": "code",
      "metadata": {
        "id": "AptEsU5QbtA6",
        "colab": {
          "base_uri": "https://localhost:8080/"
        },
        "outputId": "23b10391-1f9e-41f1-9a51-c5ae112a595c"
      },
      "source": [
        "bike.dtypes"
      ],
      "execution_count": null,
      "outputs": [
        {
          "output_type": "execute_result",
          "data": {
            "text/plain": [
              "instant         int64\n",
              "dteday         object\n",
              "season          int64\n",
              "yr              int64\n",
              "mnth            int64\n",
              "holiday         int64\n",
              "weekday         int64\n",
              "workingday      int64\n",
              "weathersit      int64\n",
              "temp          float64\n",
              "atemp         float64\n",
              "hum           float64\n",
              "windspeed     float64\n",
              "casual          int64\n",
              "registered      int64\n",
              "cnt             int64\n",
              "dtype: object"
            ]
          },
          "metadata": {
            "tags": []
          },
          "execution_count": 130
        }
      ]
    },
    {
      "cell_type": "markdown",
      "metadata": {
        "id": "12LW6WIbb_zs"
      },
      "source": [
        "##Step2: Data Cleaning"
      ]
    },
    {
      "cell_type": "markdown",
      "metadata": {
        "id": "DjlR0K8scHL6"
      },
      "source": [
        "###2.1: Fixing null values"
      ]
    },
    {
      "cell_type": "markdown",
      "metadata": {
        "id": "ky172vULcPWV"
      },
      "source": [
        "#### Checking null values "
      ]
    },
    {
      "cell_type": "code",
      "metadata": {
        "id": "9xXrPeWlcYAT",
        "colab": {
          "base_uri": "https://localhost:8080/"
        },
        "outputId": "8f1405a5-28ed-4369-8729-1cce2e5deb08"
      },
      "source": [
        "(bike.isna() == True).sum().sort_values(ascending=False)"
      ],
      "execution_count": null,
      "outputs": [
        {
          "output_type": "execute_result",
          "data": {
            "text/plain": [
              "cnt           0\n",
              "registered    0\n",
              "casual        0\n",
              "windspeed     0\n",
              "hum           0\n",
              "atemp         0\n",
              "temp          0\n",
              "weathersit    0\n",
              "workingday    0\n",
              "weekday       0\n",
              "holiday       0\n",
              "mnth          0\n",
              "yr            0\n",
              "season        0\n",
              "dteday        0\n",
              "instant       0\n",
              "dtype: int64"
            ]
          },
          "metadata": {
            "tags": []
          },
          "execution_count": 131
        }
      ]
    },
    {
      "cell_type": "markdown",
      "metadata": {
        "id": "2kQi-iqvcgDY"
      },
      "source": [
        "There are no null values in the any of the columns , hence there is no reason to check further for percentages of nulls "
      ]
    },
    {
      "cell_type": "markdown",
      "metadata": {
        "id": "6yrPwqTycwgV"
      },
      "source": [
        "###2.2: Fixing duplicate columns"
      ]
    },
    {
      "cell_type": "markdown",
      "metadata": {
        "id": "px3Vn2nddbcY"
      },
      "source": [
        "#### Checking and dropping duplicate rows"
      ]
    },
    {
      "cell_type": "code",
      "metadata": {
        "id": "KtTVWsuidkk0"
      },
      "source": [
        "bike.drop_duplicates(subset=None,inplace=True)"
      ],
      "execution_count": null,
      "outputs": []
    },
    {
      "cell_type": "code",
      "metadata": {
        "id": "YXBCIWTSd5lL",
        "colab": {
          "base_uri": "https://localhost:8080/"
        },
        "outputId": "8c8dd570-fa7c-49ff-ffe4-bce6b8ded72f"
      },
      "source": [
        "bike.shape"
      ],
      "execution_count": null,
      "outputs": [
        {
          "output_type": "execute_result",
          "data": {
            "text/plain": [
              "(730, 16)"
            ]
          },
          "metadata": {
            "tags": []
          },
          "execution_count": 133
        }
      ]
    },
    {
      "cell_type": "markdown",
      "metadata": {
        "id": "FXgeKrz6d8kW"
      },
      "source": [
        "There are no duplicate rows in the data set"
      ]
    },
    {
      "cell_type": "markdown",
      "metadata": {
        "id": "Mf99aQ3WeCjL"
      },
      "source": [
        "###2.3: Fixing irrelevant columns"
      ]
    },
    {
      "cell_type": "markdown",
      "metadata": {
        "id": "2HWUphwseHlP"
      },
      "source": [
        "####Checking the columns "
      ]
    },
    {
      "cell_type": "code",
      "metadata": {
        "id": "G2R5vpoyeqEB",
        "colab": {
          "base_uri": "https://localhost:8080/"
        },
        "outputId": "fd6e826c-07a2-4db5-b175-be6a804f42a4"
      },
      "source": [
        "bike.columns"
      ],
      "execution_count": null,
      "outputs": [
        {
          "output_type": "execute_result",
          "data": {
            "text/plain": [
              "Index(['instant', 'dteday', 'season', 'yr', 'mnth', 'holiday', 'weekday',\n",
              "       'workingday', 'weathersit', 'temp', 'atemp', 'hum', 'windspeed',\n",
              "       'casual', 'registered', 'cnt'],\n",
              "      dtype='object')"
            ]
          },
          "metadata": {
            "tags": []
          },
          "execution_count": 134
        }
      ]
    },
    {
      "cell_type": "code",
      "metadata": {
        "id": "oSWDJKffmjJ2",
        "colab": {
          "base_uri": "https://localhost:8080/"
        },
        "outputId": "66d28149-d72f-4798-cb66-954305aaf1c4"
      },
      "source": [
        "bike.info()"
      ],
      "execution_count": null,
      "outputs": [
        {
          "output_type": "stream",
          "text": [
            "<class 'pandas.core.frame.DataFrame'>\n",
            "Int64Index: 730 entries, 0 to 729\n",
            "Data columns (total 16 columns):\n",
            " #   Column      Non-Null Count  Dtype  \n",
            "---  ------      --------------  -----  \n",
            " 0   instant     730 non-null    int64  \n",
            " 1   dteday      730 non-null    object \n",
            " 2   season      730 non-null    int64  \n",
            " 3   yr          730 non-null    int64  \n",
            " 4   mnth        730 non-null    int64  \n",
            " 5   holiday     730 non-null    int64  \n",
            " 6   weekday     730 non-null    int64  \n",
            " 7   workingday  730 non-null    int64  \n",
            " 8   weathersit  730 non-null    int64  \n",
            " 9   temp        730 non-null    float64\n",
            " 10  atemp       730 non-null    float64\n",
            " 11  hum         730 non-null    float64\n",
            " 12  windspeed   730 non-null    float64\n",
            " 13  casual      730 non-null    int64  \n",
            " 14  registered  730 non-null    int64  \n",
            " 15  cnt         730 non-null    int64  \n",
            "dtypes: float64(4), int64(11), object(1)\n",
            "memory usage: 97.0+ KB\n"
          ],
          "name": "stdout"
        }
      ]
    },
    {
      "cell_type": "markdown",
      "metadata": {
        "id": "1cLKAjalgq4Q"
      },
      "source": [
        "####**Column cnt is our target variable**"
      ]
    },
    {
      "cell_type": "markdown",
      "metadata": {
        "id": "kk77Fq1Yes-7"
      },
      "source": [
        "As we look at the dataset we deduce that below columns are irrelevant to our analysis\n",
        "1. instant : This columns is just a counter that we donot require for analysis\n",
        "2. casual and regsitered : Both of these columns are to show the type of users , this is irrelevant to our analysis\n",
        "3. atemp : atemp is adjusted temperature , since we already have temparature we will drop this column\n",
        "4. dteday : Since we already have day, month and year we donot need date"
      ]
    },
    {
      "cell_type": "code",
      "metadata": {
        "id": "KU7ZSOyfgLZo"
      },
      "source": [
        "col_irrelevant=['instant','casual','registered','atemp','dteday']\n",
        "bike.drop(col_irrelevant, axis = 1, inplace = True)"
      ],
      "execution_count": null,
      "outputs": []
    },
    {
      "cell_type": "markdown",
      "metadata": {
        "id": "OoDvquPfgeJr"
      },
      "source": [
        "Checking the shape of new dataset"
      ]
    },
    {
      "cell_type": "code",
      "metadata": {
        "id": "gzk-Eotdgha4",
        "colab": {
          "base_uri": "https://localhost:8080/"
        },
        "outputId": "05190574-5636-486d-9b5c-fed04c754030"
      },
      "source": [
        "bike.shape"
      ],
      "execution_count": null,
      "outputs": [
        {
          "output_type": "execute_result",
          "data": {
            "text/plain": [
              "(730, 11)"
            ]
          },
          "metadata": {
            "tags": []
          },
          "execution_count": 137
        }
      ]
    },
    {
      "cell_type": "markdown",
      "metadata": {
        "id": "LrkblDsogkVe"
      },
      "source": [
        "####**Now our dataset has 11 columns**"
      ]
    },
    {
      "cell_type": "markdown",
      "metadata": {
        "id": "C1q8_pQmg4z0"
      },
      "source": [
        "####Checking for redundant data/non unique columns"
      ]
    },
    {
      "cell_type": "code",
      "metadata": {
        "id": "-WS80xpWg_eK",
        "colab": {
          "base_uri": "https://localhost:8080/"
        },
        "outputId": "1b2ad07f-0a55-4ac1-aa92-5965969112f9"
      },
      "source": [
        "unique_col = bike.nunique()\n",
        "unique_col = unique_col[unique_col.values == 1]\n",
        "print(unique_col)"
      ],
      "execution_count": null,
      "outputs": [
        {
          "output_type": "stream",
          "text": [
            "Series([], dtype: int64)\n"
          ],
          "name": "stdout"
        }
      ]
    },
    {
      "cell_type": "markdown",
      "metadata": {
        "id": "W1h25vFuhm3b"
      },
      "source": [
        "There are no non unique columns "
      ]
    },
    {
      "cell_type": "markdown",
      "metadata": {
        "id": "IWLqdTPCiNm6"
      },
      "source": [
        "###2.4 Fixing Invalid values "
      ]
    },
    {
      "cell_type": "markdown",
      "metadata": {
        "id": "JmIP-toUjBqN"
      },
      "source": [
        "We will change the labels "
      ]
    },
    {
      "cell_type": "code",
      "metadata": {
        "id": "M1ag5SY-pNdM"
      },
      "source": [
        "season_labels = {\n",
        "    1 : 'spring',\n",
        "    2 : 'summer',\n",
        "    3 : 'fall',\n",
        "    4 : 'winter'\n",
        "}\n",
        "bike['season'] = bike['season'].replace(season_labels)"
      ],
      "execution_count": null,
      "outputs": []
    },
    {
      "cell_type": "code",
      "metadata": {
        "id": "7mLtUzXRp8_5"
      },
      "source": [
        "mnth_labels = {\n",
        "    1 : 'january',\n",
        "    2 : 'february',\n",
        "    3 : 'march',\n",
        "    4 : 'april',\n",
        "    5 : 'may',\n",
        "    6 : 'june',\n",
        "    7 : 'july',\n",
        "    8 : 'august',\n",
        "    9 : 'september',\n",
        "    10 : 'october',\n",
        "    11 : 'november',\n",
        "    12 : 'december'\n",
        "}\n",
        "bike['mnth'] = bike['mnth'].replace(mnth_labels)"
      ],
      "execution_count": null,
      "outputs": []
    },
    {
      "cell_type": "markdown",
      "metadata": {
        "id": "99hGVTjPqXbA"
      },
      "source": [
        "As per calendar of 2018 , 01-01-2018 was a monday i.e weekday = 6 as per data dictionary. so we will go ahead with this standard "
      ]
    },
    {
      "cell_type": "code",
      "metadata": {
        "id": "H-A1YLV0plWd"
      },
      "source": [
        "weekday_labels = { \n",
        "    0 : 'tuesday',\n",
        "    1 : 'wednesday',\n",
        "    2 : 'thursday',\n",
        "    3 : 'friday',\n",
        "    4 : 'saturday',\n",
        "    5 : 'sunday',\n",
        "    6 : 'monday'\n",
        "}\n",
        "bike['weekday'] = bike['weekday'].replace(weekday_labels)"
      ],
      "execution_count": null,
      "outputs": []
    },
    {
      "cell_type": "code",
      "metadata": {
        "id": "W-7LBf18pnxY"
      },
      "source": [
        "weathersit_labels = {\n",
        "    1 : 'clear',\n",
        "    2 : 'cloudy',\n",
        "    3 : 'light snow/rain',\n",
        "    4 : 'heavy rain'\n",
        "}\n",
        "bike['weathersit'] = bike['weathersit'].replace(weathersit_labels)"
      ],
      "execution_count": null,
      "outputs": []
    },
    {
      "cell_type": "markdown",
      "metadata": {
        "id": "YB_No29dpgji"
      },
      "source": [
        "##Step3 : Exploratory Data Analysis"
      ]
    },
    {
      "cell_type": "markdown",
      "metadata": {
        "id": "oBmGahFtpt7K"
      },
      "source": [
        "###3.1 Target variable analysis \n"
      ]
    },
    {
      "cell_type": "code",
      "metadata": {
        "id": "pFewNeAZp0A8",
        "colab": {
          "base_uri": "https://localhost:8080/"
        },
        "outputId": "c11e87fa-4d59-40ab-f883-91f1a1198dbf"
      },
      "source": [
        "round(bike['cnt'].mean())"
      ],
      "execution_count": null,
      "outputs": [
        {
          "output_type": "execute_result",
          "data": {
            "text/plain": [
              "4508"
            ]
          },
          "metadata": {
            "tags": []
          },
          "execution_count": 143
        }
      ]
    },
    {
      "cell_type": "markdown",
      "metadata": {
        "id": "uZukm72mqWVR"
      },
      "source": [
        "Mean count of bike rented is 4508 "
      ]
    },
    {
      "cell_type": "markdown",
      "metadata": {
        "id": "GQ4pLBeOqeIy"
      },
      "source": [
        "###3.2: Data visualization using plots"
      ]
    },
    {
      "cell_type": "code",
      "metadata": {
        "id": "taWSfqaQsaSS"
      },
      "source": [
        "def barplot(x_col_name):\n",
        "    sns.barplot(x=x_col_name, y='cnt', data=bike)\n",
        "    plt.show()"
      ],
      "execution_count": null,
      "outputs": []
    },
    {
      "cell_type": "markdown",
      "metadata": {
        "id": "gVXth0Ukquwh"
      },
      "source": [
        "Plotting our target variable against predictor variables"
      ]
    },
    {
      "cell_type": "code",
      "metadata": {
        "id": "c8Xh5Ja3qznR",
        "colab": {
          "base_uri": "https://localhost:8080/",
          "height": 334
        },
        "outputId": "34132b4d-0447-4a3b-cd42-6924b1fd6e97"
      },
      "source": [
        "plt.figure(figsize=(10, 5))\n",
        "barplot('season')"
      ],
      "execution_count": null,
      "outputs": [
        {
          "output_type": "display_data",
          "data": {
            "image/png": "[encoded data removed]",
            "text/plain": [
              "<Figure size 720x360 with 1 Axes>"
            ]
          },
          "metadata": {
            "tags": [],
            "needs_background": "light"
          }
        }
      ]
    },
    {
      "cell_type": "markdown",
      "metadata": {
        "id": "SjehTUdTsmla"
      },
      "source": [
        "####**Insight:Maximum bikes are rented in fall**"
      ]
    },
    {
      "cell_type": "markdown",
      "metadata": {
        "id": "zW9ftNq4s4Zh"
      },
      "source": [
        "Plotting year against cnt\n",
        "here 1 = 2019\n",
        "and 0 = 2018"
      ]
    },
    {
      "cell_type": "code",
      "metadata": {
        "id": "9DYqAVc-swaL",
        "colab": {
          "base_uri": "https://localhost:8080/",
          "height": 334
        },
        "outputId": "5fed6df1-ff4a-4420-914d-06ee56e2f9d1"
      },
      "source": [
        "plt.figure(figsize=(5, 5))\n",
        "barplot('yr')"
      ],
      "execution_count": null,
      "outputs": [
        {
          "output_type": "display_data",
          "data": {
            "image/png": "[encoded data removed]",
            "text/plain": [
              "<Figure size 360x360 with 1 Axes>"
            ]
          },
          "metadata": {
            "tags": [],
            "needs_background": "light"
          }
        }
      ]
    },
    {
      "cell_type": "markdown",
      "metadata": {
        "id": "gPCJfbGLswu7"
      },
      "source": [
        "####**Insights:max bikes are rented in the year 2019**"
      ]
    },
    {
      "cell_type": "markdown",
      "metadata": {
        "id": "JnnzLnAUtR2d"
      },
      "source": [
        "Plotting mnth against cnt\n",
        "Here jan is represented by 1 and Dec by 12 and so on"
      ]
    },
    {
      "cell_type": "code",
      "metadata": {
        "id": "a6o9g9MEtR2f",
        "colab": {
          "base_uri": "https://localhost:8080/",
          "height": 334
        },
        "outputId": "c7abc40b-0f88-4364-fe21-ba6cb8b71be5"
      },
      "source": [
        "plt.figure(figsize=(15, 5))\n",
        "barplot('mnth')"
      ],
      "execution_count": null,
      "outputs": [
        {
          "output_type": "display_data",
          "data": {
            "image/png": "[encoded data removed]",
            "text/plain": [
              "<Figure size 1080x360 with 1 Axes>"
            ]
          },
          "metadata": {
            "tags": [],
            "needs_background": "light"
          }
        }
      ]
    },
    {
      "cell_type": "markdown",
      "metadata": {
        "id": "D_NMqhKctR2n"
      },
      "source": [
        "####**Insights: Most number of bikes are rented in June**"
      ]
    },
    {
      "cell_type": "markdown",
      "metadata": {
        "id": "02m3oXGot-A9"
      },
      "source": [
        "Plotting holiday against cnt\n",
        "Here holiday is represented by 1 and Non holiday  by 0"
      ]
    },
    {
      "cell_type": "code",
      "metadata": {
        "id": "EFPphKuYt-BB",
        "colab": {
          "base_uri": "https://localhost:8080/",
          "height": 334
        },
        "outputId": "692a8743-3562-4bd9-aab0-3094a8f8a3fe"
      },
      "source": [
        "plt.figure(figsize=(5, 5))\n",
        "barplot('holiday')"
      ],
      "execution_count": null,
      "outputs": [
        {
          "output_type": "display_data",
          "data": {
            "image/png": "[encoded data removed]",
            "text/plain": [
              "<Figure size 360x360 with 1 Axes>"
            ]
          },
          "metadata": {
            "tags": [],
            "needs_background": "light"
          }
        }
      ]
    },
    {
      "cell_type": "markdown",
      "metadata": {
        "id": "am45_305t-BN"
      },
      "source": [
        "####**Insights: More number of bikes are rented on non holiday**"
      ]
    },
    {
      "cell_type": "markdown",
      "metadata": {
        "id": "6QnUD1X8uznr"
      },
      "source": [
        "Plotting weekday against cnt"
      ]
    },
    {
      "cell_type": "code",
      "metadata": {
        "id": "WU8EePW6uznt",
        "colab": {
          "base_uri": "https://localhost:8080/",
          "height": 334
        },
        "outputId": "95f08d61-dc2a-438a-ea3d-077818dc4e30"
      },
      "source": [
        "plt.figure(figsize=(10, 5))\n",
        "barplot('weekday')"
      ],
      "execution_count": null,
      "outputs": [
        {
          "output_type": "display_data",
          "data": {
            "image/png": "[encoded data removed]",
            "text/plain": [
              "<Figure size 720x360 with 1 Axes>"
            ]
          },
          "metadata": {
            "tags": [],
            "needs_background": "light"
          }
        }
      ]
    },
    {
      "cell_type": "markdown",
      "metadata": {
        "id": "WhzUwY-_uzn2"
      },
      "source": [
        "####**Insights: More number of bikes are rented on Saturday**"
      ]
    },
    {
      "cell_type": "markdown",
      "metadata": {
        "id": "73cd3CKRvU6J"
      },
      "source": [
        "Plotting workingday against cnt\n",
        "here working day = 1 and holiday/weekend = 0 "
      ]
    },
    {
      "cell_type": "code",
      "metadata": {
        "id": "bDqjxPsLvU6L",
        "colab": {
          "base_uri": "https://localhost:8080/",
          "height": 338
        },
        "outputId": "d70c062b-37ff-45c0-a9bc-d82a81caf1f3"
      },
      "source": [
        "plt.figure(figsize=(5, 5))\n",
        "barplot('workingday')"
      ],
      "execution_count": null,
      "outputs": [
        {
          "output_type": "display_data",
          "data": {
            "image/png": "[encoded data removed]",
            "text/plain": [
              "<Figure size 360x360 with 1 Axes>"
            ]
          },
          "metadata": {
            "tags": [],
            "needs_background": "light"
          }
        }
      ]
    },
    {
      "cell_type": "markdown",
      "metadata": {
        "id": "VNu2DpQCvU6W"
      },
      "source": [
        "####**Insights: More number of bikes are rented on working day**"
      ]
    },
    {
      "cell_type": "markdown",
      "metadata": {
        "id": "HFHXV5WrwDrl"
      },
      "source": [
        "Plotting weathersit against cnt\n",
        "here \n",
        "1. Clear, Few clouds, Partly cloudy\n",
        "2. Mist + Cloudy, Mist + Broken clouds, Mist + Few clouds, Mist\n",
        "3. Light Snow, Light Rain + Thunderstorm + Scattered clouds, Light Rain + Scattered clouds\n",
        "4. Heavy Rain + Ice Pallets + Thunderstorm + Mist, Snow + Fog"
      ]
    },
    {
      "cell_type": "code",
      "metadata": {
        "id": "o26l9jhmwDrp",
        "colab": {
          "base_uri": "https://localhost:8080/",
          "height": 334
        },
        "outputId": "200e44e8-fe9d-453b-d8da-84c56f885e13"
      },
      "source": [
        "plt.figure(figsize=(5, 5))\n",
        "barplot('weathersit')"
      ],
      "execution_count": null,
      "outputs": [
        {
          "output_type": "display_data",
          "data": {
            "image/png": "[encoded data removed]",
            "text/plain": [
              "<Figure size 360x360 with 1 Axes>"
            ]
          },
          "metadata": {
            "tags": [],
            "needs_background": "light"
          }
        }
      ]
    },
    {
      "cell_type": "markdown",
      "metadata": {
        "id": "ddKFwK4nwDr2"
      },
      "source": [
        "####**Insights: More number of bikes are rented on a clear or partly clouded day**"
      ]
    },
    {
      "cell_type": "markdown",
      "metadata": {
        "id": "Sao7OAtixi9-"
      },
      "source": [
        "###3.4: Pair Plotting for the entire dataset"
      ]
    },
    {
      "cell_type": "code",
      "metadata": {
        "id": "1yYWvboWxo66",
        "colab": {
          "base_uri": "https://localhost:8080/",
          "height": 1000
        },
        "outputId": "360a22ec-dfa5-49cc-9c74-52f707fd932b"
      },
      "source": [
        "sns.pairplot(bike)\n",
        "plt.show()"
      ],
      "execution_count": null,
      "outputs": [
        {
          "output_type": "display_data",
          "data": {
            "image/png": "[encoded data removed]",
            "text/plain": [
              "<Figure size 1260x1260 with 56 Axes>"
            ]
          },
          "metadata": {
            "tags": [],
            "needs_background": "light"
          }
        }
      ]
    },
    {
      "cell_type": "markdown",
      "metadata": {
        "id": "wYAsJb0XqDMy"
      },
      "source": [
        "###Assumption 1: The X and Y are in colinear relationship \n",
        "\n",
        "Y is our target variable cnt"
      ]
    },
    {
      "cell_type": "markdown",
      "metadata": {
        "id": "xNhvGFyAy0kG"
      },
      "source": [
        "###3.5: Heat map plotting for finding correlation"
      ]
    },
    {
      "cell_type": "code",
      "metadata": {
        "id": "10TTa20Fy8sg",
        "colab": {
          "base_uri": "https://localhost:8080/",
          "height": 1000
        },
        "outputId": "677232c9-a6ef-44f9-a967-ee823a0af9cf"
      },
      "source": [
        "plt.figure(figsize = (25,20))\n",
        "sns.heatmap(bike.corr(), annot = True,cmap='YlGnBu', linewidths=0.3)\n",
        "plt.show()"
      ],
      "execution_count": null,
      "outputs": [
        {
          "output_type": "display_data",
          "data": {
            "image/png": "[encoded data removed]",
            "text/plain": [
              "<Figure size 1800x1440 with 2 Axes>"
            ]
          },
          "metadata": {
            "tags": [],
            "needs_background": "light"
          }
        }
      ]
    },
    {
      "cell_type": "markdown",
      "metadata": {
        "id": "yJagqJSvwpLf"
      },
      "source": [
        "##Step4: Data preparation"
      ]
    },
    {
      "cell_type": "markdown",
      "metadata": {
        "id": "4eq9r2zvmudd"
      },
      "source": [
        "###4.1: Fixing/Changing datatypes as needed"
      ]
    },
    {
      "cell_type": "markdown",
      "metadata": {
        "id": "agMVMz5pm0F1"
      },
      "source": [
        "checking data types of all the columns "
      ]
    },
    {
      "cell_type": "code",
      "metadata": {
        "id": "MAaZrixrm3Dr",
        "colab": {
          "base_uri": "https://localhost:8080/"
        },
        "outputId": "61e9e963-31f4-4ce2-e575-8ba17c3b4040"
      },
      "source": [
        "bike.info()"
      ],
      "execution_count": null,
      "outputs": [
        {
          "output_type": "stream",
          "text": [
            "<class 'pandas.core.frame.DataFrame'>\n",
            "Int64Index: 730 entries, 0 to 729\n",
            "Data columns (total 11 columns):\n",
            " #   Column      Non-Null Count  Dtype  \n",
            "---  ------      --------------  -----  \n",
            " 0   season      730 non-null    object \n",
            " 1   yr          730 non-null    int64  \n",
            " 2   mnth        730 non-null    object \n",
            " 3   holiday     730 non-null    int64  \n",
            " 4   weekday     730 non-null    object \n",
            " 5   workingday  730 non-null    int64  \n",
            " 6   weathersit  730 non-null    object \n",
            " 7   temp        730 non-null    float64\n",
            " 8   hum         730 non-null    float64\n",
            " 9   windspeed   730 non-null    float64\n",
            " 10  cnt         730 non-null    int64  \n",
            "dtypes: float64(3), int64(4), object(4)\n",
            "memory usage: 88.4+ KB\n"
          ],
          "name": "stdout"
        }
      ]
    },
    {
      "cell_type": "markdown",
      "metadata": {
        "id": "KMhkjmWDm6qY"
      },
      "source": [
        "converting below columns into categorical variables \n",
        "1. season\n",
        "2. weekday\n",
        "3. mnth\n",
        "4. weathersit\n",
        "\n",
        "Below columns are already mapped to 0 and 1 as we require\n",
        "1. yr\n",
        "2. holiday\n",
        "3. workingday\n"
      ]
    },
    {
      "cell_type": "code",
      "metadata": {
        "id": "gXTBBbQN0naE"
      },
      "source": [
        "bike['season']=bike['season'].astype('category')\n",
        "bike['weekday']=bike['weekday'].astype('category')\n",
        "bike['mnth']=bike['mnth'].astype('category')\n",
        "bike['weathersit']=bike['weathersit'].astype('category')"
      ],
      "execution_count": null,
      "outputs": []
    },
    {
      "cell_type": "code",
      "metadata": {
        "id": "cYp7Fp5X062z",
        "colab": {
          "base_uri": "https://localhost:8080/"
        },
        "outputId": "002b27c6-0329-401e-c60b-3966c05ebe72"
      },
      "source": [
        "bike.info()"
      ],
      "execution_count": null,
      "outputs": [
        {
          "output_type": "stream",
          "text": [
            "<class 'pandas.core.frame.DataFrame'>\n",
            "Int64Index: 730 entries, 0 to 729\n",
            "Data columns (total 11 columns):\n",
            " #   Column      Non-Null Count  Dtype   \n",
            "---  ------      --------------  -----   \n",
            " 0   season      730 non-null    category\n",
            " 1   yr          730 non-null    int64   \n",
            " 2   mnth        730 non-null    category\n",
            " 3   holiday     730 non-null    int64   \n",
            " 4   weekday     730 non-null    category\n",
            " 5   workingday  730 non-null    int64   \n",
            " 6   weathersit  730 non-null    category\n",
            " 7   temp        730 non-null    float64 \n",
            " 8   hum         730 non-null    float64 \n",
            " 9   windspeed   730 non-null    float64 \n",
            " 10  cnt         730 non-null    int64   \n",
            "dtypes: category(4), float64(3), int64(4)\n",
            "memory usage: 69.5 KB\n"
          ],
          "name": "stdout"
        }
      ]
    },
    {
      "cell_type": "markdown",
      "metadata": {
        "id": "to7O4OZ6jZRv"
      },
      "source": [
        "####4.2: Create dummy variables for categorical variables"
      ]
    },
    {
      "cell_type": "code",
      "metadata": {
        "id": "0GnErBxt1TtR"
      },
      "source": [
        "bike=pd.get_dummies(bike,drop_first=True)"
      ],
      "execution_count": null,
      "outputs": []
    },
    {
      "cell_type": "markdown",
      "metadata": {
        "id": "a2tqiDQ62V1a"
      },
      "source": [
        "checking the dataset again"
      ]
    },
    {
      "cell_type": "code",
      "metadata": {
        "id": "PAmqoxWH2hSg",
        "colab": {
          "base_uri": "https://localhost:8080/"
        },
        "outputId": "c6b92b2b-d6d1-4697-a4c9-59f106841907"
      },
      "source": [
        "bike.info()"
      ],
      "execution_count": null,
      "outputs": [
        {
          "output_type": "stream",
          "text": [
            "<class 'pandas.core.frame.DataFrame'>\n",
            "Int64Index: 730 entries, 0 to 729\n",
            "Data columns (total 29 columns):\n",
            " #   Column                      Non-Null Count  Dtype  \n",
            "---  ------                      --------------  -----  \n",
            " 0   yr                          730 non-null    int64  \n",
            " 1   holiday                     730 non-null    int64  \n",
            " 2   workingday                  730 non-null    int64  \n",
            " 3   temp                        730 non-null    float64\n",
            " 4   hum                         730 non-null    float64\n",
            " 5   windspeed                   730 non-null    float64\n",
            " 6   cnt                         730 non-null    int64  \n",
            " 7   season_spring               730 non-null    uint8  \n",
            " 8   season_summer               730 non-null    uint8  \n",
            " 9   season_winter               730 non-null    uint8  \n",
            " 10  mnth_august                 730 non-null    uint8  \n",
            " 11  mnth_december               730 non-null    uint8  \n",
            " 12  mnth_february               730 non-null    uint8  \n",
            " 13  mnth_january                730 non-null    uint8  \n",
            " 14  mnth_july                   730 non-null    uint8  \n",
            " 15  mnth_june                   730 non-null    uint8  \n",
            " 16  mnth_march                  730 non-null    uint8  \n",
            " 17  mnth_may                    730 non-null    uint8  \n",
            " 18  mnth_november               730 non-null    uint8  \n",
            " 19  mnth_october                730 non-null    uint8  \n",
            " 20  mnth_september              730 non-null    uint8  \n",
            " 21  weekday_monday              730 non-null    uint8  \n",
            " 22  weekday_saturday            730 non-null    uint8  \n",
            " 23  weekday_sunday              730 non-null    uint8  \n",
            " 24  weekday_thursday            730 non-null    uint8  \n",
            " 25  weekday_tuesday             730 non-null    uint8  \n",
            " 26  weekday_wednesday           730 non-null    uint8  \n",
            " 27  weathersit_cloudy           730 non-null    uint8  \n",
            " 28  weathersit_light snow/rain  730 non-null    uint8  \n",
            "dtypes: float64(3), int64(4), uint8(22)\n",
            "memory usage: 81.3 KB\n"
          ],
          "name": "stdout"
        }
      ]
    },
    {
      "cell_type": "code",
      "metadata": {
        "id": "8RGNPehFUQS9",
        "colab": {
          "base_uri": "https://localhost:8080/"
        },
        "outputId": "0b92ca02-828a-40d2-f779-1c486c08f42e"
      },
      "source": [
        "bike.columns"
      ],
      "execution_count": null,
      "outputs": [
        {
          "output_type": "execute_result",
          "data": {
            "text/plain": [
              "Index(['yr', 'holiday', 'workingday', 'temp', 'hum', 'windspeed', 'cnt',\n",
              "       'season_spring', 'season_summer', 'season_winter', 'mnth_august',\n",
              "       'mnth_december', 'mnth_february', 'mnth_january', 'mnth_july',\n",
              "       'mnth_june', 'mnth_march', 'mnth_may', 'mnth_november', 'mnth_october',\n",
              "       'mnth_september', 'weekday_monday', 'weekday_saturday',\n",
              "       'weekday_sunday', 'weekday_thursday', 'weekday_tuesday',\n",
              "       'weekday_wednesday', 'weathersit_cloudy', 'weathersit_light snow/rain'],\n",
              "      dtype='object')"
            ]
          },
          "metadata": {
            "tags": []
          },
          "execution_count": 159
        }
      ]
    },
    {
      "cell_type": "markdown",
      "metadata": {
        "id": "r9aexONl6Zba"
      },
      "source": [
        "##Step5: Split test and train dataset"
      ]
    },
    {
      "cell_type": "markdown",
      "metadata": {
        "id": "F9IxgTzWPD5C"
      },
      "source": [
        "Splitting dataset into 70 % training and 30% test dataset"
      ]
    },
    {
      "cell_type": "code",
      "metadata": {
        "id": "Z6maHgxiOOwH"
      },
      "source": [
        "np.random.seed(0)\n",
        "bike_train, bike_test = train_test_split(bike, train_size = 0.7, test_size = 0.3, random_state = 100)"
      ],
      "execution_count": null,
      "outputs": []
    },
    {
      "cell_type": "markdown",
      "metadata": {
        "id": "f2iN8agfPuEW"
      },
      "source": [
        "Check the datasets created"
      ]
    },
    {
      "cell_type": "code",
      "metadata": {
        "id": "4QV_l4YFPw9I",
        "colab": {
          "base_uri": "https://localhost:8080/"
        },
        "outputId": "46364fd2-deb6-456e-c479-a6cd7ee13de8"
      },
      "source": [
        "bike_train.shape"
      ],
      "execution_count": null,
      "outputs": [
        {
          "output_type": "execute_result",
          "data": {
            "text/plain": [
              "(510, 29)"
            ]
          },
          "metadata": {
            "tags": []
          },
          "execution_count": 161
        }
      ]
    },
    {
      "cell_type": "code",
      "metadata": {
        "id": "x-3aoFqgP2Xa",
        "colab": {
          "base_uri": "https://localhost:8080/"
        },
        "outputId": "b78705aa-a023-41f7-962a-361989fd1955"
      },
      "source": [
        "bike_test.shape"
      ],
      "execution_count": null,
      "outputs": [
        {
          "output_type": "execute_result",
          "data": {
            "text/plain": [
              "(219, 29)"
            ]
          },
          "metadata": {
            "tags": []
          },
          "execution_count": 162
        }
      ]
    },
    {
      "cell_type": "code",
      "metadata": {
        "id": "tVVR0OybSJtg",
        "colab": {
          "base_uri": "https://localhost:8080/",
          "height": 321
        },
        "outputId": "1759bedd-e38b-4235-b103-d28aec4be96e"
      },
      "source": [
        "bike_train.describe()"
      ],
      "execution_count": null,
      "outputs": [
        {
          "output_type": "execute_result",
          "data": {
            "text/html": [
              "<div>\n",
              "<style scoped>\n",
              "    .dataframe tbody tr th:only-of-type {\n",
              "        vertical-align: middle;\n",
              "    }\n",
              "\n",
              "    .dataframe tbody tr th {\n",
              "        vertical-align: top;\n",
              "    }\n",
              "\n",
              "    .dataframe thead th {\n",
              "        text-align: right;\n",
              "    }\n",
              "</style>\n",
              "<table border=\"1\" class=\"dataframe\">\n",
              "  <thead>\n",
              "    <tr style=\"text-align: right;\">\n",
              "      <th></th>\n",
              "      <th>yr</th>\n",
              "      <th>holiday</th>\n",
              "      <th>workingday</th>\n",
              "      <th>temp</th>\n",
              "      <th>hum</th>\n",
              "      <th>windspeed</th>\n",
              "      <th>cnt</th>\n",
              "      <th>season_spring</th>\n",
              "      <th>season_summer</th>\n",
              "      <th>season_winter</th>\n",
              "      <th>mnth_august</th>\n",
              "      <th>mnth_december</th>\n",
              "      <th>mnth_february</th>\n",
              "      <th>mnth_january</th>\n",
              "      <th>mnth_july</th>\n",
              "      <th>mnth_june</th>\n",
              "      <th>mnth_march</th>\n",
              "      <th>mnth_may</th>\n",
              "      <th>mnth_november</th>\n",
              "      <th>mnth_october</th>\n",
              "      <th>mnth_september</th>\n",
              "      <th>weekday_monday</th>\n",
              "      <th>weekday_saturday</th>\n",
              "      <th>weekday_sunday</th>\n",
              "      <th>weekday_thursday</th>\n",
              "      <th>weekday_tuesday</th>\n",
              "      <th>weekday_wednesday</th>\n",
              "      <th>weathersit_cloudy</th>\n",
              "      <th>weathersit_light snow/rain</th>\n",
              "    </tr>\n",
              "  </thead>\n",
              "  <tbody>\n",
              "    <tr>\n",
              "      <th>count</th>\n",
              "      <td>510.000</td>\n",
              "      <td>510.000</td>\n",
              "      <td>510.000</td>\n",
              "      <td>510.000</td>\n",
              "      <td>510.000</td>\n",
              "      <td>510.000</td>\n",
              "      <td>510.000</td>\n",
              "      <td>510.000</td>\n",
              "      <td>510.000</td>\n",
              "      <td>510.000</td>\n",
              "      <td>510.000</td>\n",
              "      <td>510.000</td>\n",
              "      <td>510.000</td>\n",
              "      <td>510.000</td>\n",
              "      <td>510.000</td>\n",
              "      <td>510.000</td>\n",
              "      <td>510.000</td>\n",
              "      <td>510.000</td>\n",
              "      <td>510.000</td>\n",
              "      <td>510.000</td>\n",
              "      <td>510.000</td>\n",
              "      <td>510.000</td>\n",
              "      <td>510.000</td>\n",
              "      <td>510.000</td>\n",
              "      <td>510.000</td>\n",
              "      <td>510.000</td>\n",
              "      <td>510.000</td>\n",
              "      <td>510.000</td>\n",
              "      <td>510.000</td>\n",
              "    </tr>\n",
              "    <tr>\n",
              "      <th>mean</th>\n",
              "      <td>0.508</td>\n",
              "      <td>0.025</td>\n",
              "      <td>0.676</td>\n",
              "      <td>20.102</td>\n",
              "      <td>63.113</td>\n",
              "      <td>12.831</td>\n",
              "      <td>4486.382</td>\n",
              "      <td>0.243</td>\n",
              "      <td>0.245</td>\n",
              "      <td>0.249</td>\n",
              "      <td>0.096</td>\n",
              "      <td>0.084</td>\n",
              "      <td>0.067</td>\n",
              "      <td>0.088</td>\n",
              "      <td>0.076</td>\n",
              "      <td>0.075</td>\n",
              "      <td>0.098</td>\n",
              "      <td>0.084</td>\n",
              "      <td>0.086</td>\n",
              "      <td>0.086</td>\n",
              "      <td>0.080</td>\n",
              "      <td>0.155</td>\n",
              "      <td>0.133</td>\n",
              "      <td>0.127</td>\n",
              "      <td>0.131</td>\n",
              "      <td>0.143</td>\n",
              "      <td>0.151</td>\n",
              "      <td>0.343</td>\n",
              "      <td>0.029</td>\n",
              "    </tr>\n",
              "    <tr>\n",
              "      <th>std</th>\n",
              "      <td>0.500</td>\n",
              "      <td>0.158</td>\n",
              "      <td>0.468</td>\n",
              "      <td>7.431</td>\n",
              "      <td>14.157</td>\n",
              "      <td>5.292</td>\n",
              "      <td>1952.159</td>\n",
              "      <td>0.429</td>\n",
              "      <td>0.431</td>\n",
              "      <td>0.433</td>\n",
              "      <td>0.295</td>\n",
              "      <td>0.278</td>\n",
              "      <td>0.250</td>\n",
              "      <td>0.284</td>\n",
              "      <td>0.266</td>\n",
              "      <td>0.263</td>\n",
              "      <td>0.298</td>\n",
              "      <td>0.278</td>\n",
              "      <td>0.281</td>\n",
              "      <td>0.281</td>\n",
              "      <td>0.272</td>\n",
              "      <td>0.362</td>\n",
              "      <td>0.340</td>\n",
              "      <td>0.334</td>\n",
              "      <td>0.338</td>\n",
              "      <td>0.351</td>\n",
              "      <td>0.358</td>\n",
              "      <td>0.475</td>\n",
              "      <td>0.169</td>\n",
              "    </tr>\n",
              "    <tr>\n",
              "      <th>min</th>\n",
              "      <td>0.000</td>\n",
              "      <td>0.000</td>\n",
              "      <td>0.000</td>\n",
              "      <td>2.424</td>\n",
              "      <td>0.000</td>\n",
              "      <td>2.834</td>\n",
              "      <td>22.000</td>\n",
              "      <td>0.000</td>\n",
              "      <td>0.000</td>\n",
              "      <td>0.000</td>\n",
              "      <td>0.000</td>\n",
              "      <td>0.000</td>\n",
              "      <td>0.000</td>\n",
              "      <td>0.000</td>\n",
              "      <td>0.000</td>\n",
              "      <td>0.000</td>\n",
              "      <td>0.000</td>\n",
              "      <td>0.000</td>\n",
              "      <td>0.000</td>\n",
              "      <td>0.000</td>\n",
              "      <td>0.000</td>\n",
              "      <td>0.000</td>\n",
              "      <td>0.000</td>\n",
              "      <td>0.000</td>\n",
              "      <td>0.000</td>\n",
              "      <td>0.000</td>\n",
              "      <td>0.000</td>\n",
              "      <td>0.000</td>\n",
              "      <td>0.000</td>\n",
              "    </tr>\n",
              "    <tr>\n",
              "      <th>25%</th>\n",
              "      <td>0.000</td>\n",
              "      <td>0.000</td>\n",
              "      <td>0.000</td>\n",
              "      <td>13.607</td>\n",
              "      <td>52.271</td>\n",
              "      <td>9.042</td>\n",
              "      <td>3120.000</td>\n",
              "      <td>0.000</td>\n",
              "      <td>0.000</td>\n",
              "      <td>0.000</td>\n",
              "      <td>0.000</td>\n",
              "      <td>0.000</td>\n",
              "      <td>0.000</td>\n",
              "      <td>0.000</td>\n",
              "      <td>0.000</td>\n",
              "      <td>0.000</td>\n",
              "      <td>0.000</td>\n",
              "      <td>0.000</td>\n",
              "      <td>0.000</td>\n",
              "      <td>0.000</td>\n",
              "      <td>0.000</td>\n",
              "      <td>0.000</td>\n",
              "      <td>0.000</td>\n",
              "      <td>0.000</td>\n",
              "      <td>0.000</td>\n",
              "      <td>0.000</td>\n",
              "      <td>0.000</td>\n",
              "      <td>0.000</td>\n",
              "      <td>0.000</td>\n",
              "    </tr>\n",
              "    <tr>\n",
              "      <th>50%</th>\n",
              "      <td>1.000</td>\n",
              "      <td>0.000</td>\n",
              "      <td>1.000</td>\n",
              "      <td>20.210</td>\n",
              "      <td>63.438</td>\n",
              "      <td>12.083</td>\n",
              "      <td>4530.000</td>\n",
              "      <td>0.000</td>\n",
              "      <td>0.000</td>\n",
              "      <td>0.000</td>\n",
              "      <td>0.000</td>\n",
              "      <td>0.000</td>\n",
              "      <td>0.000</td>\n",
              "      <td>0.000</td>\n",
              "      <td>0.000</td>\n",
              "      <td>0.000</td>\n",
              "      <td>0.000</td>\n",
              "      <td>0.000</td>\n",
              "      <td>0.000</td>\n",
              "      <td>0.000</td>\n",
              "      <td>0.000</td>\n",
              "      <td>0.000</td>\n",
              "      <td>0.000</td>\n",
              "      <td>0.000</td>\n",
              "      <td>0.000</td>\n",
              "      <td>0.000</td>\n",
              "      <td>0.000</td>\n",
              "      <td>0.000</td>\n",
              "      <td>0.000</td>\n",
              "    </tr>\n",
              "    <tr>\n",
              "      <th>75%</th>\n",
              "      <td>1.000</td>\n",
              "      <td>0.000</td>\n",
              "      <td>1.000</td>\n",
              "      <td>26.616</td>\n",
              "      <td>73.250</td>\n",
              "      <td>15.751</td>\n",
              "      <td>5973.500</td>\n",
              "      <td>0.000</td>\n",
              "      <td>0.000</td>\n",
              "      <td>0.000</td>\n",
              "      <td>0.000</td>\n",
              "      <td>0.000</td>\n",
              "      <td>0.000</td>\n",
              "      <td>0.000</td>\n",
              "      <td>0.000</td>\n",
              "      <td>0.000</td>\n",
              "      <td>0.000</td>\n",
              "      <td>0.000</td>\n",
              "      <td>0.000</td>\n",
              "      <td>0.000</td>\n",
              "      <td>0.000</td>\n",
              "      <td>0.000</td>\n",
              "      <td>0.000</td>\n",
              "      <td>0.000</td>\n",
              "      <td>0.000</td>\n",
              "      <td>0.000</td>\n",
              "      <td>0.000</td>\n",
              "      <td>1.000</td>\n",
              "      <td>0.000</td>\n",
              "    </tr>\n",
              "    <tr>\n",
              "      <th>max</th>\n",
              "      <td>1.000</td>\n",
              "      <td>1.000</td>\n",
              "      <td>1.000</td>\n",
              "      <td>35.328</td>\n",
              "      <td>97.042</td>\n",
              "      <td>34.000</td>\n",
              "      <td>8714.000</td>\n",
              "      <td>1.000</td>\n",
              "      <td>1.000</td>\n",
              "      <td>1.000</td>\n",
              "      <td>1.000</td>\n",
              "      <td>1.000</td>\n",
              "      <td>1.000</td>\n",
              "      <td>1.000</td>\n",
              "      <td>1.000</td>\n",
              "      <td>1.000</td>\n",
              "      <td>1.000</td>\n",
              "      <td>1.000</td>\n",
              "      <td>1.000</td>\n",
              "      <td>1.000</td>\n",
              "      <td>1.000</td>\n",
              "      <td>1.000</td>\n",
              "      <td>1.000</td>\n",
              "      <td>1.000</td>\n",
              "      <td>1.000</td>\n",
              "      <td>1.000</td>\n",
              "      <td>1.000</td>\n",
              "      <td>1.000</td>\n",
              "      <td>1.000</td>\n",
              "    </tr>\n",
              "  </tbody>\n",
              "</table>\n",
              "</div>"
            ],
            "text/plain": [
              "           yr  holiday  workingday    temp     hum  windspeed      cnt  \\\n",
              "count 510.000  510.000     510.000 510.000 510.000    510.000  510.000   \n",
              "mean    0.508    0.025       0.676  20.102  63.113     12.831 4486.382   \n",
              "std     0.500    0.158       0.468   7.431  14.157      5.292 1952.159   \n",
              "min     0.000    0.000       0.000   2.424   0.000      2.834   22.000   \n",
              "25%     0.000    0.000       0.000  13.607  52.271      9.042 3120.000   \n",
              "50%     1.000    0.000       1.000  20.210  63.438     12.083 4530.000   \n",
              "75%     1.000    0.000       1.000  26.616  73.250     15.751 5973.500   \n",
              "max     1.000    1.000       1.000  35.328  97.042     34.000 8714.000   \n",
              "\n",
              "       season_spring  season_summer  season_winter  mnth_august  \\\n",
              "count        510.000        510.000        510.000      510.000   \n",
              "mean           0.243          0.245          0.249        0.096   \n",
              "std            0.429          0.431          0.433        0.295   \n",
              "min            0.000          0.000          0.000        0.000   \n",
              "25%            0.000          0.000          0.000        0.000   \n",
              "50%            0.000          0.000          0.000        0.000   \n",
              "75%            0.000          0.000          0.000        0.000   \n",
              "max            1.000          1.000          1.000        1.000   \n",
              "\n",
              "       mnth_december  mnth_february  mnth_january  mnth_july  mnth_june  \\\n",
              "count        510.000        510.000       510.000    510.000    510.000   \n",
              "mean           0.084          0.067         0.088      0.076      0.075   \n",
              "std            0.278          0.250         0.284      0.266      0.263   \n",
              "min            0.000          0.000         0.000      0.000      0.000   \n",
              "25%            0.000          0.000         0.000      0.000      0.000   \n",
              "50%            0.000          0.000         0.000      0.000      0.000   \n",
              "75%            0.000          0.000         0.000      0.000      0.000   \n",
              "max            1.000          1.000         1.000      1.000      1.000   \n",
              "\n",
              "       mnth_march  mnth_may  mnth_november  mnth_october  mnth_september  \\\n",
              "count     510.000   510.000        510.000       510.000         510.000   \n",
              "mean        0.098     0.084          0.086         0.086           0.080   \n",
              "std         0.298     0.278          0.281         0.281           0.272   \n",
              "min         0.000     0.000          0.000         0.000           0.000   \n",
              "25%         0.000     0.000          0.000         0.000           0.000   \n",
              "50%         0.000     0.000          0.000         0.000           0.000   \n",
              "75%         0.000     0.000          0.000         0.000           0.000   \n",
              "max         1.000     1.000          1.000         1.000           1.000   \n",
              "\n",
              "       weekday_monday  weekday_saturday  weekday_sunday  weekday_thursday  \\\n",
              "count         510.000           510.000         510.000           510.000   \n",
              "mean            0.155             0.133           0.127             0.131   \n",
              "std             0.362             0.340           0.334             0.338   \n",
              "min             0.000             0.000           0.000             0.000   \n",
              "25%             0.000             0.000           0.000             0.000   \n",
              "50%             0.000             0.000           0.000             0.000   \n",
              "75%             0.000             0.000           0.000             0.000   \n",
              "max             1.000             1.000           1.000             1.000   \n",
              "\n",
              "       weekday_tuesday  weekday_wednesday  weathersit_cloudy  \\\n",
              "count          510.000            510.000            510.000   \n",
              "mean             0.143              0.151              0.343   \n",
              "std              0.351              0.358              0.475   \n",
              "min              0.000              0.000              0.000   \n",
              "25%              0.000              0.000              0.000   \n",
              "50%              0.000              0.000              0.000   \n",
              "75%              0.000              0.000              1.000   \n",
              "max              1.000              1.000              1.000   \n",
              "\n",
              "       weathersit_light snow/rain  \n",
              "count                     510.000  \n",
              "mean                        0.029  \n",
              "std                         0.169  \n",
              "min                         0.000  \n",
              "25%                         0.000  \n",
              "50%                         0.000  \n",
              "75%                         0.000  \n",
              "max                         1.000  "
            ]
          },
          "metadata": {
            "tags": []
          },
          "execution_count": 163
        }
      ]
    },
    {
      "cell_type": "code",
      "metadata": {
        "id": "fnTMUWkjSRWR",
        "colab": {
          "base_uri": "https://localhost:8080/",
          "height": 321
        },
        "outputId": "44e40968-a189-4a93-8621-61968ff219e3"
      },
      "source": [
        "bike_test.describe()"
      ],
      "execution_count": null,
      "outputs": [
        {
          "output_type": "execute_result",
          "data": {
            "text/html": [
              "<div>\n",
              "<style scoped>\n",
              "    .dataframe tbody tr th:only-of-type {\n",
              "        vertical-align: middle;\n",
              "    }\n",
              "\n",
              "    .dataframe tbody tr th {\n",
              "        vertical-align: top;\n",
              "    }\n",
              "\n",
              "    .dataframe thead th {\n",
              "        text-align: right;\n",
              "    }\n",
              "</style>\n",
              "<table border=\"1\" class=\"dataframe\">\n",
              "  <thead>\n",
              "    <tr style=\"text-align: right;\">\n",
              "      <th></th>\n",
              "      <th>yr</th>\n",
              "      <th>holiday</th>\n",
              "      <th>workingday</th>\n",
              "      <th>temp</th>\n",
              "      <th>hum</th>\n",
              "      <th>windspeed</th>\n",
              "      <th>cnt</th>\n",
              "      <th>season_spring</th>\n",
              "      <th>season_summer</th>\n",
              "      <th>season_winter</th>\n",
              "      <th>mnth_august</th>\n",
              "      <th>mnth_december</th>\n",
              "      <th>mnth_february</th>\n",
              "      <th>mnth_january</th>\n",
              "      <th>mnth_july</th>\n",
              "      <th>mnth_june</th>\n",
              "      <th>mnth_march</th>\n",
              "      <th>mnth_may</th>\n",
              "      <th>mnth_november</th>\n",
              "      <th>mnth_october</th>\n",
              "      <th>mnth_september</th>\n",
              "      <th>weekday_monday</th>\n",
              "      <th>weekday_saturday</th>\n",
              "      <th>weekday_sunday</th>\n",
              "      <th>weekday_thursday</th>\n",
              "      <th>weekday_tuesday</th>\n",
              "      <th>weekday_wednesday</th>\n",
              "      <th>weathersit_cloudy</th>\n",
              "      <th>weathersit_light snow/rain</th>\n",
              "    </tr>\n",
              "  </thead>\n",
              "  <tbody>\n",
              "    <tr>\n",
              "      <th>count</th>\n",
              "      <td>219.000</td>\n",
              "      <td>219.000</td>\n",
              "      <td>219.000</td>\n",
              "      <td>219.000</td>\n",
              "      <td>219.000</td>\n",
              "      <td>219.000</td>\n",
              "      <td>219.000</td>\n",
              "      <td>219.000</td>\n",
              "      <td>219.000</td>\n",
              "      <td>219.000</td>\n",
              "      <td>219.000</td>\n",
              "      <td>219.000</td>\n",
              "      <td>219.000</td>\n",
              "      <td>219.000</td>\n",
              "      <td>219.000</td>\n",
              "      <td>219.000</td>\n",
              "      <td>219.000</td>\n",
              "      <td>219.000</td>\n",
              "      <td>219.000</td>\n",
              "      <td>219.000</td>\n",
              "      <td>219.000</td>\n",
              "      <td>219.000</td>\n",
              "      <td>219.000</td>\n",
              "      <td>219.000</td>\n",
              "      <td>219.000</td>\n",
              "      <td>219.000</td>\n",
              "      <td>219.000</td>\n",
              "      <td>219.000</td>\n",
              "      <td>219.000</td>\n",
              "    </tr>\n",
              "    <tr>\n",
              "      <th>mean</th>\n",
              "      <td>0.479</td>\n",
              "      <td>0.037</td>\n",
              "      <td>0.699</td>\n",
              "      <td>20.816</td>\n",
              "      <td>61.962</td>\n",
              "      <td>12.600</td>\n",
              "      <td>4546.982</td>\n",
              "      <td>0.256</td>\n",
              "      <td>0.265</td>\n",
              "      <td>0.233</td>\n",
              "      <td>0.059</td>\n",
              "      <td>0.087</td>\n",
              "      <td>0.100</td>\n",
              "      <td>0.078</td>\n",
              "      <td>0.105</td>\n",
              "      <td>0.096</td>\n",
              "      <td>0.055</td>\n",
              "      <td>0.087</td>\n",
              "      <td>0.073</td>\n",
              "      <td>0.082</td>\n",
              "      <td>0.087</td>\n",
              "      <td>0.119</td>\n",
              "      <td>0.164</td>\n",
              "      <td>0.178</td>\n",
              "      <td>0.164</td>\n",
              "      <td>0.146</td>\n",
              "      <td>0.128</td>\n",
              "      <td>0.320</td>\n",
              "      <td>0.027</td>\n",
              "    </tr>\n",
              "    <tr>\n",
              "      <th>std</th>\n",
              "      <td>0.501</td>\n",
              "      <td>0.188</td>\n",
              "      <td>0.460</td>\n",
              "      <td>7.690</td>\n",
              "      <td>14.457</td>\n",
              "      <td>4.985</td>\n",
              "      <td>1898.634</td>\n",
              "      <td>0.437</td>\n",
              "      <td>0.442</td>\n",
              "      <td>0.424</td>\n",
              "      <td>0.237</td>\n",
              "      <td>0.282</td>\n",
              "      <td>0.301</td>\n",
              "      <td>0.268</td>\n",
              "      <td>0.307</td>\n",
              "      <td>0.295</td>\n",
              "      <td>0.228</td>\n",
              "      <td>0.282</td>\n",
              "      <td>0.261</td>\n",
              "      <td>0.275</td>\n",
              "      <td>0.282</td>\n",
              "      <td>0.324</td>\n",
              "      <td>0.371</td>\n",
              "      <td>0.383</td>\n",
              "      <td>0.371</td>\n",
              "      <td>0.354</td>\n",
              "      <td>0.335</td>\n",
              "      <td>0.467</td>\n",
              "      <td>0.164</td>\n",
              "    </tr>\n",
              "    <tr>\n",
              "      <th>min</th>\n",
              "      <td>0.000</td>\n",
              "      <td>0.000</td>\n",
              "      <td>0.000</td>\n",
              "      <td>3.957</td>\n",
              "      <td>25.417</td>\n",
              "      <td>1.500</td>\n",
              "      <td>441.000</td>\n",
              "      <td>0.000</td>\n",
              "      <td>0.000</td>\n",
              "      <td>0.000</td>\n",
              "      <td>0.000</td>\n",
              "      <td>0.000</td>\n",
              "      <td>0.000</td>\n",
              "      <td>0.000</td>\n",
              "      <td>0.000</td>\n",
              "      <td>0.000</td>\n",
              "      <td>0.000</td>\n",
              "      <td>0.000</td>\n",
              "      <td>0.000</td>\n",
              "      <td>0.000</td>\n",
              "      <td>0.000</td>\n",
              "      <td>0.000</td>\n",
              "      <td>0.000</td>\n",
              "      <td>0.000</td>\n",
              "      <td>0.000</td>\n",
              "      <td>0.000</td>\n",
              "      <td>0.000</td>\n",
              "      <td>0.000</td>\n",
              "      <td>0.000</td>\n",
              "    </tr>\n",
              "    <tr>\n",
              "      <th>25%</th>\n",
              "      <td>0.000</td>\n",
              "      <td>0.000</td>\n",
              "      <td>0.000</td>\n",
              "      <td>14.094</td>\n",
              "      <td>51.167</td>\n",
              "      <td>9.021</td>\n",
              "      <td>3303.500</td>\n",
              "      <td>0.000</td>\n",
              "      <td>0.000</td>\n",
              "      <td>0.000</td>\n",
              "      <td>0.000</td>\n",
              "      <td>0.000</td>\n",
              "      <td>0.000</td>\n",
              "      <td>0.000</td>\n",
              "      <td>0.000</td>\n",
              "      <td>0.000</td>\n",
              "      <td>0.000</td>\n",
              "      <td>0.000</td>\n",
              "      <td>0.000</td>\n",
              "      <td>0.000</td>\n",
              "      <td>0.000</td>\n",
              "      <td>0.000</td>\n",
              "      <td>0.000</td>\n",
              "      <td>0.000</td>\n",
              "      <td>0.000</td>\n",
              "      <td>0.000</td>\n",
              "      <td>0.000</td>\n",
              "      <td>0.000</td>\n",
              "      <td>0.000</td>\n",
              "    </tr>\n",
              "    <tr>\n",
              "      <th>50%</th>\n",
              "      <td>0.000</td>\n",
              "      <td>0.000</td>\n",
              "      <td>1.000</td>\n",
              "      <td>20.808</td>\n",
              "      <td>60.917</td>\n",
              "      <td>12.167</td>\n",
              "      <td>4579.000</td>\n",
              "      <td>0.000</td>\n",
              "      <td>0.000</td>\n",
              "      <td>0.000</td>\n",
              "      <td>0.000</td>\n",
              "      <td>0.000</td>\n",
              "      <td>0.000</td>\n",
              "      <td>0.000</td>\n",
              "      <td>0.000</td>\n",
              "      <td>0.000</td>\n",
              "      <td>0.000</td>\n",
              "      <td>0.000</td>\n",
              "      <td>0.000</td>\n",
              "      <td>0.000</td>\n",
              "      <td>0.000</td>\n",
              "      <td>0.000</td>\n",
              "      <td>0.000</td>\n",
              "      <td>0.000</td>\n",
              "      <td>0.000</td>\n",
              "      <td>0.000</td>\n",
              "      <td>0.000</td>\n",
              "      <td>0.000</td>\n",
              "      <td>0.000</td>\n",
              "    </tr>\n",
              "    <tr>\n",
              "      <th>75%</th>\n",
              "      <td>1.000</td>\n",
              "      <td>0.000</td>\n",
              "      <td>1.000</td>\n",
              "      <td>27.402</td>\n",
              "      <td>72.192</td>\n",
              "      <td>15.396</td>\n",
              "      <td>5869.500</td>\n",
              "      <td>1.000</td>\n",
              "      <td>1.000</td>\n",
              "      <td>0.000</td>\n",
              "      <td>0.000</td>\n",
              "      <td>0.000</td>\n",
              "      <td>0.000</td>\n",
              "      <td>0.000</td>\n",
              "      <td>0.000</td>\n",
              "      <td>0.000</td>\n",
              "      <td>0.000</td>\n",
              "      <td>0.000</td>\n",
              "      <td>0.000</td>\n",
              "      <td>0.000</td>\n",
              "      <td>0.000</td>\n",
              "      <td>0.000</td>\n",
              "      <td>0.000</td>\n",
              "      <td>0.000</td>\n",
              "      <td>0.000</td>\n",
              "      <td>0.000</td>\n",
              "      <td>0.000</td>\n",
              "      <td>1.000</td>\n",
              "      <td>0.000</td>\n",
              "    </tr>\n",
              "    <tr>\n",
              "      <th>max</th>\n",
              "      <td>1.000</td>\n",
              "      <td>1.000</td>\n",
              "      <td>1.000</td>\n",
              "      <td>34.816</td>\n",
              "      <td>97.250</td>\n",
              "      <td>28.000</td>\n",
              "      <td>8395.000</td>\n",
              "      <td>1.000</td>\n",
              "      <td>1.000</td>\n",
              "      <td>1.000</td>\n",
              "      <td>1.000</td>\n",
              "      <td>1.000</td>\n",
              "      <td>1.000</td>\n",
              "      <td>1.000</td>\n",
              "      <td>1.000</td>\n",
              "      <td>1.000</td>\n",
              "      <td>1.000</td>\n",
              "      <td>1.000</td>\n",
              "      <td>1.000</td>\n",
              "      <td>1.000</td>\n",
              "      <td>1.000</td>\n",
              "      <td>1.000</td>\n",
              "      <td>1.000</td>\n",
              "      <td>1.000</td>\n",
              "      <td>1.000</td>\n",
              "      <td>1.000</td>\n",
              "      <td>1.000</td>\n",
              "      <td>1.000</td>\n",
              "      <td>1.000</td>\n",
              "    </tr>\n",
              "  </tbody>\n",
              "</table>\n",
              "</div>"
            ],
            "text/plain": [
              "           yr  holiday  workingday    temp     hum  windspeed      cnt  \\\n",
              "count 219.000  219.000     219.000 219.000 219.000    219.000  219.000   \n",
              "mean    0.479    0.037       0.699  20.816  61.962     12.600 4546.982   \n",
              "std     0.501    0.188       0.460   7.690  14.457      4.985 1898.634   \n",
              "min     0.000    0.000       0.000   3.957  25.417      1.500  441.000   \n",
              "25%     0.000    0.000       0.000  14.094  51.167      9.021 3303.500   \n",
              "50%     0.000    0.000       1.000  20.808  60.917     12.167 4579.000   \n",
              "75%     1.000    0.000       1.000  27.402  72.192     15.396 5869.500   \n",
              "max     1.000    1.000       1.000  34.816  97.250     28.000 8395.000   \n",
              "\n",
              "       season_spring  season_summer  season_winter  mnth_august  \\\n",
              "count        219.000        219.000        219.000      219.000   \n",
              "mean           0.256          0.265          0.233        0.059   \n",
              "std            0.437          0.442          0.424        0.237   \n",
              "min            0.000          0.000          0.000        0.000   \n",
              "25%            0.000          0.000          0.000        0.000   \n",
              "50%            0.000          0.000          0.000        0.000   \n",
              "75%            1.000          1.000          0.000        0.000   \n",
              "max            1.000          1.000          1.000        1.000   \n",
              "\n",
              "       mnth_december  mnth_february  mnth_january  mnth_july  mnth_june  \\\n",
              "count        219.000        219.000       219.000    219.000    219.000   \n",
              "mean           0.087          0.100         0.078      0.105      0.096   \n",
              "std            0.282          0.301         0.268      0.307      0.295   \n",
              "min            0.000          0.000         0.000      0.000      0.000   \n",
              "25%            0.000          0.000         0.000      0.000      0.000   \n",
              "50%            0.000          0.000         0.000      0.000      0.000   \n",
              "75%            0.000          0.000         0.000      0.000      0.000   \n",
              "max            1.000          1.000         1.000      1.000      1.000   \n",
              "\n",
              "       mnth_march  mnth_may  mnth_november  mnth_october  mnth_september  \\\n",
              "count     219.000   219.000        219.000       219.000         219.000   \n",
              "mean        0.055     0.087          0.073         0.082           0.087   \n",
              "std         0.228     0.282          0.261         0.275           0.282   \n",
              "min         0.000     0.000          0.000         0.000           0.000   \n",
              "25%         0.000     0.000          0.000         0.000           0.000   \n",
              "50%         0.000     0.000          0.000         0.000           0.000   \n",
              "75%         0.000     0.000          0.000         0.000           0.000   \n",
              "max         1.000     1.000          1.000         1.000           1.000   \n",
              "\n",
              "       weekday_monday  weekday_saturday  weekday_sunday  weekday_thursday  \\\n",
              "count         219.000           219.000         219.000           219.000   \n",
              "mean            0.119             0.164           0.178             0.164   \n",
              "std             0.324             0.371           0.383             0.371   \n",
              "min             0.000             0.000           0.000             0.000   \n",
              "25%             0.000             0.000           0.000             0.000   \n",
              "50%             0.000             0.000           0.000             0.000   \n",
              "75%             0.000             0.000           0.000             0.000   \n",
              "max             1.000             1.000           1.000             1.000   \n",
              "\n",
              "       weekday_tuesday  weekday_wednesday  weathersit_cloudy  \\\n",
              "count          219.000            219.000            219.000   \n",
              "mean             0.146              0.128              0.320   \n",
              "std              0.354              0.335              0.467   \n",
              "min              0.000              0.000              0.000   \n",
              "25%              0.000              0.000              0.000   \n",
              "50%              0.000              0.000              0.000   \n",
              "75%              0.000              0.000              1.000   \n",
              "max              1.000              1.000              1.000   \n",
              "\n",
              "       weathersit_light snow/rain  \n",
              "count                     219.000  \n",
              "mean                        0.027  \n",
              "std                         0.164  \n",
              "min                         0.000  \n",
              "25%                         0.000  \n",
              "50%                         0.000  \n",
              "75%                         0.000  \n",
              "max                         1.000  "
            ]
          },
          "metadata": {
            "tags": []
          },
          "execution_count": 164
        }
      ]
    },
    {
      "cell_type": "markdown",
      "metadata": {
        "id": "HWNJtUEZPen2"
      },
      "source": [
        "##Step 6: Rescaling the data"
      ]
    },
    {
      "cell_type": "markdown",
      "metadata": {
        "id": "_8ZiGLNrQKOo"
      },
      "source": [
        "We will apply scaling to below numerical columns: (We will not apply it to dummy variables)\n",
        "1. Temp\n",
        "2. hum\n",
        "3. windspeed\n",
        "4. cnt\n"
      ]
    },
    {
      "cell_type": "code",
      "metadata": {
        "id": "izFps6tRS6G8"
      },
      "source": [
        "scaler = MinMaxScaler()\n",
        "num_vars = ['temp', 'hum', 'windspeed', 'cnt']\n",
        "bike_train[num_vars] = scaler.fit_transform(bike_train[num_vars])"
      ],
      "execution_count": null,
      "outputs": []
    },
    {
      "cell_type": "markdown",
      "metadata": {
        "id": "ihZ0u7qcTN6L"
      },
      "source": [
        "Checking the dataset after scaling"
      ]
    },
    {
      "cell_type": "code",
      "metadata": {
        "id": "6AvltopxTWnP",
        "colab": {
          "base_uri": "https://localhost:8080/",
          "height": 232
        },
        "outputId": "cfd14118-86b1-4226-db57-a5dc4ae2cca3"
      },
      "source": [
        "bike_train.head(5)"
      ],
      "execution_count": null,
      "outputs": [
        {
          "output_type": "execute_result",
          "data": {
            "text/html": [
              "<div>\n",
              "<style scoped>\n",
              "    .dataframe tbody tr th:only-of-type {\n",
              "        vertical-align: middle;\n",
              "    }\n",
              "\n",
              "    .dataframe tbody tr th {\n",
              "        vertical-align: top;\n",
              "    }\n",
              "\n",
              "    .dataframe thead th {\n",
              "        text-align: right;\n",
              "    }\n",
              "</style>\n",
              "<table border=\"1\" class=\"dataframe\">\n",
              "  <thead>\n",
              "    <tr style=\"text-align: right;\">\n",
              "      <th></th>\n",
              "      <th>yr</th>\n",
              "      <th>holiday</th>\n",
              "      <th>workingday</th>\n",
              "      <th>temp</th>\n",
              "      <th>hum</th>\n",
              "      <th>windspeed</th>\n",
              "      <th>cnt</th>\n",
              "      <th>season_spring</th>\n",
              "      <th>season_summer</th>\n",
              "      <th>season_winter</th>\n",
              "      <th>mnth_august</th>\n",
              "      <th>mnth_december</th>\n",
              "      <th>mnth_february</th>\n",
              "      <th>mnth_january</th>\n",
              "      <th>mnth_july</th>\n",
              "      <th>mnth_june</th>\n",
              "      <th>mnth_march</th>\n",
              "      <th>mnth_may</th>\n",
              "      <th>mnth_november</th>\n",
              "      <th>mnth_october</th>\n",
              "      <th>mnth_september</th>\n",
              "      <th>weekday_monday</th>\n",
              "      <th>weekday_saturday</th>\n",
              "      <th>weekday_sunday</th>\n",
              "      <th>weekday_thursday</th>\n",
              "      <th>weekday_tuesday</th>\n",
              "      <th>weekday_wednesday</th>\n",
              "      <th>weathersit_cloudy</th>\n",
              "      <th>weathersit_light snow/rain</th>\n",
              "    </tr>\n",
              "  </thead>\n",
              "  <tbody>\n",
              "    <tr>\n",
              "      <th>653</th>\n",
              "      <td>1</td>\n",
              "      <td>0</td>\n",
              "      <td>1</td>\n",
              "      <td>0.510</td>\n",
              "      <td>0.575</td>\n",
              "      <td>0.301</td>\n",
              "      <td>0.864</td>\n",
              "      <td>0</td>\n",
              "      <td>0</td>\n",
              "      <td>1</td>\n",
              "      <td>0</td>\n",
              "      <td>0</td>\n",
              "      <td>0</td>\n",
              "      <td>0</td>\n",
              "      <td>0</td>\n",
              "      <td>0</td>\n",
              "      <td>0</td>\n",
              "      <td>0</td>\n",
              "      <td>0</td>\n",
              "      <td>1</td>\n",
              "      <td>0</td>\n",
              "      <td>0</td>\n",
              "      <td>0</td>\n",
              "      <td>0</td>\n",
              "      <td>1</td>\n",
              "      <td>0</td>\n",
              "      <td>0</td>\n",
              "      <td>0</td>\n",
              "      <td>0</td>\n",
              "    </tr>\n",
              "    <tr>\n",
              "      <th>576</th>\n",
              "      <td>1</td>\n",
              "      <td>0</td>\n",
              "      <td>1</td>\n",
              "      <td>0.815</td>\n",
              "      <td>0.726</td>\n",
              "      <td>0.265</td>\n",
              "      <td>0.828</td>\n",
              "      <td>0</td>\n",
              "      <td>0</td>\n",
              "      <td>0</td>\n",
              "      <td>0</td>\n",
              "      <td>0</td>\n",
              "      <td>0</td>\n",
              "      <td>0</td>\n",
              "      <td>1</td>\n",
              "      <td>0</td>\n",
              "      <td>0</td>\n",
              "      <td>0</td>\n",
              "      <td>0</td>\n",
              "      <td>0</td>\n",
              "      <td>0</td>\n",
              "      <td>0</td>\n",
              "      <td>0</td>\n",
              "      <td>0</td>\n",
              "      <td>1</td>\n",
              "      <td>0</td>\n",
              "      <td>0</td>\n",
              "      <td>0</td>\n",
              "      <td>0</td>\n",
              "    </tr>\n",
              "    <tr>\n",
              "      <th>426</th>\n",
              "      <td>1</td>\n",
              "      <td>0</td>\n",
              "      <td>0</td>\n",
              "      <td>0.442</td>\n",
              "      <td>0.640</td>\n",
              "      <td>0.255</td>\n",
              "      <td>0.465</td>\n",
              "      <td>1</td>\n",
              "      <td>0</td>\n",
              "      <td>0</td>\n",
              "      <td>0</td>\n",
              "      <td>0</td>\n",
              "      <td>0</td>\n",
              "      <td>0</td>\n",
              "      <td>0</td>\n",
              "      <td>0</td>\n",
              "      <td>1</td>\n",
              "      <td>0</td>\n",
              "      <td>0</td>\n",
              "      <td>0</td>\n",
              "      <td>0</td>\n",
              "      <td>1</td>\n",
              "      <td>0</td>\n",
              "      <td>0</td>\n",
              "      <td>0</td>\n",
              "      <td>0</td>\n",
              "      <td>0</td>\n",
              "      <td>1</td>\n",
              "      <td>0</td>\n",
              "    </tr>\n",
              "    <tr>\n",
              "      <th>728</th>\n",
              "      <td>1</td>\n",
              "      <td>0</td>\n",
              "      <td>0</td>\n",
              "      <td>0.245</td>\n",
              "      <td>0.498</td>\n",
              "      <td>0.663</td>\n",
              "      <td>0.204</td>\n",
              "      <td>1</td>\n",
              "      <td>0</td>\n",
              "      <td>0</td>\n",
              "      <td>0</td>\n",
              "      <td>1</td>\n",
              "      <td>0</td>\n",
              "      <td>0</td>\n",
              "      <td>0</td>\n",
              "      <td>0</td>\n",
              "      <td>0</td>\n",
              "      <td>0</td>\n",
              "      <td>0</td>\n",
              "      <td>0</td>\n",
              "      <td>0</td>\n",
              "      <td>0</td>\n",
              "      <td>0</td>\n",
              "      <td>0</td>\n",
              "      <td>0</td>\n",
              "      <td>1</td>\n",
              "      <td>0</td>\n",
              "      <td>0</td>\n",
              "      <td>0</td>\n",
              "    </tr>\n",
              "    <tr>\n",
              "      <th>482</th>\n",
              "      <td>1</td>\n",
              "      <td>0</td>\n",
              "      <td>0</td>\n",
              "      <td>0.396</td>\n",
              "      <td>0.505</td>\n",
              "      <td>0.188</td>\n",
              "      <td>0.483</td>\n",
              "      <td>0</td>\n",
              "      <td>1</td>\n",
              "      <td>0</td>\n",
              "      <td>0</td>\n",
              "      <td>0</td>\n",
              "      <td>0</td>\n",
              "      <td>0</td>\n",
              "      <td>0</td>\n",
              "      <td>0</td>\n",
              "      <td>0</td>\n",
              "      <td>0</td>\n",
              "      <td>0</td>\n",
              "      <td>0</td>\n",
              "      <td>0</td>\n",
              "      <td>1</td>\n",
              "      <td>0</td>\n",
              "      <td>0</td>\n",
              "      <td>0</td>\n",
              "      <td>0</td>\n",
              "      <td>0</td>\n",
              "      <td>1</td>\n",
              "      <td>0</td>\n",
              "    </tr>\n",
              "  </tbody>\n",
              "</table>\n",
              "</div>"
            ],
            "text/plain": [
              "     yr  holiday  workingday  temp   hum  windspeed   cnt  season_spring  \\\n",
              "653   1        0           1 0.510 0.575      0.301 0.864              0   \n",
              "576   1        0           1 0.815 0.726      0.265 0.828              0   \n",
              "426   1        0           0 0.442 0.640      0.255 0.465              1   \n",
              "728   1        0           0 0.245 0.498      0.663 0.204              1   \n",
              "482   1        0           0 0.396 0.505      0.188 0.483              0   \n",
              "\n",
              "     season_summer  season_winter  mnth_august  mnth_december  mnth_february  \\\n",
              "653              0              1            0              0              0   \n",
              "576              0              0            0              0              0   \n",
              "426              0              0            0              0              0   \n",
              "728              0              0            0              1              0   \n",
              "482              1              0            0              0              0   \n",
              "\n",
              "     mnth_january  mnth_july  mnth_june  mnth_march  mnth_may  mnth_november  \\\n",
              "653             0          0          0           0         0              0   \n",
              "576             0          1          0           0         0              0   \n",
              "426             0          0          0           1         0              0   \n",
              "728             0          0          0           0         0              0   \n",
              "482             0          0          0           0         0              0   \n",
              "\n",
              "     mnth_october  mnth_september  weekday_monday  weekday_saturday  \\\n",
              "653             1               0               0                 0   \n",
              "576             0               0               0                 0   \n",
              "426             0               0               1                 0   \n",
              "728             0               0               0                 0   \n",
              "482             0               0               1                 0   \n",
              "\n",
              "     weekday_sunday  weekday_thursday  weekday_tuesday  weekday_wednesday  \\\n",
              "653               0                 1                0                  0   \n",
              "576               0                 1                0                  0   \n",
              "426               0                 0                0                  0   \n",
              "728               0                 0                1                  0   \n",
              "482               0                 0                0                  0   \n",
              "\n",
              "     weathersit_cloudy  weathersit_light snow/rain  \n",
              "653                  0                           0  \n",
              "576                  0                           0  \n",
              "426                  1                           0  \n",
              "728                  0                           0  \n",
              "482                  1                           0  "
            ]
          },
          "metadata": {
            "tags": []
          },
          "execution_count": 166
        }
      ]
    },
    {
      "cell_type": "code",
      "metadata": {
        "id": "otTqKGS8TgkT",
        "colab": {
          "base_uri": "https://localhost:8080/",
          "height": 321
        },
        "outputId": "15ac35a5-de77-466c-fc6a-da9a33621af2"
      },
      "source": [
        "bike_train.describe()"
      ],
      "execution_count": null,
      "outputs": [
        {
          "output_type": "execute_result",
          "data": {
            "text/html": [
              "<div>\n",
              "<style scoped>\n",
              "    .dataframe tbody tr th:only-of-type {\n",
              "        vertical-align: middle;\n",
              "    }\n",
              "\n",
              "    .dataframe tbody tr th {\n",
              "        vertical-align: top;\n",
              "    }\n",
              "\n",
              "    .dataframe thead th {\n",
              "        text-align: right;\n",
              "    }\n",
              "</style>\n",
              "<table border=\"1\" class=\"dataframe\">\n",
              "  <thead>\n",
              "    <tr style=\"text-align: right;\">\n",
              "      <th></th>\n",
              "      <th>yr</th>\n",
              "      <th>holiday</th>\n",
              "      <th>workingday</th>\n",
              "      <th>temp</th>\n",
              "      <th>hum</th>\n",
              "      <th>windspeed</th>\n",
              "      <th>cnt</th>\n",
              "      <th>season_spring</th>\n",
              "      <th>season_summer</th>\n",
              "      <th>season_winter</th>\n",
              "      <th>mnth_august</th>\n",
              "      <th>mnth_december</th>\n",
              "      <th>mnth_february</th>\n",
              "      <th>mnth_january</th>\n",
              "      <th>mnth_july</th>\n",
              "      <th>mnth_june</th>\n",
              "      <th>mnth_march</th>\n",
              "      <th>mnth_may</th>\n",
              "      <th>mnth_november</th>\n",
              "      <th>mnth_october</th>\n",
              "      <th>mnth_september</th>\n",
              "      <th>weekday_monday</th>\n",
              "      <th>weekday_saturday</th>\n",
              "      <th>weekday_sunday</th>\n",
              "      <th>weekday_thursday</th>\n",
              "      <th>weekday_tuesday</th>\n",
              "      <th>weekday_wednesday</th>\n",
              "      <th>weathersit_cloudy</th>\n",
              "      <th>weathersit_light snow/rain</th>\n",
              "    </tr>\n",
              "  </thead>\n",
              "  <tbody>\n",
              "    <tr>\n",
              "      <th>count</th>\n",
              "      <td>510.000</td>\n",
              "      <td>510.000</td>\n",
              "      <td>510.000</td>\n",
              "      <td>510.000</td>\n",
              "      <td>510.000</td>\n",
              "      <td>510.000</td>\n",
              "      <td>510.000</td>\n",
              "      <td>510.000</td>\n",
              "      <td>510.000</td>\n",
              "      <td>510.000</td>\n",
              "      <td>510.000</td>\n",
              "      <td>510.000</td>\n",
              "      <td>510.000</td>\n",
              "      <td>510.000</td>\n",
              "      <td>510.000</td>\n",
              "      <td>510.000</td>\n",
              "      <td>510.000</td>\n",
              "      <td>510.000</td>\n",
              "      <td>510.000</td>\n",
              "      <td>510.000</td>\n",
              "      <td>510.000</td>\n",
              "      <td>510.000</td>\n",
              "      <td>510.000</td>\n",
              "      <td>510.000</td>\n",
              "      <td>510.000</td>\n",
              "      <td>510.000</td>\n",
              "      <td>510.000</td>\n",
              "      <td>510.000</td>\n",
              "      <td>510.000</td>\n",
              "    </tr>\n",
              "    <tr>\n",
              "      <th>mean</th>\n",
              "      <td>0.508</td>\n",
              "      <td>0.025</td>\n",
              "      <td>0.676</td>\n",
              "      <td>0.537</td>\n",
              "      <td>0.650</td>\n",
              "      <td>0.321</td>\n",
              "      <td>0.514</td>\n",
              "      <td>0.243</td>\n",
              "      <td>0.245</td>\n",
              "      <td>0.249</td>\n",
              "      <td>0.096</td>\n",
              "      <td>0.084</td>\n",
              "      <td>0.067</td>\n",
              "      <td>0.088</td>\n",
              "      <td>0.076</td>\n",
              "      <td>0.075</td>\n",
              "      <td>0.098</td>\n",
              "      <td>0.084</td>\n",
              "      <td>0.086</td>\n",
              "      <td>0.086</td>\n",
              "      <td>0.080</td>\n",
              "      <td>0.155</td>\n",
              "      <td>0.133</td>\n",
              "      <td>0.127</td>\n",
              "      <td>0.131</td>\n",
              "      <td>0.143</td>\n",
              "      <td>0.151</td>\n",
              "      <td>0.343</td>\n",
              "      <td>0.029</td>\n",
              "    </tr>\n",
              "    <tr>\n",
              "      <th>std</th>\n",
              "      <td>0.500</td>\n",
              "      <td>0.158</td>\n",
              "      <td>0.468</td>\n",
              "      <td>0.226</td>\n",
              "      <td>0.146</td>\n",
              "      <td>0.170</td>\n",
              "      <td>0.225</td>\n",
              "      <td>0.429</td>\n",
              "      <td>0.431</td>\n",
              "      <td>0.433</td>\n",
              "      <td>0.295</td>\n",
              "      <td>0.278</td>\n",
              "      <td>0.250</td>\n",
              "      <td>0.284</td>\n",
              "      <td>0.266</td>\n",
              "      <td>0.263</td>\n",
              "      <td>0.298</td>\n",
              "      <td>0.278</td>\n",
              "      <td>0.281</td>\n",
              "      <td>0.281</td>\n",
              "      <td>0.272</td>\n",
              "      <td>0.362</td>\n",
              "      <td>0.340</td>\n",
              "      <td>0.334</td>\n",
              "      <td>0.338</td>\n",
              "      <td>0.351</td>\n",
              "      <td>0.358</td>\n",
              "      <td>0.475</td>\n",
              "      <td>0.169</td>\n",
              "    </tr>\n",
              "    <tr>\n",
              "      <th>min</th>\n",
              "      <td>0.000</td>\n",
              "      <td>0.000</td>\n",
              "      <td>0.000</td>\n",
              "      <td>0.000</td>\n",
              "      <td>0.000</td>\n",
              "      <td>0.000</td>\n",
              "      <td>0.000</td>\n",
              "      <td>0.000</td>\n",
              "      <td>0.000</td>\n",
              "      <td>0.000</td>\n",
              "      <td>0.000</td>\n",
              "      <td>0.000</td>\n",
              "      <td>0.000</td>\n",
              "      <td>0.000</td>\n",
              "      <td>0.000</td>\n",
              "      <td>0.000</td>\n",
              "      <td>0.000</td>\n",
              "      <td>0.000</td>\n",
              "      <td>0.000</td>\n",
              "      <td>0.000</td>\n",
              "      <td>0.000</td>\n",
              "      <td>0.000</td>\n",
              "      <td>0.000</td>\n",
              "      <td>0.000</td>\n",
              "      <td>0.000</td>\n",
              "      <td>0.000</td>\n",
              "      <td>0.000</td>\n",
              "      <td>0.000</td>\n",
              "      <td>0.000</td>\n",
              "    </tr>\n",
              "    <tr>\n",
              "      <th>25%</th>\n",
              "      <td>0.000</td>\n",
              "      <td>0.000</td>\n",
              "      <td>0.000</td>\n",
              "      <td>0.340</td>\n",
              "      <td>0.539</td>\n",
              "      <td>0.199</td>\n",
              "      <td>0.356</td>\n",
              "      <td>0.000</td>\n",
              "      <td>0.000</td>\n",
              "      <td>0.000</td>\n",
              "      <td>0.000</td>\n",
              "      <td>0.000</td>\n",
              "      <td>0.000</td>\n",
              "      <td>0.000</td>\n",
              "      <td>0.000</td>\n",
              "      <td>0.000</td>\n",
              "      <td>0.000</td>\n",
              "      <td>0.000</td>\n",
              "      <td>0.000</td>\n",
              "      <td>0.000</td>\n",
              "      <td>0.000</td>\n",
              "      <td>0.000</td>\n",
              "      <td>0.000</td>\n",
              "      <td>0.000</td>\n",
              "      <td>0.000</td>\n",
              "      <td>0.000</td>\n",
              "      <td>0.000</td>\n",
              "      <td>0.000</td>\n",
              "      <td>0.000</td>\n",
              "    </tr>\n",
              "    <tr>\n",
              "      <th>50%</th>\n",
              "      <td>1.000</td>\n",
              "      <td>0.000</td>\n",
              "      <td>1.000</td>\n",
              "      <td>0.541</td>\n",
              "      <td>0.654</td>\n",
              "      <td>0.297</td>\n",
              "      <td>0.519</td>\n",
              "      <td>0.000</td>\n",
              "      <td>0.000</td>\n",
              "      <td>0.000</td>\n",
              "      <td>0.000</td>\n",
              "      <td>0.000</td>\n",
              "      <td>0.000</td>\n",
              "      <td>0.000</td>\n",
              "      <td>0.000</td>\n",
              "      <td>0.000</td>\n",
              "      <td>0.000</td>\n",
              "      <td>0.000</td>\n",
              "      <td>0.000</td>\n",
              "      <td>0.000</td>\n",
              "      <td>0.000</td>\n",
              "      <td>0.000</td>\n",
              "      <td>0.000</td>\n",
              "      <td>0.000</td>\n",
              "      <td>0.000</td>\n",
              "      <td>0.000</td>\n",
              "      <td>0.000</td>\n",
              "      <td>0.000</td>\n",
              "      <td>0.000</td>\n",
              "    </tr>\n",
              "    <tr>\n",
              "      <th>75%</th>\n",
              "      <td>1.000</td>\n",
              "      <td>0.000</td>\n",
              "      <td>1.000</td>\n",
              "      <td>0.735</td>\n",
              "      <td>0.755</td>\n",
              "      <td>0.414</td>\n",
              "      <td>0.685</td>\n",
              "      <td>0.000</td>\n",
              "      <td>0.000</td>\n",
              "      <td>0.000</td>\n",
              "      <td>0.000</td>\n",
              "      <td>0.000</td>\n",
              "      <td>0.000</td>\n",
              "      <td>0.000</td>\n",
              "      <td>0.000</td>\n",
              "      <td>0.000</td>\n",
              "      <td>0.000</td>\n",
              "      <td>0.000</td>\n",
              "      <td>0.000</td>\n",
              "      <td>0.000</td>\n",
              "      <td>0.000</td>\n",
              "      <td>0.000</td>\n",
              "      <td>0.000</td>\n",
              "      <td>0.000</td>\n",
              "      <td>0.000</td>\n",
              "      <td>0.000</td>\n",
              "      <td>0.000</td>\n",
              "      <td>1.000</td>\n",
              "      <td>0.000</td>\n",
              "    </tr>\n",
              "    <tr>\n",
              "      <th>max</th>\n",
              "      <td>1.000</td>\n",
              "      <td>1.000</td>\n",
              "      <td>1.000</td>\n",
              "      <td>1.000</td>\n",
              "      <td>1.000</td>\n",
              "      <td>1.000</td>\n",
              "      <td>1.000</td>\n",
              "      <td>1.000</td>\n",
              "      <td>1.000</td>\n",
              "      <td>1.000</td>\n",
              "      <td>1.000</td>\n",
              "      <td>1.000</td>\n",
              "      <td>1.000</td>\n",
              "      <td>1.000</td>\n",
              "      <td>1.000</td>\n",
              "      <td>1.000</td>\n",
              "      <td>1.000</td>\n",
              "      <td>1.000</td>\n",
              "      <td>1.000</td>\n",
              "      <td>1.000</td>\n",
              "      <td>1.000</td>\n",
              "      <td>1.000</td>\n",
              "      <td>1.000</td>\n",
              "      <td>1.000</td>\n",
              "      <td>1.000</td>\n",
              "      <td>1.000</td>\n",
              "      <td>1.000</td>\n",
              "      <td>1.000</td>\n",
              "      <td>1.000</td>\n",
              "    </tr>\n",
              "  </tbody>\n",
              "</table>\n",
              "</div>"
            ],
            "text/plain": [
              "           yr  holiday  workingday    temp     hum  windspeed     cnt  \\\n",
              "count 510.000  510.000     510.000 510.000 510.000    510.000 510.000   \n",
              "mean    0.508    0.025       0.676   0.537   0.650      0.321   0.514   \n",
              "std     0.500    0.158       0.468   0.226   0.146      0.170   0.225   \n",
              "min     0.000    0.000       0.000   0.000   0.000      0.000   0.000   \n",
              "25%     0.000    0.000       0.000   0.340   0.539      0.199   0.356   \n",
              "50%     1.000    0.000       1.000   0.541   0.654      0.297   0.519   \n",
              "75%     1.000    0.000       1.000   0.735   0.755      0.414   0.685   \n",
              "max     1.000    1.000       1.000   1.000   1.000      1.000   1.000   \n",
              "\n",
              "       season_spring  season_summer  season_winter  mnth_august  \\\n",
              "count        510.000        510.000        510.000      510.000   \n",
              "mean           0.243          0.245          0.249        0.096   \n",
              "std            0.429          0.431          0.433        0.295   \n",
              "min            0.000          0.000          0.000        0.000   \n",
              "25%            0.000          0.000          0.000        0.000   \n",
              "50%            0.000          0.000          0.000        0.000   \n",
              "75%            0.000          0.000          0.000        0.000   \n",
              "max            1.000          1.000          1.000        1.000   \n",
              "\n",
              "       mnth_december  mnth_february  mnth_january  mnth_july  mnth_june  \\\n",
              "count        510.000        510.000       510.000    510.000    510.000   \n",
              "mean           0.084          0.067         0.088      0.076      0.075   \n",
              "std            0.278          0.250         0.284      0.266      0.263   \n",
              "min            0.000          0.000         0.000      0.000      0.000   \n",
              "25%            0.000          0.000         0.000      0.000      0.000   \n",
              "50%            0.000          0.000         0.000      0.000      0.000   \n",
              "75%            0.000          0.000         0.000      0.000      0.000   \n",
              "max            1.000          1.000         1.000      1.000      1.000   \n",
              "\n",
              "       mnth_march  mnth_may  mnth_november  mnth_october  mnth_september  \\\n",
              "count     510.000   510.000        510.000       510.000         510.000   \n",
              "mean        0.098     0.084          0.086         0.086           0.080   \n",
              "std         0.298     0.278          0.281         0.281           0.272   \n",
              "min         0.000     0.000          0.000         0.000           0.000   \n",
              "25%         0.000     0.000          0.000         0.000           0.000   \n",
              "50%         0.000     0.000          0.000         0.000           0.000   \n",
              "75%         0.000     0.000          0.000         0.000           0.000   \n",
              "max         1.000     1.000          1.000         1.000           1.000   \n",
              "\n",
              "       weekday_monday  weekday_saturday  weekday_sunday  weekday_thursday  \\\n",
              "count         510.000           510.000         510.000           510.000   \n",
              "mean            0.155             0.133           0.127             0.131   \n",
              "std             0.362             0.340           0.334             0.338   \n",
              "min             0.000             0.000           0.000             0.000   \n",
              "25%             0.000             0.000           0.000             0.000   \n",
              "50%             0.000             0.000           0.000             0.000   \n",
              "75%             0.000             0.000           0.000             0.000   \n",
              "max             1.000             1.000           1.000             1.000   \n",
              "\n",
              "       weekday_tuesday  weekday_wednesday  weathersit_cloudy  \\\n",
              "count          510.000            510.000            510.000   \n",
              "mean             0.143              0.151              0.343   \n",
              "std              0.351              0.358              0.475   \n",
              "min              0.000              0.000              0.000   \n",
              "25%              0.000              0.000              0.000   \n",
              "50%              0.000              0.000              0.000   \n",
              "75%              0.000              0.000              1.000   \n",
              "max              1.000              1.000              1.000   \n",
              "\n",
              "       weathersit_light snow/rain  \n",
              "count                     510.000  \n",
              "mean                        0.029  \n",
              "std                         0.169  \n",
              "min                         0.000  \n",
              "25%                         0.000  \n",
              "50%                         0.000  \n",
              "75%                         0.000  \n",
              "max                         1.000  "
            ]
          },
          "metadata": {
            "tags": []
          },
          "execution_count": 167
        }
      ]
    },
    {
      "cell_type": "markdown",
      "metadata": {
        "id": "610rS_KxT8eg"
      },
      "source": [
        "##Step 7: Dividing variables into X and Y"
      ]
    },
    {
      "cell_type": "markdown",
      "metadata": {
        "id": "2-i3LQ7UUezT"
      },
      "source": [
        "#### Our target variable is cnt which is our y_train and all other features are X_train"
      ]
    },
    {
      "cell_type": "code",
      "metadata": {
        "id": "LIuYPdj-UCJo"
      },
      "source": [
        "y_train = bike_train.pop('cnt')\n",
        "X_train = bike_train"
      ],
      "execution_count": null,
      "outputs": []
    },
    {
      "cell_type": "markdown",
      "metadata": {
        "id": "guTtxtzWWH2l"
      },
      "source": [
        "##Step 8: Building a linear regression model"
      ]
    },
    {
      "cell_type": "markdown",
      "metadata": {
        "id": "FzkJMbAFYijw"
      },
      "source": [
        "We will use both the methods to build a model \n",
        "RFE + manual method of checking VIF and P values \n"
      ]
    },
    {
      "cell_type": "markdown",
      "metadata": {
        "id": "p94FgoBYY9bS"
      },
      "source": [
        "####8.1: Using RFE (Recursive feature elimination) first "
      ]
    },
    {
      "cell_type": "code",
      "metadata": {
        "id": "9c-p_HUwYhlG",
        "colab": {
          "base_uri": "https://localhost:8080/"
        },
        "outputId": "ddfa5eab-2ea9-435f-8aea-6611dbdb2c76"
      },
      "source": [
        "lm = LinearRegression()\n",
        "lm.fit(X_train,y_train)"
      ],
      "execution_count": null,
      "outputs": [
        {
          "output_type": "execute_result",
          "data": {
            "text/plain": [
              "LinearRegression(copy_X=True, fit_intercept=True, n_jobs=None, normalize=False)"
            ]
          },
          "metadata": {
            "tags": []
          },
          "execution_count": 169
        }
      ]
    },
    {
      "cell_type": "code",
      "metadata": {
        "id": "58CUDwmPafYB"
      },
      "source": [
        "rfe = RFE(lm,15)\n",
        "rfe = rfe.fit(X_train,y_train)"
      ],
      "execution_count": null,
      "outputs": []
    },
    {
      "cell_type": "markdown",
      "metadata": {
        "id": "2P0yfiauaueU"
      },
      "source": [
        "Checking the RFE ranking "
      ]
    },
    {
      "cell_type": "code",
      "metadata": {
        "id": "qRc0hB2uaxnk",
        "colab": {
          "base_uri": "https://localhost:8080/"
        },
        "outputId": "a1635c2f-d205-4d9d-e730-ec12266968cd"
      },
      "source": [
        "list(zip(X_train.columns,rfe.support_,rfe.ranking_))"
      ],
      "execution_count": null,
      "outputs": [
        {
          "output_type": "execute_result",
          "data": {
            "text/plain": [
              "[('yr', True, 1),\n",
              " ('holiday', True, 1),\n",
              " ('workingday', True, 1),\n",
              " ('temp', True, 1),\n",
              " ('hum', True, 1),\n",
              " ('windspeed', True, 1),\n",
              " ('season_spring', True, 1),\n",
              " ('season_summer', True, 1),\n",
              " ('season_winter', True, 1),\n",
              " ('mnth_august', False, 8),\n",
              " ('mnth_december', False, 4),\n",
              " ('mnth_february', False, 5),\n",
              " ('mnth_january', False, 2),\n",
              " ('mnth_july', True, 1),\n",
              " ('mnth_june', False, 11),\n",
              " ('mnth_march', False, 14),\n",
              " ('mnth_may', False, 6),\n",
              " ('mnth_november', False, 3),\n",
              " ('mnth_october', False, 12),\n",
              " ('mnth_september', True, 1),\n",
              " ('weekday_monday', True, 1),\n",
              " ('weekday_saturday', False, 13),\n",
              " ('weekday_sunday', False, 10),\n",
              " ('weekday_thursday', False, 9),\n",
              " ('weekday_tuesday', True, 1),\n",
              " ('weekday_wednesday', False, 7),\n",
              " ('weathersit_cloudy', True, 1),\n",
              " ('weathersit_light snow/rain', True, 1)]"
            ]
          },
          "metadata": {
            "tags": []
          },
          "execution_count": 171
        }
      ]
    },
    {
      "cell_type": "markdown",
      "metadata": {
        "id": "owqeKt-3ctg_"
      },
      "source": [
        "Checking the rfe supported columns \n"
      ]
    },
    {
      "cell_type": "code",
      "metadata": {
        "id": "MnS36UNBcwc9"
      },
      "source": [
        "col = X_train.columns[rfe.support_]"
      ],
      "execution_count": null,
      "outputs": []
    },
    {
      "cell_type": "markdown",
      "metadata": {
        "id": "oQZfOBE4c1XQ"
      },
      "source": [
        "Checking columns that are not RFE supported "
      ]
    },
    {
      "cell_type": "code",
      "metadata": {
        "id": "___5s7csc5yp",
        "colab": {
          "base_uri": "https://localhost:8080/"
        },
        "outputId": "a34dd1be-6d8a-42cb-8d19-84c07529f978"
      },
      "source": [
        "X_train.columns[~rfe.support_]"
      ],
      "execution_count": null,
      "outputs": [
        {
          "output_type": "execute_result",
          "data": {
            "text/plain": [
              "Index(['mnth_august', 'mnth_december', 'mnth_february', 'mnth_january',\n",
              "       'mnth_june', 'mnth_march', 'mnth_may', 'mnth_november', 'mnth_october',\n",
              "       'weekday_saturday', 'weekday_sunday', 'weekday_thursday',\n",
              "       'weekday_wednesday'],\n",
              "      dtype='object')"
            ]
          },
          "metadata": {
            "tags": []
          },
          "execution_count": 173
        }
      ]
    },
    {
      "cell_type": "markdown",
      "metadata": {
        "id": "YAZKowrcdhpC"
      },
      "source": [
        "Creating new dataset with RFE columns"
      ]
    },
    {
      "cell_type": "code",
      "metadata": {
        "id": "xCjohnnadk9K"
      },
      "source": [
        "X_train_rfe = X_train[col]"
      ],
      "execution_count": null,
      "outputs": []
    },
    {
      "cell_type": "markdown",
      "metadata": {
        "id": "QZsocMbVd6H3"
      },
      "source": [
        "###8.2: Creating a model using statsmodel with all RFE columns"
      ]
    },
    {
      "cell_type": "markdown",
      "metadata": {
        "id": "DUM7GtTBdtm-"
      },
      "source": [
        "As we will be using statsmodel for model building we will need to add a constant "
      ]
    },
    {
      "cell_type": "code",
      "metadata": {
        "id": "QnRxxE_6d1be"
      },
      "source": [
        "X_train_rfe = sm.add_constant(X_train_rfe)"
      ],
      "execution_count": null,
      "outputs": []
    },
    {
      "cell_type": "markdown",
      "metadata": {
        "id": "SUSnUxbQllj7"
      },
      "source": [
        "build model"
      ]
    },
    {
      "cell_type": "code",
      "metadata": {
        "id": "p8emW8Lkd9gJ"
      },
      "source": [
        "lm1 = sm.OLS(y_train,X_train_rfe).fit()"
      ],
      "execution_count": null,
      "outputs": []
    },
    {
      "cell_type": "markdown",
      "metadata": {
        "id": "Q0v90ONteMH9"
      },
      "source": [
        "Checking the model created "
      ]
    },
    {
      "cell_type": "code",
      "metadata": {
        "id": "E4mLdfGoeOR9",
        "colab": {
          "base_uri": "https://localhost:8080/"
        },
        "outputId": "cf284041-f292-404b-b622-e03a2bf5cb02"
      },
      "source": [
        "lm1.params"
      ],
      "execution_count": null,
      "outputs": [
        {
          "output_type": "execute_result",
          "data": {
            "text/plain": [
              "const                         0.199\n",
              "yr                            0.230\n",
              "holiday                      -0.019\n",
              "workingday                    0.084\n",
              "temp                          0.528\n",
              "hum                          -0.159\n",
              "windspeed                    -0.181\n",
              "season_spring                -0.055\n",
              "season_summer                 0.053\n",
              "season_winter                 0.100\n",
              "mnth_july                    -0.055\n",
              "mnth_september                0.082\n",
              "weekday_monday                0.094\n",
              "weekday_tuesday               0.040\n",
              "weathersit_cloudy            -0.058\n",
              "weathersit_light snow/rain   -0.246\n",
              "dtype: float64"
            ]
          },
          "metadata": {
            "tags": []
          },
          "execution_count": 177
        }
      ]
    },
    {
      "cell_type": "code",
      "metadata": {
        "id": "LVFyGk2zfjXf",
        "colab": {
          "base_uri": "https://localhost:8080/"
        },
        "outputId": "cae6e967-bc7a-4a41-8a5c-8a7a54059f07"
      },
      "source": [
        "print(lm1.summary())"
      ],
      "execution_count": null,
      "outputs": [
        {
          "output_type": "stream",
          "text": [
            "                            OLS Regression Results                            \n",
            "==============================================================================\n",
            "Dep. Variable:                    cnt   R-squared:                       0.847\n",
            "Model:                            OLS   Adj. R-squared:                  0.843\n",
            "Method:                 Least Squares   F-statistic:                     196.3\n",
            "Date:                Mon, 02 Nov 2020   Prob (F-statistic):          1.13e-191\n",
            "Time:                        17:54:32   Log-Likelihood:                 517.87\n",
            "No. Observations:                 510   AIC:                            -1006.\n",
            "Df Residuals:                     495   BIC:                            -942.2\n",
            "Df Model:                          14                                         \n",
            "Covariance Type:            nonrobust                                         \n",
            "==============================================================================================\n",
            "                                 coef    std err          t      P>|t|      [0.025      0.975]\n",
            "----------------------------------------------------------------------------------------------\n",
            "const                          0.1989      0.028      7.181      0.000       0.144       0.253\n",
            "yr                             0.2297      0.008     28.660      0.000       0.214       0.245\n",
            "holiday                       -0.0190      0.021     -0.892      0.373      -0.061       0.023\n",
            "workingday                     0.0837      0.010      8.672      0.000       0.065       0.103\n",
            "temp                           0.5278      0.033     15.897      0.000       0.463       0.593\n",
            "hum                           -0.1595      0.037     -4.268      0.000      -0.233      -0.086\n",
            "windspeed                     -0.1806      0.025     -7.110      0.000      -0.231      -0.131\n",
            "season_spring                 -0.0554      0.021     -2.694      0.007      -0.096      -0.015\n",
            "season_summer                  0.0526      0.015      3.553      0.000       0.024       0.082\n",
            "season_winter                  0.1003      0.017      5.890      0.000       0.067       0.134\n",
            "mnth_july                     -0.0549      0.018     -3.035      0.003      -0.090      -0.019\n",
            "mnth_september                 0.0818      0.016      4.956      0.000       0.049       0.114\n",
            "weekday_monday                 0.0937      0.012      8.045      0.000       0.071       0.117\n",
            "weekday_tuesday                0.0405      0.012      3.304      0.001       0.016       0.065\n",
            "weathersit_cloudy             -0.0578      0.010     -5.559      0.000      -0.078      -0.037\n",
            "weathersit_light snow/rain    -0.2463      0.026     -9.449      0.000      -0.298      -0.195\n",
            "==============================================================================\n",
            "Omnibus:                       64.879   Durbin-Watson:                   2.065\n",
            "Prob(Omnibus):                  0.000   Jarque-Bera (JB):              158.454\n",
            "Skew:                          -0.661   Prob(JB):                     3.91e-35\n",
            "Kurtosis:                       5.390   Cond. No.                     5.96e+15\n",
            "==============================================================================\n",
            "\n",
            "Warnings:\n",
            "[1] Standard Errors assume that the covariance matrix of the errors is correctly specified.\n",
            "[2] The smallest eigenvalue is 4.25e-29. This might indicate that there are\n",
            "strong multicollinearity problems or that the design matrix is singular.\n"
          ],
          "name": "stdout"
        }
      ]
    },
    {
      "cell_type": "markdown",
      "metadata": {
        "id": "Zh2Qkp2rj4xM"
      },
      "source": [
        "####Insights: After our first model with RFE columns we have got \n",
        "1. Rsquared as 0.847\n",
        "2. Adjusted Rsquared as 0.843\n",
        "3. Durbin-Watson as 2.065\n",
        "4. F statstic as 196.3\n",
        "5. also t and p values "
      ]
    },
    {
      "cell_type": "markdown",
      "metadata": {
        "id": "W1zoki2virbP"
      },
      "source": [
        "Removing the added constant from X_train_rfe"
      ]
    },
    {
      "cell_type": "code",
      "metadata": {
        "id": "c8MPK4_bixZw"
      },
      "source": [
        "X_train_rfe = X_train_rfe.drop(['const'], axis=1)"
      ],
      "execution_count": null,
      "outputs": []
    },
    {
      "cell_type": "markdown",
      "metadata": {
        "id": "jDIVbEESgzpK"
      },
      "source": [
        "###8.3: checking VIF (Variance inflation factor)"
      ]
    },
    {
      "cell_type": "code",
      "metadata": {
        "id": "e2oNncsAhNEJ"
      },
      "source": [
        "vif = pd.DataFrame()\n",
        "X = X_train_rfe\n",
        "vif['Features'] = X.columns\n",
        "vif['VIF'] = [variance_inflation_factor(X.values, i) for i in range (X.shape[1])]\n",
        "vif['VIF'] = round(vif['VIF'], 2)\n",
        "vif = vif.sort_values(by ='VIF', ascending = False)"
      ],
      "execution_count": null,
      "outputs": []
    },
    {
      "cell_type": "code",
      "metadata": {
        "id": "ntl0DbMCjyD1",
        "colab": {
          "base_uri": "https://localhost:8080/",
          "height": 491
        },
        "outputId": "c93d7e8a-2c5c-41e5-e1b8-2ba44c53cabf"
      },
      "source": [
        "vif"
      ],
      "execution_count": null,
      "outputs": [
        {
          "output_type": "execute_result",
          "data": {
            "text/html": [
              "<div>\n",
              "<style scoped>\n",
              "    .dataframe tbody tr th:only-of-type {\n",
              "        vertical-align: middle;\n",
              "    }\n",
              "\n",
              "    .dataframe tbody tr th {\n",
              "        vertical-align: top;\n",
              "    }\n",
              "\n",
              "    .dataframe thead th {\n",
              "        text-align: right;\n",
              "    }\n",
              "</style>\n",
              "<table border=\"1\" class=\"dataframe\">\n",
              "  <thead>\n",
              "    <tr style=\"text-align: right;\">\n",
              "      <th></th>\n",
              "      <th>Features</th>\n",
              "      <th>VIF</th>\n",
              "    </tr>\n",
              "  </thead>\n",
              "  <tbody>\n",
              "    <tr>\n",
              "      <th>2</th>\n",
              "      <td>workingday</td>\n",
              "      <td>50.690</td>\n",
              "    </tr>\n",
              "    <tr>\n",
              "      <th>11</th>\n",
              "      <td>weekday_monday</td>\n",
              "      <td>12.200</td>\n",
              "    </tr>\n",
              "    <tr>\n",
              "      <th>12</th>\n",
              "      <td>weekday_tuesday</td>\n",
              "      <td>11.790</td>\n",
              "    </tr>\n",
              "    <tr>\n",
              "      <th>6</th>\n",
              "      <td>season_spring</td>\n",
              "      <td>5.020</td>\n",
              "    </tr>\n",
              "    <tr>\n",
              "      <th>3</th>\n",
              "      <td>temp</td>\n",
              "      <td>3.620</td>\n",
              "    </tr>\n",
              "    <tr>\n",
              "      <th>8</th>\n",
              "      <td>season_winter</td>\n",
              "      <td>3.490</td>\n",
              "    </tr>\n",
              "    <tr>\n",
              "      <th>1</th>\n",
              "      <td>holiday</td>\n",
              "      <td>2.910</td>\n",
              "    </tr>\n",
              "    <tr>\n",
              "      <th>7</th>\n",
              "      <td>season_summer</td>\n",
              "      <td>2.610</td>\n",
              "    </tr>\n",
              "    <tr>\n",
              "      <th>4</th>\n",
              "      <td>hum</td>\n",
              "      <td>1.910</td>\n",
              "    </tr>\n",
              "    <tr>\n",
              "      <th>13</th>\n",
              "      <td>weathersit_cloudy</td>\n",
              "      <td>1.570</td>\n",
              "    </tr>\n",
              "    <tr>\n",
              "      <th>9</th>\n",
              "      <td>mnth_july</td>\n",
              "      <td>1.490</td>\n",
              "    </tr>\n",
              "    <tr>\n",
              "      <th>10</th>\n",
              "      <td>mnth_september</td>\n",
              "      <td>1.300</td>\n",
              "    </tr>\n",
              "    <tr>\n",
              "      <th>14</th>\n",
              "      <td>weathersit_light snow/rain</td>\n",
              "      <td>1.250</td>\n",
              "    </tr>\n",
              "    <tr>\n",
              "      <th>5</th>\n",
              "      <td>windspeed</td>\n",
              "      <td>1.200</td>\n",
              "    </tr>\n",
              "    <tr>\n",
              "      <th>0</th>\n",
              "      <td>yr</td>\n",
              "      <td>1.030</td>\n",
              "    </tr>\n",
              "  </tbody>\n",
              "</table>\n",
              "</div>"
            ],
            "text/plain": [
              "                      Features    VIF\n",
              "2                   workingday 50.690\n",
              "11              weekday_monday 12.200\n",
              "12             weekday_tuesday 11.790\n",
              "6                season_spring  5.020\n",
              "3                         temp  3.620\n",
              "8                season_winter  3.490\n",
              "1                      holiday  2.910\n",
              "7                season_summer  2.610\n",
              "4                          hum  1.910\n",
              "13           weathersit_cloudy  1.570\n",
              "9                    mnth_july  1.490\n",
              "10              mnth_september  1.300\n",
              "14  weathersit_light snow/rain  1.250\n",
              "5                    windspeed  1.200\n",
              "0                           yr  1.030"
            ]
          },
          "metadata": {
            "tags": []
          },
          "execution_count": 181
        }
      ]
    },
    {
      "cell_type": "markdown",
      "metadata": {
        "id": "frOFOi8Qj284"
      },
      "source": [
        "####Insights : Clearly we should drop holiday for high P value"
      ]
    },
    {
      "cell_type": "code",
      "metadata": {
        "id": "aI3Nebffkq4K"
      },
      "source": [
        "X_train_rfe2 = X_train_rfe.drop([\"holiday\"], axis = 1)"
      ],
      "execution_count": null,
      "outputs": []
    },
    {
      "cell_type": "code",
      "metadata": {
        "id": "yPmKwdlBky_R",
        "colab": {
          "base_uri": "https://localhost:8080/"
        },
        "outputId": "ee83a595-d72a-4b16-90c1-405d15f382fe"
      },
      "source": [
        "X_train_rfe2.columns"
      ],
      "execution_count": null,
      "outputs": [
        {
          "output_type": "execute_result",
          "data": {
            "text/plain": [
              "Index(['yr', 'workingday', 'temp', 'hum', 'windspeed', 'season_spring',\n",
              "       'season_summer', 'season_winter', 'mnth_july', 'mnth_september',\n",
              "       'weekday_monday', 'weekday_tuesday', 'weathersit_cloudy',\n",
              "       'weathersit_light snow/rain'],\n",
              "      dtype='object')"
            ]
          },
          "metadata": {
            "tags": []
          },
          "execution_count": 183
        }
      ]
    },
    {
      "cell_type": "markdown",
      "metadata": {
        "id": "ktt5tt5jlBZO"
      },
      "source": [
        "###8.4: Creating model 2  after dropping holiday "
      ]
    },
    {
      "cell_type": "markdown",
      "metadata": {
        "id": "5jzWuihylsg8"
      },
      "source": [
        "As we will be using statsmodel for model building we will need to add a constant "
      ]
    },
    {
      "cell_type": "code",
      "metadata": {
        "id": "p95u7MYJlsg9"
      },
      "source": [
        "X_train_rfe2 = sm.add_constant(X_train_rfe2)"
      ],
      "execution_count": null,
      "outputs": []
    },
    {
      "cell_type": "markdown",
      "metadata": {
        "id": "FnU3cdatlsg_"
      },
      "source": [
        "build model"
      ]
    },
    {
      "cell_type": "code",
      "metadata": {
        "id": "DKisVGBalsg_"
      },
      "source": [
        "lm2 = sm.OLS(y_train,X_train_rfe2).fit()"
      ],
      "execution_count": null,
      "outputs": []
    },
    {
      "cell_type": "markdown",
      "metadata": {
        "id": "Gg76NqyNlshB"
      },
      "source": [
        "Checking the model created "
      ]
    },
    {
      "cell_type": "code",
      "metadata": {
        "id": "w0-ao8xzlshB",
        "colab": {
          "base_uri": "https://localhost:8080/"
        },
        "outputId": "9adb1c3b-cf55-45a6-df3a-7daa36a476d5"
      },
      "source": [
        "lm2.params"
      ],
      "execution_count": null,
      "outputs": [
        {
          "output_type": "execute_result",
          "data": {
            "text/plain": [
              "const                         0.180\n",
              "yr                            0.230\n",
              "workingday                    0.103\n",
              "temp                          0.528\n",
              "hum                          -0.159\n",
              "windspeed                    -0.181\n",
              "season_spring                -0.055\n",
              "season_summer                 0.053\n",
              "season_winter                 0.100\n",
              "mnth_july                    -0.055\n",
              "mnth_september                0.082\n",
              "weekday_monday                0.113\n",
              "weekday_tuesday               0.059\n",
              "weathersit_cloudy            -0.058\n",
              "weathersit_light snow/rain   -0.246\n",
              "dtype: float64"
            ]
          },
          "metadata": {
            "tags": []
          },
          "execution_count": 186
        }
      ]
    },
    {
      "cell_type": "code",
      "metadata": {
        "id": "DoVKLAqclshD",
        "colab": {
          "base_uri": "https://localhost:8080/"
        },
        "outputId": "72b2a14b-7268-4ecc-8b6a-0322c4d67837"
      },
      "source": [
        "print(lm2.summary())"
      ],
      "execution_count": null,
      "outputs": [
        {
          "output_type": "stream",
          "text": [
            "                            OLS Regression Results                            \n",
            "==============================================================================\n",
            "Dep. Variable:                    cnt   R-squared:                       0.847\n",
            "Model:                            OLS   Adj. R-squared:                  0.843\n",
            "Method:                 Least Squares   F-statistic:                     196.3\n",
            "Date:                Mon, 02 Nov 2020   Prob (F-statistic):          1.13e-191\n",
            "Time:                        17:54:32   Log-Likelihood:                 517.87\n",
            "No. Observations:                 510   AIC:                            -1006.\n",
            "Df Residuals:                     495   BIC:                            -942.2\n",
            "Df Model:                          14                                         \n",
            "Covariance Type:            nonrobust                                         \n",
            "==============================================================================================\n",
            "                                 coef    std err          t      P>|t|      [0.025      0.975]\n",
            "----------------------------------------------------------------------------------------------\n",
            "const                          0.1799      0.042      4.276      0.000       0.097       0.263\n",
            "yr                             0.2297      0.008     28.660      0.000       0.214       0.245\n",
            "workingday                     0.1027      0.025      4.047      0.000       0.053       0.152\n",
            "temp                           0.5278      0.033     15.897      0.000       0.463       0.593\n",
            "hum                           -0.1595      0.037     -4.268      0.000      -0.233      -0.086\n",
            "windspeed                     -0.1806      0.025     -7.110      0.000      -0.231      -0.131\n",
            "season_spring                 -0.0554      0.021     -2.694      0.007      -0.096      -0.015\n",
            "season_summer                  0.0526      0.015      3.553      0.000       0.024       0.082\n",
            "season_winter                  0.1003      0.017      5.890      0.000       0.067       0.134\n",
            "mnth_july                     -0.0549      0.018     -3.035      0.003      -0.090      -0.019\n",
            "mnth_september                 0.0818      0.016      4.956      0.000       0.049       0.114\n",
            "weekday_monday                 0.1126      0.027      4.202      0.000       0.060       0.165\n",
            "weekday_tuesday                0.0594      0.027      2.206      0.028       0.006       0.112\n",
            "weathersit_cloudy             -0.0578      0.010     -5.559      0.000      -0.078      -0.037\n",
            "weathersit_light snow/rain    -0.2463      0.026     -9.449      0.000      -0.298      -0.195\n",
            "==============================================================================\n",
            "Omnibus:                       64.879   Durbin-Watson:                   2.065\n",
            "Prob(Omnibus):                  0.000   Jarque-Bera (JB):              158.454\n",
            "Skew:                          -0.661   Prob(JB):                     3.91e-35\n",
            "Kurtosis:                       5.390   Cond. No.                         25.2\n",
            "==============================================================================\n",
            "\n",
            "Warnings:\n",
            "[1] Standard Errors assume that the covariance matrix of the errors is correctly specified.\n"
          ],
          "name": "stdout"
        }
      ]
    },
    {
      "cell_type": "markdown",
      "metadata": {
        "id": "lgKzv6XEmF2N"
      },
      "source": [
        "####Insights: After our first model with RFE columns we have got \n",
        "1. Rsquared as 0.847\n",
        "2. Adjusted Rsquared as 0.843\n",
        "3. Durbin-Watson as 2.065\n",
        "4. F statstic as 196.3\n",
        " also t and p values"
      ]
    },
    {
      "cell_type": "markdown",
      "metadata": {
        "id": "4GN6hC4Wmm5T"
      },
      "source": [
        "Removing the added constant from X_train_rfe2"
      ]
    },
    {
      "cell_type": "code",
      "metadata": {
        "id": "QZswif1Imm5T"
      },
      "source": [
        "X_train_rfe2 = X_train_rfe2.drop(['const'], axis=1)"
      ],
      "execution_count": null,
      "outputs": []
    },
    {
      "cell_type": "markdown",
      "metadata": {
        "id": "jxNbiw13mm5V"
      },
      "source": [
        "###8.5: checking VIF (Variance inflation factor) for model 2\n",
        "\n",
        "---\n",
        "\n"
      ]
    },
    {
      "cell_type": "code",
      "metadata": {
        "id": "2U7-jTztmm5W"
      },
      "source": [
        "vif = pd.DataFrame()\n",
        "X = X_train_rfe2\n",
        "vif['Features'] = X.columns\n",
        "vif['VIF'] = [variance_inflation_factor(X.values, i) for i in range (X.shape[1])]\n",
        "vif['VIF'] = round(vif['VIF'], 2)\n",
        "vif = vif.sort_values(by ='VIF', ascending = False)"
      ],
      "execution_count": null,
      "outputs": []
    },
    {
      "cell_type": "code",
      "metadata": {
        "id": "TQSpYYf0mm5X",
        "colab": {
          "base_uri": "https://localhost:8080/",
          "height": 462
        },
        "outputId": "1f3baf83-d46b-47c2-9eda-8786a1b86f0a"
      },
      "source": [
        "vif"
      ],
      "execution_count": null,
      "outputs": [
        {
          "output_type": "execute_result",
          "data": {
            "text/html": [
              "<div>\n",
              "<style scoped>\n",
              "    .dataframe tbody tr th:only-of-type {\n",
              "        vertical-align: middle;\n",
              "    }\n",
              "\n",
              "    .dataframe tbody tr th {\n",
              "        vertical-align: top;\n",
              "    }\n",
              "\n",
              "    .dataframe thead th {\n",
              "        text-align: right;\n",
              "    }\n",
              "</style>\n",
              "<table border=\"1\" class=\"dataframe\">\n",
              "  <thead>\n",
              "    <tr style=\"text-align: right;\">\n",
              "      <th></th>\n",
              "      <th>Features</th>\n",
              "      <th>VIF</th>\n",
              "    </tr>\n",
              "  </thead>\n",
              "  <tbody>\n",
              "    <tr>\n",
              "      <th>3</th>\n",
              "      <td>hum</td>\n",
              "      <td>32.140</td>\n",
              "    </tr>\n",
              "    <tr>\n",
              "      <th>2</th>\n",
              "      <td>temp</td>\n",
              "      <td>18.980</td>\n",
              "    </tr>\n",
              "    <tr>\n",
              "      <th>1</th>\n",
              "      <td>workingday</td>\n",
              "      <td>18.410</td>\n",
              "    </tr>\n",
              "    <tr>\n",
              "      <th>10</th>\n",
              "      <td>weekday_monday</td>\n",
              "      <td>4.910</td>\n",
              "    </tr>\n",
              "    <tr>\n",
              "      <th>4</th>\n",
              "      <td>windspeed</td>\n",
              "      <td>4.900</td>\n",
              "    </tr>\n",
              "    <tr>\n",
              "      <th>5</th>\n",
              "      <td>season_spring</td>\n",
              "      <td>4.800</td>\n",
              "    </tr>\n",
              "    <tr>\n",
              "      <th>11</th>\n",
              "      <td>weekday_tuesday</td>\n",
              "      <td>4.760</td>\n",
              "    </tr>\n",
              "    <tr>\n",
              "      <th>7</th>\n",
              "      <td>season_winter</td>\n",
              "      <td>3.710</td>\n",
              "    </tr>\n",
              "    <tr>\n",
              "      <th>6</th>\n",
              "      <td>season_summer</td>\n",
              "      <td>3.030</td>\n",
              "    </tr>\n",
              "    <tr>\n",
              "      <th>12</th>\n",
              "      <td>weathersit_cloudy</td>\n",
              "      <td>2.310</td>\n",
              "    </tr>\n",
              "    <tr>\n",
              "      <th>0</th>\n",
              "      <td>yr</td>\n",
              "      <td>2.090</td>\n",
              "    </tr>\n",
              "    <tr>\n",
              "      <th>8</th>\n",
              "      <td>mnth_july</td>\n",
              "      <td>1.600</td>\n",
              "    </tr>\n",
              "    <tr>\n",
              "      <th>9</th>\n",
              "      <td>mnth_september</td>\n",
              "      <td>1.380</td>\n",
              "    </tr>\n",
              "    <tr>\n",
              "      <th>13</th>\n",
              "      <td>weathersit_light snow/rain</td>\n",
              "      <td>1.250</td>\n",
              "    </tr>\n",
              "  </tbody>\n",
              "</table>\n",
              "</div>"
            ],
            "text/plain": [
              "                      Features    VIF\n",
              "3                          hum 32.140\n",
              "2                         temp 18.980\n",
              "1                   workingday 18.410\n",
              "10              weekday_monday  4.910\n",
              "4                    windspeed  4.900\n",
              "5                season_spring  4.800\n",
              "11             weekday_tuesday  4.760\n",
              "7                season_winter  3.710\n",
              "6                season_summer  3.030\n",
              "12           weathersit_cloudy  2.310\n",
              "0                           yr  2.090\n",
              "8                    mnth_july  1.600\n",
              "9               mnth_september  1.380\n",
              "13  weathersit_light snow/rain  1.250"
            ]
          },
          "metadata": {
            "tags": []
          },
          "execution_count": 190
        }
      ]
    },
    {
      "cell_type": "markdown",
      "metadata": {
        "id": "ceQihbdWtVUz"
      },
      "source": [
        "####Insights : Clearly we should drop hum for high VIF value"
      ]
    },
    {
      "cell_type": "code",
      "metadata": {
        "id": "QPj4aOkptVU0"
      },
      "source": [
        "X_train_rfe3 = X_train_rfe2.drop([\"hum\"], axis = 1)"
      ],
      "execution_count": null,
      "outputs": []
    },
    {
      "cell_type": "code",
      "metadata": {
        "id": "xcxRTcAqtVU2",
        "colab": {
          "base_uri": "https://localhost:8080/"
        },
        "outputId": "eff95ea5-411a-44ef-9a6f-ca7ea3f8627b"
      },
      "source": [
        "X_train_rfe3.columns"
      ],
      "execution_count": null,
      "outputs": [
        {
          "output_type": "execute_result",
          "data": {
            "text/plain": [
              "Index(['yr', 'workingday', 'temp', 'windspeed', 'season_spring',\n",
              "       'season_summer', 'season_winter', 'mnth_july', 'mnth_september',\n",
              "       'weekday_monday', 'weekday_tuesday', 'weathersit_cloudy',\n",
              "       'weathersit_light snow/rain'],\n",
              "      dtype='object')"
            ]
          },
          "metadata": {
            "tags": []
          },
          "execution_count": 192
        }
      ]
    },
    {
      "cell_type": "markdown",
      "metadata": {
        "id": "JyW4jHbguPUs"
      },
      "source": [
        "###8.6: Creating model 3 after dropping hum "
      ]
    },
    {
      "cell_type": "markdown",
      "metadata": {
        "id": "zlQa5_JYuPUt"
      },
      "source": [
        "As we will be using statsmodel for model building we will need to add a constant "
      ]
    },
    {
      "cell_type": "code",
      "metadata": {
        "id": "APn971NduPUt"
      },
      "source": [
        "X_train_rfe3 = sm.add_constant(X_train_rfe3)"
      ],
      "execution_count": null,
      "outputs": []
    },
    {
      "cell_type": "markdown",
      "metadata": {
        "id": "VB1jGepnuPUv"
      },
      "source": [
        "build model"
      ]
    },
    {
      "cell_type": "code",
      "metadata": {
        "id": "QGxsd8RsuPUw"
      },
      "source": [
        "lm3 = sm.OLS(y_train,X_train_rfe3).fit()"
      ],
      "execution_count": null,
      "outputs": []
    },
    {
      "cell_type": "markdown",
      "metadata": {
        "id": "xhY_plqOuPUx"
      },
      "source": [
        "Checking the model created "
      ]
    },
    {
      "cell_type": "code",
      "metadata": {
        "id": "SGeVd4KDuPUx",
        "colab": {
          "base_uri": "https://localhost:8080/"
        },
        "outputId": "72038bde-55ef-4279-9a11-91d2017c6c3c"
      },
      "source": [
        "lm3.params"
      ],
      "execution_count": null,
      "outputs": [
        {
          "output_type": "execute_result",
          "data": {
            "text/plain": [
              "const                         0.101\n",
              "yr                            0.234\n",
              "workingday                    0.103\n",
              "temp                          0.492\n",
              "windspeed                    -0.149\n",
              "season_spring                -0.065\n",
              "season_summer                 0.046\n",
              "season_winter                 0.086\n",
              "mnth_july                    -0.050\n",
              "mnth_september                0.076\n",
              "weekday_monday                0.115\n",
              "weekday_tuesday               0.057\n",
              "weathersit_cloudy            -0.084\n",
              "weathersit_light snow/rain   -0.290\n",
              "dtype: float64"
            ]
          },
          "metadata": {
            "tags": []
          },
          "execution_count": 195
        }
      ]
    },
    {
      "cell_type": "code",
      "metadata": {
        "id": "GjA8x5ZcuPU0",
        "colab": {
          "base_uri": "https://localhost:8080/"
        },
        "outputId": "2d9d04b0-1379-48ab-e686-2ec1888e43bf"
      },
      "source": [
        "print(lm3.summary())"
      ],
      "execution_count": null,
      "outputs": [
        {
          "output_type": "stream",
          "text": [
            "                            OLS Regression Results                            \n",
            "==============================================================================\n",
            "Dep. Variable:                    cnt   R-squared:                       0.842\n",
            "Model:                            OLS   Adj. R-squared:                  0.838\n",
            "Method:                 Least Squares   F-statistic:                     203.0\n",
            "Date:                Mon, 02 Nov 2020   Prob (F-statistic):          5.73e-189\n",
            "Time:                        17:54:32   Log-Likelihood:                 508.65\n",
            "No. Observations:                 510   AIC:                            -989.3\n",
            "Df Residuals:                     496   BIC:                            -930.0\n",
            "Df Model:                          13                                         \n",
            "Covariance Type:            nonrobust                                         \n",
            "==============================================================================================\n",
            "                                 coef    std err          t      P>|t|      [0.025      0.975]\n",
            "----------------------------------------------------------------------------------------------\n",
            "const                          0.1005      0.038      2.618      0.009       0.025       0.176\n",
            "yr                             0.2336      0.008     28.839      0.000       0.218       0.250\n",
            "workingday                     0.1034      0.026      4.008      0.000       0.053       0.154\n",
            "temp                           0.4920      0.033     15.056      0.000       0.428       0.556\n",
            "windspeed                     -0.1491      0.025     -6.032      0.000      -0.198      -0.101\n",
            "season_spring                 -0.0653      0.021     -3.139      0.002      -0.106      -0.024\n",
            "season_summer                  0.0465      0.015      3.101      0.002       0.017       0.076\n",
            "season_winter                  0.0859      0.017      5.058      0.000       0.053       0.119\n",
            "mnth_july                     -0.0500      0.018     -2.723      0.007      -0.086      -0.014\n",
            "mnth_september                 0.0758      0.017      4.532      0.000       0.043       0.109\n",
            "weekday_monday                 0.1152      0.027      4.225      0.000       0.062       0.169\n",
            "weekday_tuesday                0.0571      0.027      2.085      0.038       0.003       0.111\n",
            "weathersit_cloudy             -0.0835      0.009     -9.669      0.000      -0.100      -0.067\n",
            "weathersit_light snow/rain    -0.2904      0.024    -11.931      0.000      -0.338      -0.243\n",
            "==============================================================================\n",
            "Omnibus:                       66.977   Durbin-Watson:                   2.059\n",
            "Prob(Omnibus):                  0.000   Jarque-Bera (JB):              163.728\n",
            "Skew:                          -0.681   Prob(JB):                     2.80e-36\n",
            "Kurtosis:                       5.419   Cond. No.                         22.6\n",
            "==============================================================================\n",
            "\n",
            "Warnings:\n",
            "[1] Standard Errors assume that the covariance matrix of the errors is correctly specified.\n"
          ],
          "name": "stdout"
        }
      ]
    },
    {
      "cell_type": "markdown",
      "metadata": {
        "id": "I8gU5D5BuPU1"
      },
      "source": [
        "####Insights: After our first model with RFE columns we have got \n",
        "1. Rsquared as 0.84\n",
        "2. djusted Rsquared as 0.838\n",
        "3. Durbin-Watson as 2.059\n",
        "4. F statstic as 203\n",
        "5. also t and p values "
      ]
    },
    {
      "cell_type": "markdown",
      "metadata": {
        "id": "vTK1LVDuuPU2"
      },
      "source": [
        "Removing the added constant from X_train_rfe3"
      ]
    },
    {
      "cell_type": "code",
      "metadata": {
        "id": "5OUrgAMtuPU2"
      },
      "source": [
        "X_train_rfe3 = X_train_rfe3.drop(['const'], axis=1)"
      ],
      "execution_count": null,
      "outputs": []
    },
    {
      "cell_type": "markdown",
      "metadata": {
        "id": "imOV5YiouPU4"
      },
      "source": [
        "###8.7: checking VIF (Variance inflation factor) for model 3\n",
        "\n",
        "---\n",
        "\n"
      ]
    },
    {
      "cell_type": "code",
      "metadata": {
        "id": "eX_CVjXHuPU4"
      },
      "source": [
        "vif = pd.DataFrame()\n",
        "X = X_train_rfe3\n",
        "vif['Features'] = X.columns\n",
        "vif['VIF'] = [variance_inflation_factor(X.values, i) for i in range (X.shape[1])]\n",
        "vif['VIF'] = round(vif['VIF'], 2)\n",
        "vif = vif.sort_values(by ='VIF', ascending = False)"
      ],
      "execution_count": null,
      "outputs": []
    },
    {
      "cell_type": "code",
      "metadata": {
        "id": "SpmNbJxluPU8",
        "colab": {
          "base_uri": "https://localhost:8080/",
          "height": 432
        },
        "outputId": "5cce978c-4b54-4517-da86-c621fbd7f767"
      },
      "source": [
        "vif"
      ],
      "execution_count": null,
      "outputs": [
        {
          "output_type": "execute_result",
          "data": {
            "text/html": [
              "<div>\n",
              "<style scoped>\n",
              "    .dataframe tbody tr th:only-of-type {\n",
              "        vertical-align: middle;\n",
              "    }\n",
              "\n",
              "    .dataframe tbody tr th {\n",
              "        vertical-align: top;\n",
              "    }\n",
              "\n",
              "    .dataframe thead th {\n",
              "        text-align: right;\n",
              "    }\n",
              "</style>\n",
              "<table border=\"1\" class=\"dataframe\">\n",
              "  <thead>\n",
              "    <tr style=\"text-align: right;\">\n",
              "      <th></th>\n",
              "      <th>Features</th>\n",
              "      <th>VIF</th>\n",
              "    </tr>\n",
              "  </thead>\n",
              "  <tbody>\n",
              "    <tr>\n",
              "      <th>1</th>\n",
              "      <td>workingday</td>\n",
              "      <td>16.190</td>\n",
              "    </tr>\n",
              "    <tr>\n",
              "      <th>2</th>\n",
              "      <td>temp</td>\n",
              "      <td>12.730</td>\n",
              "    </tr>\n",
              "    <tr>\n",
              "      <th>3</th>\n",
              "      <td>windspeed</td>\n",
              "      <td>4.750</td>\n",
              "    </tr>\n",
              "    <tr>\n",
              "      <th>9</th>\n",
              "      <td>weekday_monday</td>\n",
              "      <td>4.450</td>\n",
              "    </tr>\n",
              "    <tr>\n",
              "      <th>10</th>\n",
              "      <td>weekday_tuesday</td>\n",
              "      <td>4.210</td>\n",
              "    </tr>\n",
              "    <tr>\n",
              "      <th>4</th>\n",
              "      <td>season_spring</td>\n",
              "      <td>3.820</td>\n",
              "    </tr>\n",
              "    <tr>\n",
              "      <th>6</th>\n",
              "      <td>season_winter</td>\n",
              "      <td>2.800</td>\n",
              "    </tr>\n",
              "    <tr>\n",
              "      <th>5</th>\n",
              "      <td>season_summer</td>\n",
              "      <td>2.750</td>\n",
              "    </tr>\n",
              "    <tr>\n",
              "      <th>0</th>\n",
              "      <td>yr</td>\n",
              "      <td>2.070</td>\n",
              "    </tr>\n",
              "    <tr>\n",
              "      <th>7</th>\n",
              "      <td>mnth_july</td>\n",
              "      <td>1.600</td>\n",
              "    </tr>\n",
              "    <tr>\n",
              "      <th>11</th>\n",
              "      <td>weathersit_cloudy</td>\n",
              "      <td>1.580</td>\n",
              "    </tr>\n",
              "    <tr>\n",
              "      <th>8</th>\n",
              "      <td>mnth_september</td>\n",
              "      <td>1.350</td>\n",
              "    </tr>\n",
              "    <tr>\n",
              "      <th>12</th>\n",
              "      <td>weathersit_light snow/rain</td>\n",
              "      <td>1.090</td>\n",
              "    </tr>\n",
              "  </tbody>\n",
              "</table>\n",
              "</div>"
            ],
            "text/plain": [
              "                      Features    VIF\n",
              "1                   workingday 16.190\n",
              "2                         temp 12.730\n",
              "3                    windspeed  4.750\n",
              "9               weekday_monday  4.450\n",
              "10             weekday_tuesday  4.210\n",
              "4                season_spring  3.820\n",
              "6                season_winter  2.800\n",
              "5                season_summer  2.750\n",
              "0                           yr  2.070\n",
              "7                    mnth_july  1.600\n",
              "11           weathersit_cloudy  1.580\n",
              "8               mnth_september  1.350\n",
              "12  weathersit_light snow/rain  1.090"
            ]
          },
          "metadata": {
            "tags": []
          },
          "execution_count": 199
        }
      ]
    },
    {
      "cell_type": "markdown",
      "metadata": {
        "id": "ARZGcSGsuPU9"
      },
      "source": [
        "####Insights :Clearly we should drop workingday for high P value"
      ]
    },
    {
      "cell_type": "code",
      "metadata": {
        "id": "96Si-4kFuPU9"
      },
      "source": [
        "X_train_rfe4 = X_train_rfe3.drop([\"workingday\"], axis = 1)"
      ],
      "execution_count": null,
      "outputs": []
    },
    {
      "cell_type": "code",
      "metadata": {
        "id": "rAd6m5g9uPU_",
        "colab": {
          "base_uri": "https://localhost:8080/"
        },
        "outputId": "89f60e9b-9caf-4370-f407-03d5e52de3df"
      },
      "source": [
        "X_train_rfe4.columns"
      ],
      "execution_count": null,
      "outputs": [
        {
          "output_type": "execute_result",
          "data": {
            "text/plain": [
              "Index(['yr', 'temp', 'windspeed', 'season_spring', 'season_summer',\n",
              "       'season_winter', 'mnth_july', 'mnth_september', 'weekday_monday',\n",
              "       'weekday_tuesday', 'weathersit_cloudy', 'weathersit_light snow/rain'],\n",
              "      dtype='object')"
            ]
          },
          "metadata": {
            "tags": []
          },
          "execution_count": 201
        }
      ]
    },
    {
      "cell_type": "markdown",
      "metadata": {
        "id": "JUO6osScvs_7"
      },
      "source": [
        "###8.8: Creating model 4  after dropping working day "
      ]
    },
    {
      "cell_type": "markdown",
      "metadata": {
        "id": "7SpK_Ragvs_8"
      },
      "source": [
        "As we will be using statsmodel for model building we will need to add a constant "
      ]
    },
    {
      "cell_type": "code",
      "metadata": {
        "id": "7D28DKWTvs_8"
      },
      "source": [
        "X_train_rfe4 = sm.add_constant(X_train_rfe4)"
      ],
      "execution_count": null,
      "outputs": []
    },
    {
      "cell_type": "markdown",
      "metadata": {
        "id": "vgCNiMcfvs_-"
      },
      "source": [
        "build model"
      ]
    },
    {
      "cell_type": "code",
      "metadata": {
        "id": "TstMAQemvs__"
      },
      "source": [
        "lm4 = sm.OLS(y_train,X_train_rfe4).fit()"
      ],
      "execution_count": null,
      "outputs": []
    },
    {
      "cell_type": "markdown",
      "metadata": {
        "id": "tAAqkKX4vtAA"
      },
      "source": [
        "Checking the model created "
      ]
    },
    {
      "cell_type": "code",
      "metadata": {
        "id": "50WSHhHWvtAA",
        "colab": {
          "base_uri": "https://localhost:8080/"
        },
        "outputId": "af820f66-0689-4d39-d69a-ad0a6396bccc"
      },
      "source": [
        "lm4.params"
      ],
      "execution_count": null,
      "outputs": [
        {
          "output_type": "execute_result",
          "data": {
            "text/plain": [
              "const                         0.201\n",
              "yr                            0.234\n",
              "temp                          0.493\n",
              "windspeed                    -0.151\n",
              "season_spring                -0.068\n",
              "season_summer                 0.047\n",
              "season_winter                 0.083\n",
              "mnth_july                    -0.049\n",
              "mnth_september                0.072\n",
              "weekday_monday                0.016\n",
              "weekday_tuesday              -0.042\n",
              "weathersit_cloudy            -0.082\n",
              "weathersit_light snow/rain   -0.286\n",
              "dtype: float64"
            ]
          },
          "metadata": {
            "tags": []
          },
          "execution_count": 204
        }
      ]
    },
    {
      "cell_type": "code",
      "metadata": {
        "id": "6nLCNOFbvtAD",
        "colab": {
          "base_uri": "https://localhost:8080/"
        },
        "outputId": "15e48f5f-228e-4df7-e62c-a0435588cd56"
      },
      "source": [
        "print(lm4.summary())"
      ],
      "execution_count": null,
      "outputs": [
        {
          "output_type": "stream",
          "text": [
            "                            OLS Regression Results                            \n",
            "==============================================================================\n",
            "Dep. Variable:                    cnt   R-squared:                       0.837\n",
            "Model:                            OLS   Adj. R-squared:                  0.833\n",
            "Method:                 Least Squares   F-statistic:                     212.1\n",
            "Date:                Mon, 02 Nov 2020   Prob (F-statistic):          1.01e-186\n",
            "Time:                        17:54:32   Log-Likelihood:                 500.52\n",
            "No. Observations:                 510   AIC:                            -975.0\n",
            "Df Residuals:                     497   BIC:                            -920.0\n",
            "Df Model:                          12                                         \n",
            "Covariance Type:            nonrobust                                         \n",
            "==============================================================================================\n",
            "                                 coef    std err          t      P>|t|      [0.025      0.975]\n",
            "----------------------------------------------------------------------------------------------\n",
            "const                          0.2005      0.030      6.771      0.000       0.142       0.259\n",
            "yr                             0.2341      0.008     28.476      0.000       0.218       0.250\n",
            "temp                           0.4934      0.033     14.874      0.000       0.428       0.559\n",
            "windspeed                     -0.1513      0.025     -6.031      0.000      -0.201      -0.102\n",
            "season_spring                 -0.0679      0.021     -3.217      0.001      -0.109      -0.026\n",
            "season_summer                  0.0469      0.015      3.081      0.002       0.017       0.077\n",
            "season_winter                  0.0829      0.017      4.818      0.000       0.049       0.117\n",
            "mnth_july                     -0.0492      0.019     -2.639      0.009      -0.086      -0.013\n",
            "mnth_september                 0.0721      0.017      4.257      0.000       0.039       0.105\n",
            "weekday_monday                 0.0157      0.011      1.371      0.171      -0.007       0.038\n",
            "weekday_tuesday               -0.0422      0.012     -3.562      0.000      -0.066      -0.019\n",
            "weathersit_cloudy             -0.0816      0.009     -9.323      0.000      -0.099      -0.064\n",
            "weathersit_light snow/rain    -0.2858      0.025    -11.578      0.000      -0.334      -0.237\n",
            "==============================================================================\n",
            "Omnibus:                       80.763   Durbin-Watson:                   2.010\n",
            "Prob(Omnibus):                  0.000   Jarque-Bera (JB):              210.920\n",
            "Skew:                          -0.791   Prob(JB):                     1.58e-46\n",
            "Kurtosis:                       5.725   Cond. No.                         17.5\n",
            "==============================================================================\n",
            "\n",
            "Warnings:\n",
            "[1] Standard Errors assume that the covariance matrix of the errors is correctly specified.\n"
          ],
          "name": "stdout"
        }
      ]
    },
    {
      "cell_type": "markdown",
      "metadata": {
        "id": "KJWtvUSgglmd"
      },
      "source": [
        "####Insights: After our fourth  model with RFE columns we have got \n",
        "1. Rsquared as 0.837\n",
        "2. djusted Rsquared as 0.833\n",
        "3. Durbin-Watson as 2.010\n",
        "4. F statstic as 212\n",
        "5. also t and p values "
      ]
    },
    {
      "cell_type": "markdown",
      "metadata": {
        "id": "j8JxwqOUvtAF"
      },
      "source": [
        "Removing the added constant from X_train_rfe4"
      ]
    },
    {
      "cell_type": "code",
      "metadata": {
        "id": "ST_VUOAVvtAF"
      },
      "source": [
        "X_train_rfe4 = X_train_rfe4.drop(['const'], axis=1)"
      ],
      "execution_count": null,
      "outputs": []
    },
    {
      "cell_type": "markdown",
      "metadata": {
        "id": "rKkDcDUOvtAH"
      },
      "source": [
        "###8.9: checking VIF (Variance inflation factor) for model 4\n",
        "\n",
        "---\n",
        "\n"
      ]
    },
    {
      "cell_type": "code",
      "metadata": {
        "id": "F-jOWkl_vtAH"
      },
      "source": [
        "vif = pd.DataFrame()\n",
        "X = X_train_rfe4\n",
        "vif['Features'] = X.columns\n",
        "vif['VIF'] = [variance_inflation_factor(X.values, i) for i in range (X.shape[1])]\n",
        "vif['VIF'] = round(vif['VIF'], 2)\n",
        "vif = vif.sort_values(by ='VIF', ascending = False)"
      ],
      "execution_count": null,
      "outputs": []
    },
    {
      "cell_type": "code",
      "metadata": {
        "id": "luHxZVxYvtAI",
        "colab": {
          "base_uri": "https://localhost:8080/",
          "height": 402
        },
        "outputId": "ff3642c9-30c3-415e-e18f-5d8fde3341f5"
      },
      "source": [
        "vif"
      ],
      "execution_count": null,
      "outputs": [
        {
          "output_type": "execute_result",
          "data": {
            "text/html": [
              "<div>\n",
              "<style scoped>\n",
              "    .dataframe tbody tr th:only-of-type {\n",
              "        vertical-align: middle;\n",
              "    }\n",
              "\n",
              "    .dataframe tbody tr th {\n",
              "        vertical-align: top;\n",
              "    }\n",
              "\n",
              "    .dataframe thead th {\n",
              "        text-align: right;\n",
              "    }\n",
              "</style>\n",
              "<table border=\"1\" class=\"dataframe\">\n",
              "  <thead>\n",
              "    <tr style=\"text-align: right;\">\n",
              "      <th></th>\n",
              "      <th>Features</th>\n",
              "      <th>VIF</th>\n",
              "    </tr>\n",
              "  </thead>\n",
              "  <tbody>\n",
              "    <tr>\n",
              "      <th>1</th>\n",
              "      <td>temp</td>\n",
              "      <td>5.170</td>\n",
              "    </tr>\n",
              "    <tr>\n",
              "      <th>2</th>\n",
              "      <td>windspeed</td>\n",
              "      <td>4.620</td>\n",
              "    </tr>\n",
              "    <tr>\n",
              "      <th>4</th>\n",
              "      <td>season_summer</td>\n",
              "      <td>2.230</td>\n",
              "    </tr>\n",
              "    <tr>\n",
              "      <th>3</th>\n",
              "      <td>season_spring</td>\n",
              "      <td>2.110</td>\n",
              "    </tr>\n",
              "    <tr>\n",
              "      <th>0</th>\n",
              "      <td>yr</td>\n",
              "      <td>2.070</td>\n",
              "    </tr>\n",
              "    <tr>\n",
              "      <th>5</th>\n",
              "      <td>season_winter</td>\n",
              "      <td>1.820</td>\n",
              "    </tr>\n",
              "    <tr>\n",
              "      <th>6</th>\n",
              "      <td>mnth_july</td>\n",
              "      <td>1.590</td>\n",
              "    </tr>\n",
              "    <tr>\n",
              "      <th>10</th>\n",
              "      <td>weathersit_cloudy</td>\n",
              "      <td>1.550</td>\n",
              "    </tr>\n",
              "    <tr>\n",
              "      <th>7</th>\n",
              "      <td>mnth_september</td>\n",
              "      <td>1.330</td>\n",
              "    </tr>\n",
              "    <tr>\n",
              "      <th>8</th>\n",
              "      <td>weekday_monday</td>\n",
              "      <td>1.220</td>\n",
              "    </tr>\n",
              "    <tr>\n",
              "      <th>9</th>\n",
              "      <td>weekday_tuesday</td>\n",
              "      <td>1.210</td>\n",
              "    </tr>\n",
              "    <tr>\n",
              "      <th>11</th>\n",
              "      <td>weathersit_light snow/rain</td>\n",
              "      <td>1.080</td>\n",
              "    </tr>\n",
              "  </tbody>\n",
              "</table>\n",
              "</div>"
            ],
            "text/plain": [
              "                      Features   VIF\n",
              "1                         temp 5.170\n",
              "2                    windspeed 4.620\n",
              "4                season_summer 2.230\n",
              "3                season_spring 2.110\n",
              "0                           yr 2.070\n",
              "5                season_winter 1.820\n",
              "6                    mnth_july 1.590\n",
              "10           weathersit_cloudy 1.550\n",
              "7               mnth_september 1.330\n",
              "8               weekday_monday 1.220\n",
              "9              weekday_tuesday 1.210\n",
              "11  weathersit_light snow/rain 1.080"
            ]
          },
          "metadata": {
            "tags": []
          },
          "execution_count": 208
        }
      ]
    },
    {
      "cell_type": "markdown",
      "metadata": {
        "id": "zf8HW2dmgy7x"
      },
      "source": [
        "####Insights: All VIF except temp are below threshold of 5 , we cannot drop temp so we will drop weekday_monday for its high p value "
      ]
    },
    {
      "cell_type": "code",
      "metadata": {
        "id": "QXGWjA57v8Yc"
      },
      "source": [
        "X_train_rfe5 = X_train_rfe4.drop([\"weekday_monday\"], axis = 1)"
      ],
      "execution_count": null,
      "outputs": []
    },
    {
      "cell_type": "code",
      "metadata": {
        "id": "NKAMvAE-v8Yd",
        "colab": {
          "base_uri": "https://localhost:8080/"
        },
        "outputId": "71a12643-a334-4b02-c99e-23686ae7876f"
      },
      "source": [
        "X_train_rfe5.columns"
      ],
      "execution_count": null,
      "outputs": [
        {
          "output_type": "execute_result",
          "data": {
            "text/plain": [
              "Index(['yr', 'temp', 'windspeed', 'season_spring', 'season_summer',\n",
              "       'season_winter', 'mnth_july', 'mnth_september', 'weekday_tuesday',\n",
              "       'weathersit_cloudy', 'weathersit_light snow/rain'],\n",
              "      dtype='object')"
            ]
          },
          "metadata": {
            "tags": []
          },
          "execution_count": 210
        }
      ]
    },
    {
      "cell_type": "markdown",
      "metadata": {
        "id": "fWPwPCIJv8Yf"
      },
      "source": [
        "###8.8: Creating model 5  after dropping weekday_monday"
      ]
    },
    {
      "cell_type": "markdown",
      "metadata": {
        "id": "wCQjD54Kv8Yf"
      },
      "source": [
        "As we will be using statsmodel for model building we will need to add a constant "
      ]
    },
    {
      "cell_type": "code",
      "metadata": {
        "id": "wUTvpgYwv8Yf"
      },
      "source": [
        "X_train_rfe5 = sm.add_constant(X_train_rfe5)"
      ],
      "execution_count": null,
      "outputs": []
    },
    {
      "cell_type": "markdown",
      "metadata": {
        "id": "LFGRS5u_v8Yh"
      },
      "source": [
        "build model"
      ]
    },
    {
      "cell_type": "code",
      "metadata": {
        "id": "4ohb5feIv8Yh"
      },
      "source": [
        "lm5 = sm.OLS(y_train,X_train_rfe5).fit()"
      ],
      "execution_count": null,
      "outputs": []
    },
    {
      "cell_type": "markdown",
      "metadata": {
        "id": "ua-HAmgPv8Yj"
      },
      "source": [
        "Checking the model created "
      ]
    },
    {
      "cell_type": "code",
      "metadata": {
        "id": "ijBAuh-_v8Yj",
        "colab": {
          "base_uri": "https://localhost:8080/"
        },
        "outputId": "7f742f17-d31c-44ce-c9d0-c5d21f5b0e20"
      },
      "source": [
        "lm5.params"
      ],
      "execution_count": null,
      "outputs": [
        {
          "output_type": "execute_result",
          "data": {
            "text/plain": [
              "const                         0.204\n",
              "yr                            0.234\n",
              "temp                          0.492\n",
              "windspeed                    -0.150\n",
              "season_spring                -0.068\n",
              "season_summer                 0.047\n",
              "season_winter                 0.083\n",
              "mnth_july                    -0.049\n",
              "mnth_september                0.072\n",
              "weekday_tuesday              -0.045\n",
              "weathersit_cloudy            -0.082\n",
              "weathersit_light snow/rain   -0.286\n",
              "dtype: float64"
            ]
          },
          "metadata": {
            "tags": []
          },
          "execution_count": 213
        }
      ]
    },
    {
      "cell_type": "code",
      "metadata": {
        "id": "zli9d_szv8Yl",
        "colab": {
          "base_uri": "https://localhost:8080/"
        },
        "outputId": "ec222ca6-1c5a-4fe5-dd78-61140ee4e70e"
      },
      "source": [
        "print(lm5.summary())"
      ],
      "execution_count": null,
      "outputs": [
        {
          "output_type": "stream",
          "text": [
            "                            OLS Regression Results                            \n",
            "==============================================================================\n",
            "Dep. Variable:                    cnt   R-squared:                       0.836\n",
            "Model:                            OLS   Adj. R-squared:                  0.832\n",
            "Method:                 Least Squares   F-statistic:                     230.8\n",
            "Date:                Mon, 02 Nov 2020   Prob (F-statistic):          1.65e-187\n",
            "Time:                        17:54:32   Log-Likelihood:                 499.56\n",
            "No. Observations:                 510   AIC:                            -975.1\n",
            "Df Residuals:                     498   BIC:                            -924.3\n",
            "Df Model:                          11                                         \n",
            "Covariance Type:            nonrobust                                         \n",
            "==============================================================================================\n",
            "                                 coef    std err          t      P>|t|      [0.025      0.975]\n",
            "----------------------------------------------------------------------------------------------\n",
            "const                          0.2036      0.030      6.889      0.000       0.146       0.262\n",
            "yr                             0.2338      0.008     28.423      0.000       0.218       0.250\n",
            "temp                           0.4923      0.033     14.832      0.000       0.427       0.557\n",
            "windspeed                     -0.1498      0.025     -5.970      0.000      -0.199      -0.100\n",
            "season_spring                 -0.0680      0.021     -3.219      0.001      -0.109      -0.026\n",
            "season_summer                  0.0467      0.015      3.067      0.002       0.017       0.077\n",
            "season_winter                  0.0831      0.017      4.824      0.000       0.049       0.117\n",
            "mnth_july                     -0.0486      0.019     -2.607      0.009      -0.085      -0.012\n",
            "mnth_september                 0.0721      0.017      4.253      0.000       0.039       0.105\n",
            "weekday_tuesday               -0.0451      0.012     -3.862      0.000      -0.068      -0.022\n",
            "weathersit_cloudy             -0.0816      0.009     -9.311      0.000      -0.099      -0.064\n",
            "weathersit_light snow/rain    -0.2856      0.025    -11.560      0.000      -0.334      -0.237\n",
            "==============================================================================\n",
            "Omnibus:                       76.151   Durbin-Watson:                   2.009\n",
            "Prob(Omnibus):                  0.000   Jarque-Bera (JB):              207.716\n",
            "Skew:                          -0.733   Prob(JB):                     7.85e-46\n",
            "Kurtosis:                       5.762   Cond. No.                         17.4\n",
            "==============================================================================\n",
            "\n",
            "Warnings:\n",
            "[1] Standard Errors assume that the covariance matrix of the errors is correctly specified.\n"
          ],
          "name": "stdout"
        }
      ]
    },
    {
      "cell_type": "markdown",
      "metadata": {
        "id": "DUXVn4iiv8Ym"
      },
      "source": [
        "####Insights: After our fourth  model with RFE columns we have got \n",
        "1. Rsquared as 0.836\n",
        "2. djusted Rsquared as 0.832\n",
        "3. Durbin-Watson as 2.009\n",
        "4. F statstic as 230\n",
        "5. also t and p values "
      ]
    },
    {
      "cell_type": "markdown",
      "metadata": {
        "id": "y8saeVLov8Ym"
      },
      "source": [
        "Removing the added constant from X_train_rfe5"
      ]
    },
    {
      "cell_type": "code",
      "metadata": {
        "id": "Bu8HaMNUv8Yn"
      },
      "source": [
        "X_train_rfe5 = X_train_rfe5.drop(['const'], axis=1)"
      ],
      "execution_count": null,
      "outputs": []
    },
    {
      "cell_type": "markdown",
      "metadata": {
        "id": "bmCK2rFBv8Yp"
      },
      "source": [
        "###8.9: checking VIF (Variance inflation factor) for model 5\n",
        "\n",
        "---\n",
        "\n"
      ]
    },
    {
      "cell_type": "code",
      "metadata": {
        "id": "KbQmmX9Hv8Yp"
      },
      "source": [
        "vif = pd.DataFrame()\n",
        "X = X_train_rfe5\n",
        "vif['Features'] = X.columns\n",
        "vif['VIF'] = [variance_inflation_factor(X.values, i) for i in range (X.shape[1])]\n",
        "vif['VIF'] = round(vif['VIF'], 2)\n",
        "vif = vif.sort_values(by ='VIF', ascending = False)"
      ],
      "execution_count": null,
      "outputs": []
    },
    {
      "cell_type": "code",
      "metadata": {
        "id": "wiRJY6V-v8Yq",
        "colab": {
          "base_uri": "https://localhost:8080/",
          "height": 373
        },
        "outputId": "3c682f13-f0ef-4c7f-ce27-eb9dd108e83a"
      },
      "source": [
        "vif"
      ],
      "execution_count": null,
      "outputs": [
        {
          "output_type": "execute_result",
          "data": {
            "text/html": [
              "<div>\n",
              "<style scoped>\n",
              "    .dataframe tbody tr th:only-of-type {\n",
              "        vertical-align: middle;\n",
              "    }\n",
              "\n",
              "    .dataframe tbody tr th {\n",
              "        vertical-align: top;\n",
              "    }\n",
              "\n",
              "    .dataframe thead th {\n",
              "        text-align: right;\n",
              "    }\n",
              "</style>\n",
              "<table border=\"1\" class=\"dataframe\">\n",
              "  <thead>\n",
              "    <tr style=\"text-align: right;\">\n",
              "      <th></th>\n",
              "      <th>Features</th>\n",
              "      <th>VIF</th>\n",
              "    </tr>\n",
              "  </thead>\n",
              "  <tbody>\n",
              "    <tr>\n",
              "      <th>1</th>\n",
              "      <td>temp</td>\n",
              "      <td>5.130</td>\n",
              "    </tr>\n",
              "    <tr>\n",
              "      <th>2</th>\n",
              "      <td>windspeed</td>\n",
              "      <td>4.600</td>\n",
              "    </tr>\n",
              "    <tr>\n",
              "      <th>4</th>\n",
              "      <td>season_summer</td>\n",
              "      <td>2.220</td>\n",
              "    </tr>\n",
              "    <tr>\n",
              "      <th>3</th>\n",
              "      <td>season_spring</td>\n",
              "      <td>2.090</td>\n",
              "    </tr>\n",
              "    <tr>\n",
              "      <th>0</th>\n",
              "      <td>yr</td>\n",
              "      <td>2.070</td>\n",
              "    </tr>\n",
              "    <tr>\n",
              "      <th>5</th>\n",
              "      <td>season_winter</td>\n",
              "      <td>1.800</td>\n",
              "    </tr>\n",
              "    <tr>\n",
              "      <th>6</th>\n",
              "      <td>mnth_july</td>\n",
              "      <td>1.590</td>\n",
              "    </tr>\n",
              "    <tr>\n",
              "      <th>9</th>\n",
              "      <td>weathersit_cloudy</td>\n",
              "      <td>1.550</td>\n",
              "    </tr>\n",
              "    <tr>\n",
              "      <th>7</th>\n",
              "      <td>mnth_september</td>\n",
              "      <td>1.330</td>\n",
              "    </tr>\n",
              "    <tr>\n",
              "      <th>8</th>\n",
              "      <td>weekday_tuesday</td>\n",
              "      <td>1.170</td>\n",
              "    </tr>\n",
              "    <tr>\n",
              "      <th>10</th>\n",
              "      <td>weathersit_light snow/rain</td>\n",
              "      <td>1.080</td>\n",
              "    </tr>\n",
              "  </tbody>\n",
              "</table>\n",
              "</div>"
            ],
            "text/plain": [
              "                      Features   VIF\n",
              "1                         temp 5.130\n",
              "2                    windspeed 4.600\n",
              "4                season_summer 2.220\n",
              "3                season_spring 2.090\n",
              "0                           yr 2.070\n",
              "5                season_winter 1.800\n",
              "6                    mnth_july 1.590\n",
              "9            weathersit_cloudy 1.550\n",
              "7               mnth_september 1.330\n",
              "8              weekday_tuesday 1.170\n",
              "10  weathersit_light snow/rain 1.080"
            ]
          },
          "metadata": {
            "tags": []
          },
          "execution_count": 217
        }
      ]
    },
    {
      "cell_type": "markdown",
      "metadata": {
        "id": "X8ondpU7w_SJ"
      },
      "source": [
        "###Insights: All the VIF values except temp are below threshold of 5 and since temp is highly corelated to our target variable we wont drop it . All the p values are approximately 0 so we will finalize this model"
      ]
    },
    {
      "cell_type": "markdown",
      "metadata": {
        "id": "Mm5lfrxRprux"
      },
      "source": [
        "##Step 9: Model Interpretation of the final model"
      ]
    },
    {
      "cell_type": "markdown",
      "metadata": {
        "id": "TCKDZta5xW0e"
      },
      "source": [
        "####Insights: After our fourth  model with RFE columns we have got \n",
        "1. Rsquared as 0.836\n",
        "2. djusted Rsquared as 0.832\n",
        "3. Durbin-Watson as 2.009 This value is close to 2 , means that there is no autocorrelation\n",
        "4. F statstic as 230 This value > 0 hence our model is significant \n",
        "5. P values are 0 which states our model is significant "
      ]
    },
    {
      "cell_type": "markdown",
      "metadata": {
        "id": "ubGpIIHqvtAK"
      },
      "source": [
        "####Insights : The VIF of Temperature is 5.130 but we will not drop it as it is in high correlation with our target variable apart from that All P values are 0 and all VIF values are below the threshold of 5 so we will stop model building here. We will for now consider this as our final model"
      ]
    },
    {
      "cell_type": "markdown",
      "metadata": {
        "id": "7HuNqzP7A76N"
      },
      "source": [
        "### Assumption 2: from above we see VIF values are in our threshold so we confirm that there is no high multicollinearity"
      ]
    },
    {
      "cell_type": "markdown",
      "metadata": {
        "id": "NXsiplPqB79Q"
      },
      "source": [
        "### Assumption 3: From DW value as 2.009 we see that here is no auto correlation , hence we verify this assumption of linear regression"
      ]
    },
    {
      "cell_type": "markdown",
      "metadata": {
        "id": "5aElZr53qlUv"
      },
      "source": [
        "###Equation of the final model"
      ]
    },
    {
      "cell_type": "markdown",
      "metadata": {
        "id": "XSZX646Mrdop"
      },
      "source": [
        "####Equation of best fitted line is : \n",
        "cnt=(0.2338 × yr)-(0.1498 × windspeed) + (0.4923 x Temp) + (0.0680 × season4) + (0.0467 x season_summer) + (0.0831 x season_winter) - (0.0486 x mnth_july) +  (0.0721 x mnth_september) - (0.0451 x weekday_tuesday) - (0.816 x weathersit_cloudy) - (0.2856 x weathersit_lightsnow/rain)"
      ]
    },
    {
      "cell_type": "markdown",
      "metadata": {
        "id": "5GlP2rnYJnZg"
      },
      "source": [
        "##Step 10 : Prediction using the final model on train data"
      ]
    },
    {
      "cell_type": "markdown",
      "metadata": {
        "id": "5nG1h8_f2qBJ"
      },
      "source": [
        "First , lets add constant to Rfe4 again"
      ]
    },
    {
      "cell_type": "code",
      "metadata": {
        "id": "7lApJ8kq2tsz"
      },
      "source": [
        "X_train_rfe5 = sm.add_constant(X_train_rfe5)"
      ],
      "execution_count": null,
      "outputs": []
    },
    {
      "cell_type": "markdown",
      "metadata": {
        "id": "DpHdNc8nJunF"
      },
      "source": [
        "### 10.1:Making predictions"
      ]
    },
    {
      "cell_type": "code",
      "metadata": {
        "id": "4MIJ3Ix9yjsC"
      },
      "source": [
        "y_train_cnt = lm5.predict(X_train_rfe5)"
      ],
      "execution_count": null,
      "outputs": []
    },
    {
      "cell_type": "markdown",
      "metadata": {
        "id": "dXgqHlW7wZYz"
      },
      "source": [
        "##Step11: Residual analysis of the train data"
      ]
    },
    {
      "cell_type": "markdown",
      "metadata": {
        "id": "q970kn_HySO1"
      },
      "source": [
        "### 11.1: Checking assumptions of linear regression \n",
        "We have already checked few assumptions earlier, we will check the rest here"
      ]
    },
    {
      "cell_type": "markdown",
      "metadata": {
        "id": "HtW_Q_A2yduN"
      },
      "source": [
        "### Assumption 4 : Checking if the error terms are normally distributed "
      ]
    },
    {
      "cell_type": "markdown",
      "metadata": {
        "id": "c_GQ963p2x4V"
      },
      "source": [
        "Plotting a histogram for error terms"
      ]
    },
    {
      "cell_type": "code",
      "metadata": {
        "id": "cyGFtSOY33qk",
        "colab": {
          "base_uri": "https://localhost:8080/",
          "height": 333
        },
        "outputId": "b88e44d9-b637-4b77-d43f-614cbc2e7c08"
      },
      "source": [
        "fig = plt.figure()\n",
        "sns.distplot((y_train - y_train_cnt), bins = 20)\n",
        "fig.suptitle('Error Terms', fontsize = 20)     \n",
        "plt.xlabel('Errors', fontsize = 18)                         "
      ],
      "execution_count": null,
      "outputs": [
        {
          "output_type": "execute_result",
          "data": {
            "text/plain": [
              "Text(0.5, 0, 'Errors')"
            ]
          },
          "metadata": {
            "tags": []
          },
          "execution_count": 220
        },
        {
          "output_type": "display_data",
          "data": {
            "image/png": "[encoded data removed]",
            "text/plain": [
              "<Figure size 432x288 with 1 Axes>"
            ]
          },
          "metadata": {
            "tags": [],
            "needs_background": "light"
          }
        }
      ]
    },
    {
      "cell_type": "markdown",
      "metadata": {
        "id": "Oj7u_igC4Q8B"
      },
      "source": [
        "####Insights: The above plot shows that error terms are normally distributed . \n",
        "Hence our first assumption of the linear regression is valid "
      ]
    },
    {
      "cell_type": "markdown",
      "metadata": {
        "id": "6AMEQfKS4imi"
      },
      "source": [
        "###Assumption 5 : Checking if there is no heteroscedasticity "
      ]
    },
    {
      "cell_type": "code",
      "metadata": {
        "id": "qWQ5svvbKJ_y",
        "colab": {
          "base_uri": "https://localhost:8080/",
          "height": 351
        },
        "outputId": "94850b44-2126-4a0d-c2b4-256f1cad07a0"
      },
      "source": [
        "plt.subplots(figsize=(10,5))\n",
        "plt.subplot(1,2,1)\n",
        "plt.scatter(y_train_cnt, (y_train-y_train_cnt))\n",
        "plt.xlabel(\"Fitted values\")\n",
        "plt.ylabel(\"Residuals\")"
      ],
      "execution_count": null,
      "outputs": [
        {
          "output_type": "execute_result",
          "data": {
            "text/plain": [
              "Text(0, 0.5, 'Residuals')"
            ]
          },
          "metadata": {
            "tags": []
          },
          "execution_count": 221
        },
        {
          "output_type": "display_data",
          "data": {
            "image/png": "[encoded data removed]",
            "text/plain": [
              "<Figure size 720x360 with 1 Axes>"
            ]
          },
          "metadata": {
            "tags": [],
            "needs_background": "light"
          }
        }
      ]
    },
    {
      "cell_type": "markdown",
      "metadata": {
        "id": "qc3ZnnN_8vQf"
      },
      "source": [
        "There is no funnel shape pattern to be found in the above plot and hence there is no heteroscedasticity"
      ]
    },
    {
      "cell_type": "markdown",
      "metadata": {
        "id": "14TJOWkcONU5"
      },
      "source": [
        "##Step 12: Making Predictions on the test data using the final model"
      ]
    },
    {
      "cell_type": "markdown",
      "metadata": {
        "id": "HGBFCM5IOl_0"
      },
      "source": [
        "### 12.1 Scaling the test data "
      ]
    },
    {
      "cell_type": "markdown",
      "metadata": {
        "id": "mDcZhnOqPDyl"
      },
      "source": [
        "We will only use scaler.transform to the train dataset"
      ]
    },
    {
      "cell_type": "code",
      "metadata": {
        "id": "8TnXMgJOOvIl"
      },
      "source": [
        "num_vars = ['temp', 'hum', 'windspeed', 'cnt']\n",
        "bike_test[num_vars] = scaler.transform(bike_test[num_vars])"
      ],
      "execution_count": null,
      "outputs": []
    },
    {
      "cell_type": "markdown",
      "metadata": {
        "id": "E2ggT9NaPVHb"
      },
      "source": [
        "Checking the dataset after scaling"
      ]
    },
    {
      "cell_type": "code",
      "metadata": {
        "id": "Kn4o4WKuPbQA",
        "colab": {
          "base_uri": "https://localhost:8080/"
        },
        "outputId": "3dbc4b23-f1ed-4918-a8f7-b00c92f06790"
      },
      "source": [
        "bike_test.shape"
      ],
      "execution_count": null,
      "outputs": [
        {
          "output_type": "execute_result",
          "data": {
            "text/plain": [
              "(219, 29)"
            ]
          },
          "metadata": {
            "tags": []
          },
          "execution_count": 223
        }
      ]
    },
    {
      "cell_type": "code",
      "metadata": {
        "id": "8qYRK274PeNw",
        "colab": {
          "base_uri": "https://localhost:8080/",
          "height": 232
        },
        "outputId": "2db5f470-6e8e-467a-e958-7a77d9ec9f9a"
      },
      "source": [
        "bike_test.head(5)"
      ],
      "execution_count": null,
      "outputs": [
        {
          "output_type": "execute_result",
          "data": {
            "text/html": [
              "<div>\n",
              "<style scoped>\n",
              "    .dataframe tbody tr th:only-of-type {\n",
              "        vertical-align: middle;\n",
              "    }\n",
              "\n",
              "    .dataframe tbody tr th {\n",
              "        vertical-align: top;\n",
              "    }\n",
              "\n",
              "    .dataframe thead th {\n",
              "        text-align: right;\n",
              "    }\n",
              "</style>\n",
              "<table border=\"1\" class=\"dataframe\">\n",
              "  <thead>\n",
              "    <tr style=\"text-align: right;\">\n",
              "      <th></th>\n",
              "      <th>yr</th>\n",
              "      <th>holiday</th>\n",
              "      <th>workingday</th>\n",
              "      <th>temp</th>\n",
              "      <th>hum</th>\n",
              "      <th>windspeed</th>\n",
              "      <th>cnt</th>\n",
              "      <th>season_spring</th>\n",
              "      <th>season_summer</th>\n",
              "      <th>season_winter</th>\n",
              "      <th>mnth_august</th>\n",
              "      <th>mnth_december</th>\n",
              "      <th>mnth_february</th>\n",
              "      <th>mnth_january</th>\n",
              "      <th>mnth_july</th>\n",
              "      <th>mnth_june</th>\n",
              "      <th>mnth_march</th>\n",
              "      <th>mnth_may</th>\n",
              "      <th>mnth_november</th>\n",
              "      <th>mnth_october</th>\n",
              "      <th>mnth_september</th>\n",
              "      <th>weekday_monday</th>\n",
              "      <th>weekday_saturday</th>\n",
              "      <th>weekday_sunday</th>\n",
              "      <th>weekday_thursday</th>\n",
              "      <th>weekday_tuesday</th>\n",
              "      <th>weekday_wednesday</th>\n",
              "      <th>weathersit_cloudy</th>\n",
              "      <th>weathersit_light snow/rain</th>\n",
              "    </tr>\n",
              "  </thead>\n",
              "  <tbody>\n",
              "    <tr>\n",
              "      <th>184</th>\n",
              "      <td>0</td>\n",
              "      <td>1</td>\n",
              "      <td>0</td>\n",
              "      <td>0.832</td>\n",
              "      <td>0.657</td>\n",
              "      <td>0.084</td>\n",
              "      <td>0.693</td>\n",
              "      <td>0</td>\n",
              "      <td>0</td>\n",
              "      <td>0</td>\n",
              "      <td>0</td>\n",
              "      <td>0</td>\n",
              "      <td>0</td>\n",
              "      <td>0</td>\n",
              "      <td>1</td>\n",
              "      <td>0</td>\n",
              "      <td>0</td>\n",
              "      <td>0</td>\n",
              "      <td>0</td>\n",
              "      <td>0</td>\n",
              "      <td>0</td>\n",
              "      <td>0</td>\n",
              "      <td>0</td>\n",
              "      <td>0</td>\n",
              "      <td>0</td>\n",
              "      <td>0</td>\n",
              "      <td>1</td>\n",
              "      <td>1</td>\n",
              "      <td>0</td>\n",
              "    </tr>\n",
              "    <tr>\n",
              "      <th>535</th>\n",
              "      <td>1</td>\n",
              "      <td>0</td>\n",
              "      <td>1</td>\n",
              "      <td>0.901</td>\n",
              "      <td>0.610</td>\n",
              "      <td>0.154</td>\n",
              "      <td>0.712</td>\n",
              "      <td>0</td>\n",
              "      <td>1</td>\n",
              "      <td>0</td>\n",
              "      <td>0</td>\n",
              "      <td>0</td>\n",
              "      <td>0</td>\n",
              "      <td>0</td>\n",
              "      <td>0</td>\n",
              "      <td>1</td>\n",
              "      <td>0</td>\n",
              "      <td>0</td>\n",
              "      <td>0</td>\n",
              "      <td>0</td>\n",
              "      <td>0</td>\n",
              "      <td>0</td>\n",
              "      <td>0</td>\n",
              "      <td>0</td>\n",
              "      <td>0</td>\n",
              "      <td>0</td>\n",
              "      <td>0</td>\n",
              "      <td>0</td>\n",
              "      <td>0</td>\n",
              "    </tr>\n",
              "    <tr>\n",
              "      <th>299</th>\n",
              "      <td>0</td>\n",
              "      <td>0</td>\n",
              "      <td>1</td>\n",
              "      <td>0.512</td>\n",
              "      <td>0.838</td>\n",
              "      <td>0.334</td>\n",
              "      <td>0.303</td>\n",
              "      <td>0</td>\n",
              "      <td>0</td>\n",
              "      <td>1</td>\n",
              "      <td>0</td>\n",
              "      <td>0</td>\n",
              "      <td>0</td>\n",
              "      <td>0</td>\n",
              "      <td>0</td>\n",
              "      <td>0</td>\n",
              "      <td>0</td>\n",
              "      <td>0</td>\n",
              "      <td>0</td>\n",
              "      <td>1</td>\n",
              "      <td>0</td>\n",
              "      <td>0</td>\n",
              "      <td>1</td>\n",
              "      <td>0</td>\n",
              "      <td>0</td>\n",
              "      <td>0</td>\n",
              "      <td>0</td>\n",
              "      <td>1</td>\n",
              "      <td>0</td>\n",
              "    </tr>\n",
              "    <tr>\n",
              "      <th>221</th>\n",
              "      <td>0</td>\n",
              "      <td>0</td>\n",
              "      <td>1</td>\n",
              "      <td>0.882</td>\n",
              "      <td>0.437</td>\n",
              "      <td>0.340</td>\n",
              "      <td>0.547</td>\n",
              "      <td>0</td>\n",
              "      <td>0</td>\n",
              "      <td>0</td>\n",
              "      <td>1</td>\n",
              "      <td>0</td>\n",
              "      <td>0</td>\n",
              "      <td>0</td>\n",
              "      <td>0</td>\n",
              "      <td>0</td>\n",
              "      <td>0</td>\n",
              "      <td>0</td>\n",
              "      <td>0</td>\n",
              "      <td>0</td>\n",
              "      <td>0</td>\n",
              "      <td>0</td>\n",
              "      <td>0</td>\n",
              "      <td>0</td>\n",
              "      <td>0</td>\n",
              "      <td>0</td>\n",
              "      <td>0</td>\n",
              "      <td>0</td>\n",
              "      <td>0</td>\n",
              "    </tr>\n",
              "    <tr>\n",
              "      <th>152</th>\n",
              "      <td>0</td>\n",
              "      <td>0</td>\n",
              "      <td>1</td>\n",
              "      <td>0.817</td>\n",
              "      <td>0.314</td>\n",
              "      <td>0.537</td>\n",
              "      <td>0.569</td>\n",
              "      <td>0</td>\n",
              "      <td>1</td>\n",
              "      <td>0</td>\n",
              "      <td>0</td>\n",
              "      <td>0</td>\n",
              "      <td>0</td>\n",
              "      <td>0</td>\n",
              "      <td>0</td>\n",
              "      <td>1</td>\n",
              "      <td>0</td>\n",
              "      <td>0</td>\n",
              "      <td>0</td>\n",
              "      <td>0</td>\n",
              "      <td>0</td>\n",
              "      <td>0</td>\n",
              "      <td>1</td>\n",
              "      <td>0</td>\n",
              "      <td>0</td>\n",
              "      <td>0</td>\n",
              "      <td>0</td>\n",
              "      <td>0</td>\n",
              "      <td>0</td>\n",
              "    </tr>\n",
              "  </tbody>\n",
              "</table>\n",
              "</div>"
            ],
            "text/plain": [
              "     yr  holiday  workingday  temp   hum  windspeed   cnt  season_spring  \\\n",
              "184   0        1           0 0.832 0.657      0.084 0.693              0   \n",
              "535   1        0           1 0.901 0.610      0.154 0.712              0   \n",
              "299   0        0           1 0.512 0.838      0.334 0.303              0   \n",
              "221   0        0           1 0.882 0.437      0.340 0.547              0   \n",
              "152   0        0           1 0.817 0.314      0.537 0.569              0   \n",
              "\n",
              "     season_summer  season_winter  mnth_august  mnth_december  mnth_february  \\\n",
              "184              0              0            0              0              0   \n",
              "535              1              0            0              0              0   \n",
              "299              0              1            0              0              0   \n",
              "221              0              0            1              0              0   \n",
              "152              1              0            0              0              0   \n",
              "\n",
              "     mnth_january  mnth_july  mnth_june  mnth_march  mnth_may  mnth_november  \\\n",
              "184             0          1          0           0         0              0   \n",
              "535             0          0          1           0         0              0   \n",
              "299             0          0          0           0         0              0   \n",
              "221             0          0          0           0         0              0   \n",
              "152             0          0          1           0         0              0   \n",
              "\n",
              "     mnth_october  mnth_september  weekday_monday  weekday_saturday  \\\n",
              "184             0               0               0                 0   \n",
              "535             0               0               0                 0   \n",
              "299             1               0               0                 1   \n",
              "221             0               0               0                 0   \n",
              "152             0               0               0                 1   \n",
              "\n",
              "     weekday_sunday  weekday_thursday  weekday_tuesday  weekday_wednesday  \\\n",
              "184               0                 0                0                  1   \n",
              "535               0                 0                0                  0   \n",
              "299               0                 0                0                  0   \n",
              "221               0                 0                0                  0   \n",
              "152               0                 0                0                  0   \n",
              "\n",
              "     weathersit_cloudy  weathersit_light snow/rain  \n",
              "184                  1                           0  \n",
              "535                  0                           0  \n",
              "299                  1                           0  \n",
              "221                  0                           0  \n",
              "152                  0                           0  "
            ]
          },
          "metadata": {
            "tags": []
          },
          "execution_count": 224
        }
      ]
    },
    {
      "cell_type": "markdown",
      "metadata": {
        "id": "JLSkWH4QPmnX"
      },
      "source": [
        "### 12.2: Dividing into X and y"
      ]
    },
    {
      "cell_type": "markdown",
      "metadata": {
        "id": "UjjUwXiBPz56"
      },
      "source": [
        "#### Our target variable is cnt which is our y_test and all other features are X_test"
      ]
    },
    {
      "cell_type": "code",
      "metadata": {
        "id": "NaVE5ZoBPz5-"
      },
      "source": [
        "y_test = bike_test.pop('cnt')\n",
        "X_test = bike_test"
      ],
      "execution_count": null,
      "outputs": []
    },
    {
      "cell_type": "markdown",
      "metadata": {
        "id": "MuJm613cPmtk"
      },
      "source": [
        "Checking the dataset after dividing"
      ]
    },
    {
      "cell_type": "code",
      "metadata": {
        "id": "mAS_EZCaQBRj",
        "colab": {
          "base_uri": "https://localhost:8080/"
        },
        "outputId": "abe55bb0-5b6f-4d5f-fa76-65a0e2c57f30"
      },
      "source": [
        "X_test.columns"
      ],
      "execution_count": null,
      "outputs": [
        {
          "output_type": "execute_result",
          "data": {
            "text/plain": [
              "Index(['yr', 'holiday', 'workingday', 'temp', 'hum', 'windspeed',\n",
              "       'season_spring', 'season_summer', 'season_winter', 'mnth_august',\n",
              "       'mnth_december', 'mnth_february', 'mnth_january', 'mnth_july',\n",
              "       'mnth_june', 'mnth_march', 'mnth_may', 'mnth_november', 'mnth_october',\n",
              "       'mnth_september', 'weekday_monday', 'weekday_saturday',\n",
              "       'weekday_sunday', 'weekday_thursday', 'weekday_tuesday',\n",
              "       'weekday_wednesday', 'weathersit_cloudy', 'weathersit_light snow/rain'],\n",
              "      dtype='object')"
            ]
          },
          "metadata": {
            "tags": []
          },
          "execution_count": 226
        }
      ]
    },
    {
      "cell_type": "markdown",
      "metadata": {
        "id": "jaTMyDh1Wc1L"
      },
      "source": [
        "Dropping unwanted columns from the test dataset"
      ]
    },
    {
      "cell_type": "code",
      "metadata": {
        "id": "aYFpchYhbu24"
      },
      "source": [
        "X_train_rfe5 = X_train_rfe5.drop(['const'], axis=1)"
      ],
      "execution_count": null,
      "outputs": []
    },
    {
      "cell_type": "code",
      "metadata": {
        "id": "UsKQIklAWomH"
      },
      "source": [
        "test_col = X_train_rfe5.columns"
      ],
      "execution_count": null,
      "outputs": []
    },
    {
      "cell_type": "code",
      "metadata": {
        "id": "bTOXh1AyWqa7",
        "colab": {
          "base_uri": "https://localhost:8080/"
        },
        "outputId": "12be3b85-4fa4-4c26-e11b-6afd04dbaac9"
      },
      "source": [
        "test_col"
      ],
      "execution_count": null,
      "outputs": [
        {
          "output_type": "execute_result",
          "data": {
            "text/plain": [
              "Index(['yr', 'temp', 'windspeed', 'season_spring', 'season_summer',\n",
              "       'season_winter', 'mnth_july', 'mnth_september', 'weekday_tuesday',\n",
              "       'weathersit_cloudy', 'weathersit_light snow/rain'],\n",
              "      dtype='object')"
            ]
          },
          "metadata": {
            "tags": []
          },
          "execution_count": 229
        }
      ]
    },
    {
      "cell_type": "code",
      "metadata": {
        "id": "B7Y5Ll9iW279"
      },
      "source": [
        "X_test = X_test[test_col]"
      ],
      "execution_count": null,
      "outputs": []
    },
    {
      "cell_type": "markdown",
      "metadata": {
        "id": "haCydcDBVCAn"
      },
      "source": [
        "### 12.3: Prediction on test data set "
      ]
    },
    {
      "cell_type": "markdown",
      "metadata": {
        "id": "5wq-rT_eVRk_"
      },
      "source": [
        "First , lets add constant"
      ]
    },
    {
      "cell_type": "code",
      "metadata": {
        "id": "JpA_RzjMVRlC"
      },
      "source": [
        "X_test = sm.add_constant(X_test)"
      ],
      "execution_count": null,
      "outputs": []
    },
    {
      "cell_type": "markdown",
      "metadata": {
        "id": "0B43zLR-VRlK"
      },
      "source": [
        "Making predictions"
      ]
    },
    {
      "cell_type": "code",
      "metadata": {
        "id": "jYqY6A4EVRlL"
      },
      "source": [
        "y_test_cnt = lm5.predict(X_test)"
      ],
      "execution_count": null,
      "outputs": []
    },
    {
      "cell_type": "markdown",
      "metadata": {
        "id": "YuO007LacF9A"
      },
      "source": [
        "## Step 13: Model Evaluation "
      ]
    },
    {
      "cell_type": "markdown",
      "metadata": {
        "id": "NoFt_JiHcNCG"
      },
      "source": [
        "### 13.1: Here we will verify the assumptions again"
      ]
    },
    {
      "cell_type": "markdown",
      "metadata": {
        "id": "mSuRXqlYdXVE"
      },
      "source": [
        "Plotting histograms for error terms"
      ]
    },
    {
      "cell_type": "code",
      "metadata": {
        "id": "9aoBdsmUcWVO",
        "colab": {
          "base_uri": "https://localhost:8080/",
          "height": 333
        },
        "outputId": "997b57d6-710b-4a20-e563-15e9dc107139"
      },
      "source": [
        "fig = plt.figure()\n",
        "sns.distplot((y_test - y_test_cnt), bins = 20)\n",
        "fig.suptitle('Error Terms', fontsize = 20)     \n",
        "plt.xlabel('Errors', fontsize = 18) "
      ],
      "execution_count": null,
      "outputs": [
        {
          "output_type": "execute_result",
          "data": {
            "text/plain": [
              "Text(0.5, 0, 'Errors')"
            ]
          },
          "metadata": {
            "tags": []
          },
          "execution_count": 233
        },
        {
          "output_type": "display_data",
          "data": {
            "image/png": "[encoded data removed]",
            "text/plain": [
              "<Figure size 432x288 with 1 Axes>"
            ]
          },
          "metadata": {
            "tags": [],
            "needs_background": "light"
          }
        }
      ]
    },
    {
      "cell_type": "markdown",
      "metadata": {
        "id": "xfgSwX8gdapi"
      },
      "source": [
        "###Insights: Again we verify that error terms are normally distributed"
      ]
    },
    {
      "cell_type": "markdown",
      "metadata": {
        "id": "xXP8fw6xdg6f"
      },
      "source": [
        "Plotting scatter plot for checking heteroscedasticity"
      ]
    },
    {
      "cell_type": "code",
      "metadata": {
        "id": "CFiBHeBvObsu",
        "colab": {
          "base_uri": "https://localhost:8080/",
          "height": 351
        },
        "outputId": "7deeea38-f4dc-488f-b94b-2d5f237f2dbf"
      },
      "source": [
        "plt.subplots(figsize=(10,5))\n",
        "plt.subplot(1,2,1)\n",
        "plt.scatter(y_test_cnt, (y_test-y_test_cnt))\n",
        "plt.xlabel(\"Fitted values\")\n",
        "plt.ylabel(\"Residuals\")"
      ],
      "execution_count": null,
      "outputs": [
        {
          "output_type": "execute_result",
          "data": {
            "text/plain": [
              "Text(0, 0.5, 'Residuals')"
            ]
          },
          "metadata": {
            "tags": []
          },
          "execution_count": 234
        },
        {
          "output_type": "display_data",
          "data": {
            "image/png": "[encoded data removed]",
            "text/plain": [
              "<Figure size 720x360 with 1 Axes>"
            ]
          },
          "metadata": {
            "tags": [],
            "needs_background": "light"
          }
        }
      ]
    },
    {
      "cell_type": "markdown",
      "metadata": {
        "id": "nOTIwlT4dwSA"
      },
      "source": [
        "###Insights: Again we verify that there is no heteroscedasticity"
      ]
    },
    {
      "cell_type": "markdown",
      "metadata": {
        "id": "-hJPIxjYn0-3"
      },
      "source": [
        "###13.2 : Checking the R2 value for train data "
      ]
    },
    {
      "cell_type": "code",
      "metadata": {
        "id": "Ntd_IcYhn3l6",
        "colab": {
          "base_uri": "https://localhost:8080/"
        },
        "outputId": "61051cd6-0813-4beb-da29-5fc2c4921735"
      },
      "source": [
        "train_r2 = r2_score(y_train,y_train_cnt)\n",
        "print(train_r2)"
      ],
      "execution_count": null,
      "outputs": [
        {
          "output_type": "stream",
          "text": [
            "0.8360233701515918\n"
          ],
          "name": "stdout"
        }
      ]
    },
    {
      "cell_type": "markdown",
      "metadata": {
        "id": "vpqa4FKVd3HG"
      },
      "source": [
        "###13.3: Checking the R2 value for test data "
      ]
    },
    {
      "cell_type": "code",
      "metadata": {
        "id": "yM1X7Izrd693",
        "colab": {
          "base_uri": "https://localhost:8080/"
        },
        "outputId": "e81f6380-5b6f-4e87-d921-91da2d31c45c"
      },
      "source": [
        "test_r2 = r2_score(y_test,y_test_cnt)\n",
        "print(test_r2)"
      ],
      "execution_count": null,
      "outputs": [
        {
          "output_type": "stream",
          "text": [
            "0.805407680173852\n"
          ],
          "name": "stdout"
        }
      ]
    },
    {
      "cell_type": "markdown",
      "metadata": {
        "id": "WFUwAEDQev4q"
      },
      "source": [
        "###Insights: Our R2 Value for train data set is 0.836(83.6%) and test data set is 0.805(80.5%) , There difference is 3.1% which is acceptable "
      ]
    },
    {
      "cell_type": "markdown",
      "metadata": {
        "id": "y_TVSRNEfMp6"
      },
      "source": [
        "###13.4 : Calculate the adjusted R2 value "
      ]
    },
    {
      "cell_type": "markdown",
      "metadata": {
        "id": "Sq049bU5fRM8"
      },
      "source": [
        "Formula for adjusted R2 is \n",
        "\n",
        "***R2adj =1−(1−R2)∗ n−1/n−p−1***"
      ]
    },
    {
      "cell_type": "markdown",
      "metadata": {
        "id": "78k9TjkcoDgO"
      },
      "source": [
        "Checking adjusted R2 for train data "
      ]
    },
    {
      "cell_type": "code",
      "metadata": {
        "id": "iFK2Y6WCoIqk",
        "colab": {
          "base_uri": "https://localhost:8080/"
        },
        "outputId": "27861d56-7d4d-427f-bd2b-08a06dcc7849"
      },
      "source": [
        "n = X_train.shape[0]\n",
        "p = X_train.shape[1]\n",
        "\n",
        "train_adjusted_r2 = 1-(1-train_r2)*(n-1)/(n-p-1)\n",
        "print(train_adjusted_r2)"
      ],
      "execution_count": null,
      "outputs": [
        {
          "output_type": "stream",
          "text": [
            "0.826477953029439\n"
          ],
          "name": "stdout"
        }
      ]
    },
    {
      "cell_type": "markdown",
      "metadata": {
        "id": "r2YbbRxyn_NZ"
      },
      "source": [
        "Checking adjusted R2 for test data "
      ]
    },
    {
      "cell_type": "code",
      "metadata": {
        "id": "xWe0LQA9gBaG",
        "colab": {
          "base_uri": "https://localhost:8080/"
        },
        "outputId": "c26d28dc-b06f-4a9a-b5cc-2fd38753f6e2"
      },
      "source": [
        "n = X_test.shape[0]\n",
        "p = X_test.shape[1]\n",
        "\n",
        "test_adjusted_r2 = 1-(1-test_r2)*(n-1)/(n-p-1)\n",
        "print(test_adjusted_r2)"
      ],
      "execution_count": null,
      "outputs": [
        {
          "output_type": "stream",
          "text": [
            "0.794072205232523\n"
          ],
          "name": "stdout"
        }
      ]
    },
    {
      "cell_type": "markdown",
      "metadata": {
        "id": "myagYC3r3n8r"
      },
      "source": [
        "Taking means of the test and train predicted data "
      ]
    },
    {
      "cell_type": "code",
      "metadata": {
        "id": "uvBBpDD43vzL",
        "colab": {
          "base_uri": "https://localhost:8080/"
        },
        "outputId": "b9d63546-25f2-40cc-a7df-be437d875be9"
      },
      "source": [
        "round((y_test-y_test_cnt).mean(),2)"
      ],
      "execution_count": null,
      "outputs": [
        {
          "output_type": "execute_result",
          "data": {
            "text/plain": [
              "0.0"
            ]
          },
          "metadata": {
            "tags": []
          },
          "execution_count": 239
        }
      ]
    },
    {
      "cell_type": "code",
      "metadata": {
        "id": "zbcnwnZA3tF0",
        "colab": {
          "base_uri": "https://localhost:8080/"
        },
        "outputId": "8668655b-f80f-4e13-ce12-c0ef5652d58b"
      },
      "source": [
        "round((y_train-y_train_cnt).mean(),2)"
      ],
      "execution_count": null,
      "outputs": [
        {
          "output_type": "execute_result",
          "data": {
            "text/plain": [
              "0.0"
            ]
          },
          "metadata": {
            "tags": []
          },
          "execution_count": 240
        }
      ]
    },
    {
      "cell_type": "markdown",
      "metadata": {
        "id": "0pz_XCY84MUV"
      },
      "source": [
        "###Insights: The residual means are  0.0 "
      ]
    },
    {
      "cell_type": "markdown",
      "metadata": {
        "id": "icidZ9tloboH"
      },
      "source": [
        "###Insights: Our adjusted R2 for train data set is 82% and for test data is 79.4% , There fore the difference is 3.2% which is satisfactory "
      ]
    },
    {
      "cell_type": "markdown",
      "metadata": {
        "id": "DIT24fprzRPP"
      },
      "source": [
        "####Equation of best fitted line is : \n",
        "cnt=(0.2338 × yr) - (0.1498 × windspeed) + (0.4923 x Temp) + (0.0680 × season4) + (0.0467 x season_summer) + (0.0831 x season_winter) - (0.0486 x mnth_july) +  (0.0721 x mnth_september) - (0.0451 x weekday_tuesday) - (0.816 x weathersit_cloudy) - (0.2856 x weathersit_light_snow/rain)"
      ]
    },
    {
      "cell_type": "markdown",
      "metadata": {
        "id": "p56S5smhoz4Y"
      },
      "source": [
        "### 13.6 : Insights: Our top predictor variables are \n",
        "1. Temp with coefficient of  0.4923 ,means cnt increases by 0.4923 units if  one unit increases in temp\n",
        "2.  weathersit_light snow/rain (Light Snow, Light Rain + Thunderstorm + Scattered clouds, Light Rain + Scattered clouds) with coefficient of -0.2856 ,means cnt decreases by -0.2856 units if  one unit increases in weathersit_3\n",
        "3. yr with coefficient of 0.2338 , means cnt increases by 0.2338 units if  one unit increases in year"
      ]
    },
    {
      "cell_type": "markdown",
      "metadata": {
        "id": "h4AtS44-mLxJ"
      },
      "source": [
        ""
      ]
    }
  ]
}